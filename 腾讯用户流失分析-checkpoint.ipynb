{
 "cells": [
  {
   "cell_type": "markdown",
   "id": "a1e7c726",
   "metadata": {},
   "source": [
    "## 1.业务背景"
   ]
  },
  {
   "cell_type": "markdown",
   "id": "3a4c924f",
   "metadata": {},
   "source": [
    "在本次实战项目中，我们将对腾讯教育的用户流失情况进行分析，以此来制定流失用户的挽回策略。用户流失的成本包括损失的收入和新用户的营销成本，预测和防止用户流失对每个企业来说都是巨大的潜在收入来源，也是每一家互联网企业的关键业务目标。\n",
    "\n",
    "因此，我们的工作是对用户数据进行深度挖掘，并构建相应的模型来预测用户的流失率。"
   ]
  },
  {
   "cell_type": "markdown",
   "id": "876c9467",
   "metadata": {},
   "source": [
    "## 2.解决思路"
   ]
  },
  {
   "cell_type": "markdown",
   "id": "32c7dd89",
   "metadata": {},
   "source": [
    "预测用户是否流失的问题，是一个分类问题，需要建模找到数据的决策边界，选择建模的模型可以\n",
    "是决策树，和逻辑回归等，建完模型后可以选择roc_auc_score的函数进行模型评估"
   ]
  },
  {
   "cell_type": "markdown",
   "id": "91c22395",
   "metadata": {},
   "source": [
    "## 3.数据概况分析"
   ]
  },
  {
   "cell_type": "markdown",
   "id": "a298c38e",
   "metadata": {},
   "source": [
    "### 3.1数据源分析"
   ]
  },
  {
   "cell_type": "code",
   "execution_count": 1,
   "id": "ffd5e3a2",
   "metadata": {},
   "outputs": [],
   "source": [
    "import numpy as np\n",
    "import seaborn as sns\n",
    "import pandas as pd\n",
    "import matplotlib.pyplot as plt\n",
    "%matplotlib inline"
   ]
  },
  {
   "cell_type": "code",
   "execution_count": 2,
   "id": "9e671aeb",
   "metadata": {},
   "outputs": [],
   "source": [
    "plt.rcParams['font.sans-serif']=['simhei']\n",
    "plt.rcParams['axes.unicode_minus']=False"
   ]
  },
  {
   "cell_type": "code",
   "execution_count": 3,
   "id": "bf65885d",
   "metadata": {},
   "outputs": [],
   "source": [
    "df_area=pd.read_csv('areas.csv')\n",
    "df_user=pd.read_csv('users.csv')\n",
    "df_content=pd.read_csv('content.csv')\n",
    "df_log=pd.read_csv('log_data.csv')"
   ]
  },
  {
   "cell_type": "code",
   "execution_count": 4,
   "id": "4c9f3172",
   "metadata": {},
   "outputs": [],
   "source": [
    "def get_base_info(data):\n",
    "    print('-------------------------数据的前五行-------------------------')\n",
    "    print(data.head())\n",
    "    print('\\n-------------------------数据的基本信息-------------------------')\n",
    "    print(data.info())\n",
    "    print('\\n-------------------------数据的重复值个数-------------------------')\n",
    "    print(sum(data.duplicated()))\n",
    "    print('\\n-------------------------数据的基本统计信息-------------------------')\n",
    "    print(data.describe())"
   ]
  },
  {
   "cell_type": "markdown",
   "id": "7e28ce38",
   "metadata": {},
   "source": [
    "#### 3.1.1 df_area"
   ]
  },
  {
   "cell_type": "code",
   "execution_count": 5,
   "id": "91b6ed01",
   "metadata": {},
   "outputs": [
    {
     "name": "stdout",
     "output_type": "stream",
     "text": [
      "-------------------------数据的前五行-------------------------\n",
      "      region_id region       city  isMainland  machine_rate\n",
      "0    ap-bangkok     ap    bangkok           0          0.48\n",
      "1    ap-beijing     ap    beijing           1          0.39\n",
      "2    ap-chengdu     ap    chengdu           1          0.33\n",
      "3  ap-chongqing     ap  chongqing           1          0.39\n",
      "4  ap-guangzhou     ap  guangzhou           1          0.31\n",
      "\n",
      "-------------------------数据的基本信息-------------------------\n",
      "<class 'pandas.core.frame.DataFrame'>\n",
      "RangeIndex: 16 entries, 0 to 15\n",
      "Data columns (total 5 columns):\n",
      " #   Column        Non-Null Count  Dtype  \n",
      "---  ------        --------------  -----  \n",
      " 0   region_id     16 non-null     object \n",
      " 1   region        16 non-null     object \n",
      " 2   city          16 non-null     object \n",
      " 3   isMainland    16 non-null     int64  \n",
      " 4   machine_rate  16 non-null     float64\n",
      "dtypes: float64(1), int64(1), object(3)\n",
      "memory usage: 768.0+ bytes\n",
      "None\n",
      "\n",
      "-------------------------数据的重复值个数-------------------------\n",
      "0\n",
      "\n",
      "-------------------------数据的基本统计信息-------------------------\n",
      "       isMainland  machine_rate\n",
      "count   16.000000     16.000000\n",
      "mean     0.312500      0.369375\n",
      "std      0.478714      0.056269\n",
      "min      0.000000      0.310000\n",
      "25%      0.000000      0.327500\n",
      "50%      0.000000      0.350000\n",
      "75%      1.000000      0.390000\n",
      "max      1.000000      0.480000\n"
     ]
    }
   ],
   "source": [
    "get_base_info(df_area)"
   ]
  },
  {
   "cell_type": "markdown",
   "id": "bc67cfb3",
   "metadata": {},
   "source": [
    "该数据涉及大陆与分大陆共16地区\n",
    "\n",
    "大陆地区占比0.312"
   ]
  },
  {
   "cell_type": "markdown",
   "id": "1242d656",
   "metadata": {},
   "source": [
    "#### 3.1.2 df_user"
   ]
  },
  {
   "cell_type": "code",
   "execution_count": 6,
   "id": "2ce8c59b",
   "metadata": {},
   "outputs": [
    {
     "name": "stdout",
     "output_type": "stream",
     "text": [
      "-------------------------数据的前五行-------------------------\n",
      "       userId gender connection_point            location\n",
      "0  6296964609      M       ap-beijing       Unknown,HeBei\n",
      "1  6249718201      M     ap-guangzhou   Unknown,GuangDong\n",
      "2  9687257104      F     ap-guangzhou    ZhuHai,GuangDong\n",
      "3  6705948176      F     ap-guangzhou  ShenZhen,GuangDong\n",
      "4  1590277376      M      ap-shanghai      ChangSha,HuNan\n",
      "\n",
      "-------------------------数据的基本信息-------------------------\n",
      "<class 'pandas.core.frame.DataFrame'>\n",
      "RangeIndex: 225 entries, 0 to 224\n",
      "Data columns (total 4 columns):\n",
      " #   Column            Non-Null Count  Dtype \n",
      "---  ------            --------------  ----- \n",
      " 0   userId            225 non-null    int64 \n",
      " 1   gender            225 non-null    object\n",
      " 2   connection_point  225 non-null    object\n",
      " 3   location          225 non-null    object\n",
      "dtypes: int64(1), object(3)\n",
      "memory usage: 7.2+ KB\n",
      "None\n",
      "\n",
      "-------------------------数据的重复值个数-------------------------\n",
      "0\n",
      "\n",
      "-------------------------数据的基本统计信息-------------------------\n",
      "             userId\n",
      "count  2.250000e+02\n",
      "mean   4.979370e+09\n",
      "std    2.905600e+09\n",
      "min    7.352321e+06\n",
      "25%    2.267374e+09\n",
      "50%    5.045304e+09\n",
      "75%    7.386532e+09\n",
      "max    9.985183e+09\n"
     ]
    }
   ],
   "source": [
    "get_base_info(df_user)"
   ]
  },
  {
   "cell_type": "code",
   "execution_count": 7,
   "id": "dd80f5b2",
   "metadata": {},
   "outputs": [
    {
     "data": {
      "text/plain": [
       "M    121\n",
       "F    104\n",
       "Name: gender, dtype: int64"
      ]
     },
     "execution_count": 7,
     "metadata": {},
     "output_type": "execute_result"
    }
   ],
   "source": [
    "df_user.gender.value_counts()"
   ]
  },
  {
   "cell_type": "code",
   "execution_count": 8,
   "id": "437d978c",
   "metadata": {},
   "outputs": [
    {
     "data": {
      "text/plain": [
       "ap-shanghai     97\n",
       "ap-guangzhou    78\n",
       "ap-beijing      49\n",
       "ap-tokyo         1\n",
       "Name: connection_point, dtype: int64"
      ]
     },
     "execution_count": 8,
     "metadata": {},
     "output_type": "execute_result"
    }
   ],
   "source": [
    "df_user.connection_point.value_counts()"
   ]
  },
  {
   "cell_type": "code",
   "execution_count": 9,
   "id": "b148606e",
   "metadata": {},
   "outputs": [
    {
     "data": {
      "text/plain": [
       "Unknown,GuangDong     10\n",
       "ShenZhen,GuangDong     9\n",
       "BeiJing,BeiJing        9\n",
       "ChengDu,SiChuan        8\n",
       "HangZhou,ZheJiang      7\n",
       "                      ..\n",
       "ChangSha,GuiZhou       1\n",
       "LaiWu,ShanDong         1\n",
       "FuXin,LiaoNing         1\n",
       "ChangChun,LiaoNing     1\n",
       "Unknown,NingXia        1\n",
       "Name: location, Length: 95, dtype: int64"
      ]
     },
     "execution_count": 9,
     "metadata": {},
     "output_type": "execute_result"
    }
   ],
   "source": [
    "df_user.location.value_counts()"
   ]
  },
  {
   "cell_type": "markdown",
   "id": "432c36e2",
   "metadata": {},
   "source": [
    "users表包含255个用户，其中男性用户有121人，女性用户有104人\n",
    "\n",
    "用户链接节点主要分布在大陆，其中上海节点的用户最多\n",
    "\n",
    "为方便后续处理，location中的省份和城市需要进行数据分割"
   ]
  },
  {
   "cell_type": "code",
   "execution_count": 10,
   "id": "03811f08",
   "metadata": {},
   "outputs": [],
   "source": [
    "user_location=df_user['location'].str.split(',',expand=True)\n",
    "user_location=user_location.rename(columns={0:'city',1:'province'})\n",
    "df_user=df_user.join(user_location).drop('location',axis=1)"
   ]
  },
  {
   "cell_type": "code",
   "execution_count": 11,
   "id": "4312f96d",
   "metadata": {},
   "outputs": [
    {
     "data": {
      "text/plain": [
       "Unknown      54\n",
       "ShenZhen      9\n",
       "BeiJing       9\n",
       "ChengDu       8\n",
       "HangZhou      7\n",
       "             ..\n",
       "YuXi          1\n",
       "LaiWu         1\n",
       "ZhuZhou       1\n",
       "FuXin         1\n",
       "ChangZhou     1\n",
       "Name: city, Length: 76, dtype: int64"
      ]
     },
     "execution_count": 11,
     "metadata": {},
     "output_type": "execute_result"
    }
   ],
   "source": [
    "df_user['city'].value_counts()"
   ]
  },
  {
   "cell_type": "code",
   "execution_count": 12,
   "id": "758f4d65",
   "metadata": {},
   "outputs": [
    {
     "data": {
      "text/plain": [
       "GuangDong       30\n",
       "HeNan           22\n",
       "ZheJiang        19\n",
       "SiChuan         18\n",
       "JiangSu         13\n",
       "HeBei           12\n",
       "LiaoNing        11\n",
       "BeiJing          9\n",
       "ShanDong         8\n",
       "GuangXi          8\n",
       "HuNan            7\n",
       "GuiZhou          7\n",
       "ShanXi           7\n",
       "JiLin            7\n",
       "ShangHai         7\n",
       "YunNan           6\n",
       "HuBei            6\n",
       "ZhongQing        5\n",
       "FuJian           5\n",
       "AnHui            5\n",
       "GanSu            3\n",
       "JiangXi          3\n",
       "HeiLongJiang     2\n",
       "QingHai          2\n",
       "HaiNan           1\n",
       "tokyo            1\n",
       "NingXia          1\n",
       "Name: province, dtype: int64"
      ]
     },
     "execution_count": 12,
     "metadata": {},
     "output_type": "execute_result"
    }
   ],
   "source": [
    "df_user['province'].value_counts()"
   ]
  },
  {
   "cell_type": "markdown",
   "id": "ff1fdcae",
   "metadata": {},
   "source": [
    "大部分用户的城市信息未知\n",
    "\n",
    "用户所在省份，最多的为广东，其次为河北、浙江和四川"
   ]
  },
  {
   "cell_type": "markdown",
   "id": "62227f4a",
   "metadata": {},
   "source": [
    "#### 3.1.3 df_content"
   ]
  },
  {
   "cell_type": "code",
   "execution_count": 13,
   "id": "ace5397f",
   "metadata": {},
   "outputs": [
    {
     "name": "stdout",
     "output_type": "stream",
     "text": [
      "-------------------------数据的前五行-------------------------\n",
      "                            content                            author  \\\n",
      "0  07404dd468cd9a14960abcd0c7d1cbf2  881dd848a34ddde0abe6d706aed51831   \n",
      "1  445d337b5cd5de476f99333df6b0c2a7  edd45efdf8f56aaa0b2fd1eb9903625a   \n",
      "2  0835fe289912f17da4409b5c0bfaf12a  54d7dfd552c8a4e8c2fd158c11d52fb8   \n",
      "3  7e851ac7201f8557d9ef55aa10684b17  35af2b0cb093ae740ed4e7589938e8ac   \n",
      "4  99ae43f8e4a9b700e548feb34deb73b6  8ee2c0adee9548498ef22cba1e90a49c   \n",
      "\n",
      "      length level  \n",
      "0  277.89016  paid  \n",
      "1  236.09424  free  \n",
      "2  282.82730  paid  \n",
      "3  262.71302  free  \n",
      "4  223.60771  paid  \n",
      "\n",
      "-------------------------数据的基本信息-------------------------\n",
      "<class 'pandas.core.frame.DataFrame'>\n",
      "RangeIndex: 58475 entries, 0 to 58474\n",
      "Data columns (total 4 columns):\n",
      " #   Column   Non-Null Count  Dtype  \n",
      "---  ------   --------------  -----  \n",
      " 0   content  58475 non-null  object \n",
      " 1   author   58475 non-null  object \n",
      " 2   length   58475 non-null  float64\n",
      " 3   level    58475 non-null  object \n",
      "dtypes: float64(1), object(3)\n",
      "memory usage: 1.8+ MB\n",
      "None\n",
      "\n",
      "-------------------------数据的重复值个数-------------------------\n",
      "0\n",
      "\n",
      "-------------------------数据的基本统计信息-------------------------\n",
      "             length\n",
      "count  58475.000000\n",
      "mean     247.880992\n",
      "std      106.614884\n",
      "min        0.783220\n",
      "25%      192.887710\n",
      "50%      232.750570\n",
      "75%      280.711380\n",
      "max     3024.665670\n"
     ]
    }
   ],
   "source": [
    "get_base_info(df_content)"
   ]
  },
  {
   "cell_type": "code",
   "execution_count": 14,
   "id": "92536f16",
   "metadata": {},
   "outputs": [
    {
     "data": {
      "text/plain": [
       "58475"
      ]
     },
     "execution_count": 14,
     "metadata": {},
     "output_type": "execute_result"
    }
   ],
   "source": [
    "df_content.content.nunique()"
   ]
  },
  {
   "cell_type": "code",
   "execution_count": 15,
   "id": "25e63cb6",
   "metadata": {},
   "outputs": [
    {
     "data": {
      "text/plain": [
       "16502"
      ]
     },
     "execution_count": 15,
     "metadata": {},
     "output_type": "execute_result"
    }
   ],
   "source": [
    "df_content.author.nunique()"
   ]
  },
  {
   "cell_type": "code",
   "execution_count": 16,
   "id": "af1914d8",
   "metadata": {},
   "outputs": [
    {
     "data": {
      "text/plain": [
       "count    16502.000000\n",
       "mean         3.543510\n",
       "std          5.562675\n",
       "min          1.000000\n",
       "25%          1.000000\n",
       "50%          1.000000\n",
       "75%          3.000000\n",
       "max         74.000000\n",
       "Name: content, dtype: float64"
      ]
     },
     "execution_count": 16,
     "metadata": {},
     "output_type": "execute_result"
    }
   ],
   "source": [
    "df_content.groupby('author')['content'].nunique().describe()"
   ]
  },
  {
   "cell_type": "code",
   "execution_count": 17,
   "id": "65fd6ec9",
   "metadata": {},
   "outputs": [
    {
     "data": {
      "text/plain": [
       "<AxesSubplot:ylabel='Frequency'>"
      ]
     },
     "execution_count": 17,
     "metadata": {},
     "output_type": "execute_result"
    },
    {
     "data": {
      "image/png": "[encoded data removed]",
      "text/plain": [
       "<Figure size 432x288 with 1 Axes>"
      ]
     },
     "metadata": {
      "needs_background": "light"
     },
     "output_type": "display_data"
    }
   ],
   "source": [
    "df_content.groupby('author')['content'].nunique().plot(kind='hist')"
   ]
  },
  {
   "cell_type": "code",
   "execution_count": 18,
   "id": "426e5864",
   "metadata": {},
   "outputs": [
    {
     "data": {
      "text/plain": [
       "count    58475.000000\n",
       "mean       247.880992\n",
       "std        106.614884\n",
       "min          0.783220\n",
       "25%        192.887710\n",
       "50%        232.750570\n",
       "75%        280.711380\n",
       "max       3024.665670\n",
       "Name: length, dtype: float64"
      ]
     },
     "execution_count": 18,
     "metadata": {},
     "output_type": "execute_result"
    }
   ],
   "source": [
    "df_content.length.describe()"
   ]
  },
  {
   "cell_type": "code",
   "execution_count": 19,
   "id": "bc542e3f",
   "metadata": {},
   "outputs": [
    {
     "data": {
      "text/plain": [
       "<AxesSubplot:ylabel='Frequency'>"
      ]
     },
     "execution_count": 19,
     "metadata": {},
     "output_type": "execute_result"
    },
    {
     "data": {
      "image/png": "[encoded data removed]",
      "text/plain": [
       "<Figure size 432x288 with 1 Axes>"
      ]
     },
     "metadata": {
      "needs_background": "light"
     },
     "output_type": "display_data"
    }
   ],
   "source": [
    "df_content.length.plot(kind='hist')"
   ]
  },
  {
   "cell_type": "code",
   "execution_count": 20,
   "id": "ea2e1769",
   "metadata": {},
   "outputs": [
    {
     "data": {
      "text/plain": [
       "paid    0.78372\n",
       "free    0.21628\n",
       "Name: level, dtype: float64"
      ]
     },
     "execution_count": 20,
     "metadata": {},
     "output_type": "execute_result"
    }
   ],
   "source": [
    "df_content.level.value_counts(1)"
   ]
  },
  {
   "cell_type": "markdown",
   "id": "c8427cf5",
   "metadata": {},
   "source": [
    "总共有58475个内容，分别属于16502个作者\n",
    "\n",
    "平均每个作者产出3.54条内容，绝大多数作者产出的内容在10条以内\n",
    "\n",
    "内容的平均时长为247.88，绝大多数时间在500以内\n",
    "\n",
    "付费内容的占比约为78.4%"
   ]
  },
  {
   "cell_type": "markdown",
   "id": "051f08d5",
   "metadata": {},
   "source": [
    "#### 3.1.4 df_log"
   ]
  },
  {
   "cell_type": "code",
   "execution_count": 21,
   "id": "4672b34f",
   "metadata": {},
   "outputs": [
    {
     "name": "stdout",
     "output_type": "stream",
     "text": [
      "-------------------------数据的前五行-------------------------\n",
      "       userId                           content page status            ts  \\\n",
      "0  6296964609  07404dd468cd9a14960abcd0c7d1cbf2   点击   请求成功  1.588291e+09   \n",
      "1  6249718201  445d337b5cd5de476f99333df6b0c2a7   点击   请求成功  1.588291e+09   \n",
      "2  6296964609  0835fe289912f17da4409b5c0bfaf12a   点击   请求成功  1.588292e+09   \n",
      "3  6249718201  7e851ac7201f8557d9ef55aa10684b17   点击   请求成功  1.588292e+09   \n",
      "4  6296964609  99ae43f8e4a9b700e548feb34deb73b6   点击   请求成功  1.588292e+09   \n",
      "\n",
      "                                           userAgent  \n",
      "0  Mozilla/5.0 (Windows NT 6.1; WOW64; rv:31.0) G...  \n",
      "1  \\Mozilla/5.0 (Windows NT 6.1; WOW64) AppleWebK...  \n",
      "2  Mozilla/5.0 (Windows NT 6.1; WOW64; rv:31.0) G...  \n",
      "3  \\Mozilla/5.0 (Windows NT 6.1; WOW64) AppleWebK...  \n",
      "4  Mozilla/5.0 (Windows NT 6.1; WOW64; rv:31.0) G...  \n",
      "\n",
      "-------------------------数据的基本信息-------------------------\n",
      "<class 'pandas.core.frame.DataFrame'>\n",
      "RangeIndex: 278154 entries, 0 to 278153\n",
      "Data columns (total 6 columns):\n",
      " #   Column     Non-Null Count   Dtype  \n",
      "---  ------     --------------   -----  \n",
      " 0   userId     278154 non-null  int64  \n",
      " 1   content    228108 non-null  object \n",
      " 2   page       278154 non-null  object \n",
      " 3   status     278154 non-null  object \n",
      " 4   ts         278154 non-null  float64\n",
      " 5   userAgent  278154 non-null  object \n",
      "dtypes: float64(1), int64(1), object(4)\n",
      "memory usage: 12.7+ MB\n",
      "None\n",
      "\n",
      "-------------------------数据的重复值个数-------------------------\n",
      "20\n",
      "\n",
      "-------------------------数据的基本统计信息-------------------------\n",
      "             userId            ts\n",
      "count  2.781540e+05  2.781540e+05\n",
      "mean   4.923446e+09  1.590898e+09\n",
      "std    2.741819e+09  1.506829e+06\n",
      "min    7.352321e+06  1.588291e+09\n",
      "25%    2.723243e+09  1.589638e+09\n",
      "50%    4.949879e+09  1.590874e+09\n",
      "75%    7.115396e+09  1.592207e+09\n",
      "max    9.985183e+09  1.593739e+09\n"
     ]
    }
   ],
   "source": [
    "get_base_info(df_log)"
   ]
  },
  {
   "cell_type": "code",
   "execution_count": 22,
   "id": "f07c0f16",
   "metadata": {},
   "outputs": [
    {
     "data": {
      "text/plain": [
       "225"
      ]
     },
     "execution_count": 22,
     "metadata": {},
     "output_type": "execute_result"
    }
   ],
   "source": [
    "df_log.userId.nunique()"
   ]
  },
  {
   "cell_type": "code",
   "execution_count": 23,
   "id": "57e7853c",
   "metadata": {},
   "outputs": [
    {
     "data": {
      "text/plain": [
       "58475"
      ]
     },
     "execution_count": 23,
     "metadata": {},
     "output_type": "execute_result"
    }
   ],
   "source": [
    "df_log.content.nunique()"
   ]
  },
  {
   "cell_type": "code",
   "execution_count": 24,
   "id": "48f4a8d7",
   "metadata": {},
   "outputs": [
    {
     "data": {
      "text/plain": [
       "<AxesSubplot:>"
      ]
     },
     "execution_count": 24,
     "metadata": {},
     "output_type": "execute_result"
    },
    {
     "data": {
      "image/png": "[encoded data removed]",
      "text/plain": [
       "<Figure size 432x288 with 1 Axes>"
      ]
     },
     "metadata": {
      "needs_background": "light"
     },
     "output_type": "display_data"
    }
   ],
   "source": [
    "df_log.page.value_counts().plot(kind='barh')"
   ]
  },
  {
   "cell_type": "code",
   "execution_count": 25,
   "id": "f35d3b0a",
   "metadata": {},
   "outputs": [
    {
     "data": {
      "text/plain": [
       "<AxesSubplot:>"
      ]
     },
     "execution_count": 25,
     "metadata": {},
     "output_type": "execute_result"
    },
    {
     "data": {
      "image/png": "[encoded data removed]",
      "text/plain": [
       "<Figure size 432x288 with 1 Axes>"
      ]
     },
     "metadata": {
      "needs_background": "light"
     },
     "output_type": "display_data"
    }
   ],
   "source": [
    "df_log.status.value_counts().plot(kind='bar')"
   ]
  },
  {
   "cell_type": "code",
   "execution_count": 26,
   "id": "0becf4e2",
   "metadata": {},
   "outputs": [],
   "source": [
    "#将unixtime修改为datetime\n",
    "df_log['ts']=pd.to_datetime(df_log['ts'],unit='s')"
   ]
  },
  {
   "cell_type": "code",
   "execution_count": 27,
   "id": "59470bf7",
   "metadata": {},
   "outputs": [],
   "source": [
    "df_log['date']=df_log['ts'].dt.date\n",
    "df_log['weekday']=df_log['ts'].dt.weekday\n",
    "df_log['hour']=df_log['ts'].dt.hour"
   ]
  },
  {
   "cell_type": "code",
   "execution_count": 28,
   "id": "9ef320e9",
   "metadata": {},
   "outputs": [
    {
     "data": {
      "text/plain": [
       "<AxesSubplot:>"
      ]
     },
     "execution_count": 28,
     "metadata": {},
     "output_type": "execute_result"
    },
    {
     "data": {
      "image/png": "[encoded data removed]",
      "text/plain": [
       "<Figure size 720x360 with 1 Axes>"
      ]
     },
     "metadata": {
      "needs_background": "light"
     },
     "output_type": "display_data"
    }
   ],
   "source": [
    "plt.figure(figsize=(10,5))\n",
    "df_log['date'].value_counts().plot(kind='line')"
   ]
  },
  {
   "cell_type": "code",
   "execution_count": 29,
   "id": "1590b286",
   "metadata": {},
   "outputs": [],
   "source": [
    "weekday_dict={0:'Mon.',1:'Tues.',2:'Wed.',3:'Thur',4:'Fri.',5:'Sat.',6:'Sun.'}\n",
    "df_log['weekday']=df_log['weekday'].map(weekday_dict)"
   ]
  },
  {
   "cell_type": "code",
   "execution_count": 30,
   "id": "868c9e6f",
   "metadata": {},
   "outputs": [
    {
     "data": {
      "text/plain": [
       "<AxesSubplot:>"
      ]
     },
     "execution_count": 30,
     "metadata": {},
     "output_type": "execute_result"
    },
    {
     "data": {
      "image/png": "[encoded data removed]",
      "text/plain": [
       "<Figure size 720x360 with 1 Axes>"
      ]
     },
     "metadata": {
      "needs_background": "light"
     },
     "output_type": "display_data"
    }
   ],
   "source": [
    "plt.figure(figsize=(10,5))\n",
    "df_log['weekday'].value_counts().loc[list(weekday_dict.values())].plot(kind='bar')"
   ]
  },
  {
   "cell_type": "code",
   "execution_count": 31,
   "id": "b0a42885",
   "metadata": {},
   "outputs": [
    {
     "data": {
      "text/plain": [
       "<AxesSubplot:>"
      ]
     },
     "execution_count": 31,
     "metadata": {},
     "output_type": "execute_result"
    },
    {
     "data": {
      "image/png": "[encoded data removed]",
      "text/plain": [
       "<Figure size 720x360 with 1 Axes>"
      ]
     },
     "metadata": {
      "needs_background": "light"
     },
     "output_type": "display_data"
    }
   ],
   "source": [
    "plt.figure(figsize=(10,5))\n",
    "df_log['hour'].value_counts().sort_index().plot(kind='bar')"
   ]
  },
  {
   "cell_type": "code",
   "execution_count": 32,
   "id": "c8f10c35",
   "metadata": {},
   "outputs": [
    {
     "name": "stdout",
     "output_type": "stream",
     "text": [
      "Mozilla/5.0 (Windows NT 6.1; WOW64; rv:31.0) Gecko/20100101 Firefox/31.0\n",
      "\\Mozilla/5.0 (Windows NT 6.1; WOW64) AppleWebKit/537.36 (KHTML, like Gecko) Chrome/37.0.2062.103 Safari/537.36\\\"\"\n",
      "Mozilla/5.0 (Windows NT 6.1; WOW64; rv:31.0) Gecko/20100101 Firefox/31.0\n",
      "\\Mozilla/5.0 (Windows NT 6.1; WOW64) AppleWebKit/537.36 (KHTML, like Gecko) Chrome/37.0.2062.103 Safari/537.36\\\"\"\n",
      "Mozilla/5.0 (Windows NT 6.1; WOW64; rv:31.0) Gecko/20100101 Firefox/31.0\n",
      "\\Mozilla/5.0 (Windows NT 6.1; WOW64) AppleWebKit/537.36 (KHTML, like Gecko) Chrome/37.0.2062.103 Safari/537.36\\\"\"\n",
      "\\Mozilla/5.0 (Windows NT 6.1; WOW64) AppleWebKit/537.36 (KHTML, like Gecko) Chrome/37.0.2062.103 Safari/537.36\\\"\"\n",
      "Mozilla/5.0 (Windows NT 6.1; WOW64; rv:31.0) Gecko/20100101 Firefox/31.0\n",
      "Mozilla/5.0 (Windows NT 6.1; WOW64; rv:31.0) Gecko/20100101 Firefox/31.0\n",
      "Mozilla/5.0 (Windows NT 6.1; WOW64; rv:31.0) Gecko/20100101 Firefox/31.0\n"
     ]
    }
   ],
   "source": [
    "for i in df_log['userAgent'][:10]:\n",
    "    print(i)"
   ]
  },
  {
   "cell_type": "code",
   "execution_count": 33,
   "id": "37568887",
   "metadata": {},
   "outputs": [],
   "source": [
    "def extract_browser(x):\n",
    "    if 'Chrome' in x:\n",
    "        return 'Chrome'\n",
    "    elif 'Safari' in x:\n",
    "        return 'Safari'\n",
    "    elif 'Firefox' in x:\n",
    "        return 'Firefox'\n",
    "    elif 'Trident' in x:\n",
    "        return 'IE'\n",
    "    else:\n",
    "        return np.NaN"
   ]
  },
  {
   "cell_type": "code",
   "execution_count": 34,
   "id": "dc5b8465",
   "metadata": {},
   "outputs": [
    {
     "data": {
      "text/plain": [
       "array([], dtype=object)"
      ]
     },
     "execution_count": 34,
     "metadata": {},
     "output_type": "execute_result"
    }
   ],
   "source": [
    "df_log.loc[df_log['userAgent'].apply(extract_browser).isna(),'userAgent'].unique()"
   ]
  },
  {
   "cell_type": "code",
   "execution_count": 35,
   "id": "7860c612",
   "metadata": {},
   "outputs": [],
   "source": [
    "df_log['userBrowser']=df_log['userAgent'].apply(extract_browser)"
   ]
  },
  {
   "cell_type": "code",
   "execution_count": 36,
   "id": "2d499db6",
   "metadata": {},
   "outputs": [
    {
     "data": {
      "text/plain": [
       "<AxesSubplot:xlabel='userBrowser'>"
      ]
     },
     "execution_count": 36,
     "metadata": {},
     "output_type": "execute_result"
    },
    {
     "data": {
      "image/png": "[encoded data removed]",
      "text/plain": [
       "<Figure size 432x288 with 1 Axes>"
      ]
     },
     "metadata": {
      "needs_background": "light"
     },
     "output_type": "display_data"
    }
   ],
   "source": [
    "df_log.groupby('userBrowser')['userId'].nunique().sort_values().plot(kind='bar')"
   ]
  },
  {
   "cell_type": "code",
   "execution_count": 37,
   "id": "81b3c84e",
   "metadata": {},
   "outputs": [
    {
     "data": {
      "text/plain": [
       "1    225\n",
       "Name: userBrowser, dtype: int64"
      ]
     },
     "execution_count": 37,
     "metadata": {},
     "output_type": "execute_result"
    }
   ],
   "source": [
    "#查看同一个用户是否用了多种浏览器\n",
    "df_log.groupby('userId')['userBrowser'].nunique().value_counts()"
   ]
  },
  {
   "cell_type": "code",
   "execution_count": 38,
   "id": "85dd11b1",
   "metadata": {},
   "outputs": [
    {
     "data": {
      "text/plain": [
       "0                            Windows NT 6.1; WOW64; rv:31.0\n",
       "1                                     Windows NT 6.1; WOW64\n",
       "2                            Windows NT 6.1; WOW64; rv:31.0\n",
       "3                                     Windows NT 6.1; WOW64\n",
       "4                            Windows NT 6.1; WOW64; rv:31.0\n",
       "                                ...                        \n",
       "278149    compatible; MSIE 9.0; Windows NT 6.1; WOW64; T...\n",
       "278150    compatible; MSIE 9.0; Windows NT 6.1; WOW64; T...\n",
       "278151    compatible; MSIE 9.0; Windows NT 6.1; WOW64; T...\n",
       "278152    compatible; MSIE 9.0; Windows NT 6.1; WOW64; T...\n",
       "278153    compatible; MSIE 9.0; Windows NT 6.1; WOW64; T...\n",
       "Name: 0, Length: 278154, dtype: object"
      ]
     },
     "execution_count": 38,
     "metadata": {},
     "output_type": "execute_result"
    }
   ],
   "source": [
    "df_log['userAgent'].str.extract('\\(([^\\)]*)\\)')[0]"
   ]
  },
  {
   "cell_type": "code",
   "execution_count": 39,
   "id": "dc17ccd1",
   "metadata": {},
   "outputs": [],
   "source": [
    "#提取操作系统编号（都在第一个括号内的第一个分号前）\n",
    "df_log['platform']=df_log['userAgent'].str.extract('\\(([^\\)]*)\\)')[0].str.split(';').str[0]"
   ]
  },
  {
   "cell_type": "code",
   "execution_count": 40,
   "id": "2df56f79",
   "metadata": {},
   "outputs": [
    {
     "data": {
      "text/plain": [
       "Macintosh         102749\n",
       "Windows NT 6.1     99382\n",
       "Windows NT 6.3     18530\n",
       "iPad               11381\n",
       "iPhone             11192\n",
       "compatible         10684\n",
       "X11                 8961\n",
       "Windows NT 5.1      7406\n",
       "Windows NT 6.2      5427\n",
       "Windows NT 6.0      2442\n",
       "Name: platform, dtype: int64"
      ]
     },
     "execution_count": 40,
     "metadata": {},
     "output_type": "execute_result"
    }
   ],
   "source": [
    "df_log['platform'].value_counts()"
   ]
  },
  {
   "cell_type": "code",
   "execution_count": 41,
   "id": "4e04619e",
   "metadata": {},
   "outputs": [
    {
     "data": {
      "text/plain": [
       "array(['Mozilla/5.0 (compatible; MSIE 10.0; Windows NT 6.1; WOW64; Trident/6.0)',\n",
       "       'Mozilla/5.0 (compatible; MSIE 9.0; Windows NT 6.1; WOW64; Trident/5.0)',\n",
       "       'Mozilla/5.0 (compatible; MSIE 9.0; Windows NT 6.1; Trident/5.0)'],\n",
       "      dtype=object)"
      ]
     },
     "execution_count": 41,
     "metadata": {},
     "output_type": "execute_result"
    }
   ],
   "source": [
    "df_log.loc[df_log['platform']=='compatible','userAgent'].unique()"
   ]
  },
  {
   "cell_type": "code",
   "execution_count": 42,
   "id": "5d955c4a",
   "metadata": {},
   "outputs": [
    {
     "data": {
      "text/plain": [
       "array(['Mozilla/5.0 (X11; Linux x86_64; rv:31.0) Gecko/20100101 Firefox/31.0',\n",
       "       'Mozilla/5.0 (X11; Ubuntu; Linux x86_64; rv:31.0) Gecko/20100101 Firefox/31.0',\n",
       "       'Mozilla/5.0 (X11; Ubuntu; Linux i686; rv:31.0) Gecko/20100101 Firefox/31.0',\n",
       "       '\\\\Mozilla/5.0 (X11; Linux x86_64) AppleWebKit/537.36 (KHTML, like Gecko) Chrome/36.0.1985.143 Safari/537.36\\\\\"\"',\n",
       "       '\\\\Mozilla/5.0 (X11; Linux x86_64) AppleWebKit/537.36 (KHTML, like Gecko) Chrome/36.0.1985.125 Safari/537.36\\\\\"\"'],\n",
       "      dtype=object)"
      ]
     },
     "execution_count": 42,
     "metadata": {},
     "output_type": "execute_result"
    }
   ],
   "source": [
    "df_log.loc[df_log['platform']=='X11','userAgent'].unique()"
   ]
  },
  {
   "cell_type": "code",
   "execution_count": 43,
   "id": "0e781e03",
   "metadata": {},
   "outputs": [],
   "source": [
    "def stand_platform(x):\n",
    "    if 'Windows'in x or x=='compatible':\n",
    "        return 'Windows'\n",
    "    else:\n",
    "        return x"
   ]
  },
  {
   "cell_type": "code",
   "execution_count": 44,
   "id": "9f141d48",
   "metadata": {},
   "outputs": [],
   "source": [
    "df_log['platform']=df_log['platform'].apply(stand_platform)"
   ]
  },
  {
   "cell_type": "code",
   "execution_count": 45,
   "id": "8039da83",
   "metadata": {},
   "outputs": [
    {
     "data": {
      "text/plain": [
       "<AxesSubplot:xlabel='platform'>"
      ]
     },
     "execution_count": 45,
     "metadata": {},
     "output_type": "execute_result"
    },
    {
     "data": {
      "image/png": "[encoded data removed]",
      "text/plain": [
       "<Figure size 432x288 with 1 Axes>"
      ]
     },
     "metadata": {
      "needs_background": "light"
     },
     "output_type": "display_data"
    }
   ],
   "source": [
    "df_log.groupby('platform')['userId'].nunique().sort_values().plot(kind='bar')"
   ]
  },
  {
   "cell_type": "code",
   "execution_count": 46,
   "id": "177253e1",
   "metadata": {},
   "outputs": [
    {
     "data": {
      "text/plain": [
       "1    225\n",
       "Name: platform, dtype: int64"
      ]
     },
     "execution_count": 46,
     "metadata": {},
     "output_type": "execute_result"
    }
   ],
   "source": [
    "#查看同一个用户是否用了多个终端\n",
    "df_log.groupby('userId')['platform'].nunique().value_counts()"
   ]
  },
  {
   "cell_type": "markdown",
   "id": "ca96f29e",
   "metadata": {},
   "source": [
    "在日志文件中，有255个用户和58475条内容的交互行为，时间周期为2020-05-01~2020-07-01；\n",
    "\n",
    "用户在周三、周四的交换量较少；\n",
    "\n",
    "用户在凌晨中的交互量较少，高峰期在14点-21点之间；\n",
    "\n",
    "使用Chorme浏览器的用户量多，其次为Firefox；\n",
    "\n",
    "使用windows操作系统的用户量最多，其次是mac;"
   ]
  },
  {
   "cell_type": "markdown",
   "id": "96fa484a",
   "metadata": {},
   "source": [
    "### 3.2数据的整理和清洗"
   ]
  },
  {
   "cell_type": "markdown",
   "id": "18f3c50c",
   "metadata": {},
   "source": [
    "#### 3.2.1合并数据源"
   ]
  },
  {
   "cell_type": "code",
   "execution_count": 47,
   "id": "adc2019e",
   "metadata": {},
   "outputs": [
    {
     "data": {
      "text/html": [
       "<div>\n",
       "<style scoped>\n",
       "    .dataframe tbody tr th:only-of-type {\n",
       "        vertical-align: middle;\n",
       "    }\n",
       "\n",
       "    .dataframe tbody tr th {\n",
       "        vertical-align: top;\n",
       "    }\n",
       "\n",
       "    .dataframe thead th {\n",
       "        text-align: right;\n",
       "    }\n",
       "</style>\n",
       "<table border=\"1\" class=\"dataframe\">\n",
       "  <thead>\n",
       "    <tr style=\"text-align: right;\">\n",
       "      <th></th>\n",
       "      <th>region_id</th>\n",
       "      <th>region</th>\n",
       "      <th>city</th>\n",
       "      <th>isMainland</th>\n",
       "      <th>machine_rate</th>\n",
       "    </tr>\n",
       "  </thead>\n",
       "  <tbody>\n",
       "    <tr>\n",
       "      <th>0</th>\n",
       "      <td>ap-bangkok</td>\n",
       "      <td>ap</td>\n",
       "      <td>bangkok</td>\n",
       "      <td>0</td>\n",
       "      <td>0.48</td>\n",
       "    </tr>\n",
       "    <tr>\n",
       "      <th>1</th>\n",
       "      <td>ap-beijing</td>\n",
       "      <td>ap</td>\n",
       "      <td>beijing</td>\n",
       "      <td>1</td>\n",
       "      <td>0.39</td>\n",
       "    </tr>\n",
       "    <tr>\n",
       "      <th>2</th>\n",
       "      <td>ap-chengdu</td>\n",
       "      <td>ap</td>\n",
       "      <td>chengdu</td>\n",
       "      <td>1</td>\n",
       "      <td>0.33</td>\n",
       "    </tr>\n",
       "    <tr>\n",
       "      <th>3</th>\n",
       "      <td>ap-chongqing</td>\n",
       "      <td>ap</td>\n",
       "      <td>chongqing</td>\n",
       "      <td>1</td>\n",
       "      <td>0.39</td>\n",
       "    </tr>\n",
       "    <tr>\n",
       "      <th>4</th>\n",
       "      <td>ap-guangzhou</td>\n",
       "      <td>ap</td>\n",
       "      <td>guangzhou</td>\n",
       "      <td>1</td>\n",
       "      <td>0.31</td>\n",
       "    </tr>\n",
       "  </tbody>\n",
       "</table>\n",
       "</div>"
      ],
      "text/plain": [
       "      region_id region       city  isMainland  machine_rate\n",
       "0    ap-bangkok     ap    bangkok           0          0.48\n",
       "1    ap-beijing     ap    beijing           1          0.39\n",
       "2    ap-chengdu     ap    chengdu           1          0.33\n",
       "3  ap-chongqing     ap  chongqing           1          0.39\n",
       "4  ap-guangzhou     ap  guangzhou           1          0.31"
      ]
     },
     "execution_count": 47,
     "metadata": {},
     "output_type": "execute_result"
    }
   ],
   "source": [
    "df_area.head()"
   ]
  },
  {
   "cell_type": "code",
   "execution_count": 48,
   "id": "bb6a989c",
   "metadata": {},
   "outputs": [
    {
     "data": {
      "text/html": [
       "<div>\n",
       "<style scoped>\n",
       "    .dataframe tbody tr th:only-of-type {\n",
       "        vertical-align: middle;\n",
       "    }\n",
       "\n",
       "    .dataframe tbody tr th {\n",
       "        vertical-align: top;\n",
       "    }\n",
       "\n",
       "    .dataframe thead th {\n",
       "        text-align: right;\n",
       "    }\n",
       "</style>\n",
       "<table border=\"1\" class=\"dataframe\">\n",
       "  <thead>\n",
       "    <tr style=\"text-align: right;\">\n",
       "      <th></th>\n",
       "      <th>userId</th>\n",
       "      <th>gender</th>\n",
       "      <th>connection_point</th>\n",
       "      <th>city</th>\n",
       "      <th>province</th>\n",
       "    </tr>\n",
       "  </thead>\n",
       "  <tbody>\n",
       "    <tr>\n",
       "      <th>0</th>\n",
       "      <td>6296964609</td>\n",
       "      <td>M</td>\n",
       "      <td>ap-beijing</td>\n",
       "      <td>Unknown</td>\n",
       "      <td>HeBei</td>\n",
       "    </tr>\n",
       "    <tr>\n",
       "      <th>1</th>\n",
       "      <td>6249718201</td>\n",
       "      <td>M</td>\n",
       "      <td>ap-guangzhou</td>\n",
       "      <td>Unknown</td>\n",
       "      <td>GuangDong</td>\n",
       "    </tr>\n",
       "    <tr>\n",
       "      <th>2</th>\n",
       "      <td>9687257104</td>\n",
       "      <td>F</td>\n",
       "      <td>ap-guangzhou</td>\n",
       "      <td>ZhuHai</td>\n",
       "      <td>GuangDong</td>\n",
       "    </tr>\n",
       "    <tr>\n",
       "      <th>3</th>\n",
       "      <td>6705948176</td>\n",
       "      <td>F</td>\n",
       "      <td>ap-guangzhou</td>\n",
       "      <td>ShenZhen</td>\n",
       "      <td>GuangDong</td>\n",
       "    </tr>\n",
       "    <tr>\n",
       "      <th>4</th>\n",
       "      <td>1590277376</td>\n",
       "      <td>M</td>\n",
       "      <td>ap-shanghai</td>\n",
       "      <td>ChangSha</td>\n",
       "      <td>HuNan</td>\n",
       "    </tr>\n",
       "  </tbody>\n",
       "</table>\n",
       "</div>"
      ],
      "text/plain": [
       "       userId gender connection_point      city   province\n",
       "0  6296964609      M       ap-beijing   Unknown      HeBei\n",
       "1  6249718201      M     ap-guangzhou   Unknown  GuangDong\n",
       "2  9687257104      F     ap-guangzhou    ZhuHai  GuangDong\n",
       "3  6705948176      F     ap-guangzhou  ShenZhen  GuangDong\n",
       "4  1590277376      M      ap-shanghai  ChangSha      HuNan"
      ]
     },
     "execution_count": 48,
     "metadata": {},
     "output_type": "execute_result"
    }
   ],
   "source": [
    "df_user.head()"
   ]
  },
  {
   "cell_type": "code",
   "execution_count": 49,
   "id": "fffe87bc",
   "metadata": {},
   "outputs": [
    {
     "data": {
      "text/html": [
       "<div>\n",
       "<style scoped>\n",
       "    .dataframe tbody tr th:only-of-type {\n",
       "        vertical-align: middle;\n",
       "    }\n",
       "\n",
       "    .dataframe tbody tr th {\n",
       "        vertical-align: top;\n",
       "    }\n",
       "\n",
       "    .dataframe thead th {\n",
       "        text-align: right;\n",
       "    }\n",
       "</style>\n",
       "<table border=\"1\" class=\"dataframe\">\n",
       "  <thead>\n",
       "    <tr style=\"text-align: right;\">\n",
       "      <th></th>\n",
       "      <th>content</th>\n",
       "      <th>author</th>\n",
       "      <th>length</th>\n",
       "      <th>level</th>\n",
       "    </tr>\n",
       "  </thead>\n",
       "  <tbody>\n",
       "    <tr>\n",
       "      <th>0</th>\n",
       "      <td>07404dd468cd9a14960abcd0c7d1cbf2</td>\n",
       "      <td>881dd848a34ddde0abe6d706aed51831</td>\n",
       "      <td>277.89016</td>\n",
       "      <td>paid</td>\n",
       "    </tr>\n",
       "    <tr>\n",
       "      <th>1</th>\n",
       "      <td>445d337b5cd5de476f99333df6b0c2a7</td>\n",
       "      <td>edd45efdf8f56aaa0b2fd1eb9903625a</td>\n",
       "      <td>236.09424</td>\n",
       "      <td>free</td>\n",
       "    </tr>\n",
       "    <tr>\n",
       "      <th>2</th>\n",
       "      <td>0835fe289912f17da4409b5c0bfaf12a</td>\n",
       "      <td>54d7dfd552c8a4e8c2fd158c11d52fb8</td>\n",
       "      <td>282.82730</td>\n",
       "      <td>paid</td>\n",
       "    </tr>\n",
       "    <tr>\n",
       "      <th>3</th>\n",
       "      <td>7e851ac7201f8557d9ef55aa10684b17</td>\n",
       "      <td>35af2b0cb093ae740ed4e7589938e8ac</td>\n",
       "      <td>262.71302</td>\n",
       "      <td>free</td>\n",
       "    </tr>\n",
       "    <tr>\n",
       "      <th>4</th>\n",
       "      <td>99ae43f8e4a9b700e548feb34deb73b6</td>\n",
       "      <td>8ee2c0adee9548498ef22cba1e90a49c</td>\n",
       "      <td>223.60771</td>\n",
       "      <td>paid</td>\n",
       "    </tr>\n",
       "  </tbody>\n",
       "</table>\n",
       "</div>"
      ],
      "text/plain": [
       "                            content                            author  \\\n",
       "0  07404dd468cd9a14960abcd0c7d1cbf2  881dd848a34ddde0abe6d706aed51831   \n",
       "1  445d337b5cd5de476f99333df6b0c2a7  edd45efdf8f56aaa0b2fd1eb9903625a   \n",
       "2  0835fe289912f17da4409b5c0bfaf12a  54d7dfd552c8a4e8c2fd158c11d52fb8   \n",
       "3  7e851ac7201f8557d9ef55aa10684b17  35af2b0cb093ae740ed4e7589938e8ac   \n",
       "4  99ae43f8e4a9b700e548feb34deb73b6  8ee2c0adee9548498ef22cba1e90a49c   \n",
       "\n",
       "      length level  \n",
       "0  277.89016  paid  \n",
       "1  236.09424  free  \n",
       "2  282.82730  paid  \n",
       "3  262.71302  free  \n",
       "4  223.60771  paid  "
      ]
     },
     "execution_count": 49,
     "metadata": {},
     "output_type": "execute_result"
    }
   ],
   "source": [
    "df_content.head()"
   ]
  },
  {
   "cell_type": "code",
   "execution_count": 50,
   "id": "0123ec0b",
   "metadata": {},
   "outputs": [
    {
     "data": {
      "text/html": [
       "<div>\n",
       "<style scoped>\n",
       "    .dataframe tbody tr th:only-of-type {\n",
       "        vertical-align: middle;\n",
       "    }\n",
       "\n",
       "    .dataframe tbody tr th {\n",
       "        vertical-align: top;\n",
       "    }\n",
       "\n",
       "    .dataframe thead th {\n",
       "        text-align: right;\n",
       "    }\n",
       "</style>\n",
       "<table border=\"1\" class=\"dataframe\">\n",
       "  <thead>\n",
       "    <tr style=\"text-align: right;\">\n",
       "      <th></th>\n",
       "      <th>userId</th>\n",
       "      <th>content</th>\n",
       "      <th>page</th>\n",
       "      <th>status</th>\n",
       "      <th>ts</th>\n",
       "      <th>userAgent</th>\n",
       "      <th>date</th>\n",
       "      <th>weekday</th>\n",
       "      <th>hour</th>\n",
       "      <th>userBrowser</th>\n",
       "      <th>platform</th>\n",
       "    </tr>\n",
       "  </thead>\n",
       "  <tbody>\n",
       "    <tr>\n",
       "      <th>0</th>\n",
       "      <td>6296964609</td>\n",
       "      <td>07404dd468cd9a14960abcd0c7d1cbf2</td>\n",
       "      <td>点击</td>\n",
       "      <td>请求成功</td>\n",
       "      <td>2020-05-01 00:01:57</td>\n",
       "      <td>Mozilla/5.0 (Windows NT 6.1; WOW64; rv:31.0) G...</td>\n",
       "      <td>2020-05-01</td>\n",
       "      <td>Fri.</td>\n",
       "      <td>0</td>\n",
       "      <td>Firefox</td>\n",
       "      <td>Windows</td>\n",
       "    </tr>\n",
       "    <tr>\n",
       "      <th>1</th>\n",
       "      <td>6249718201</td>\n",
       "      <td>445d337b5cd5de476f99333df6b0c2a7</td>\n",
       "      <td>点击</td>\n",
       "      <td>请求成功</td>\n",
       "      <td>2020-05-01 00:03:00</td>\n",
       "      <td>\\Mozilla/5.0 (Windows NT 6.1; WOW64) AppleWebK...</td>\n",
       "      <td>2020-05-01</td>\n",
       "      <td>Fri.</td>\n",
       "      <td>0</td>\n",
       "      <td>Chrome</td>\n",
       "      <td>Windows</td>\n",
       "    </tr>\n",
       "    <tr>\n",
       "      <th>2</th>\n",
       "      <td>6296964609</td>\n",
       "      <td>0835fe289912f17da4409b5c0bfaf12a</td>\n",
       "      <td>点击</td>\n",
       "      <td>请求成功</td>\n",
       "      <td>2020-05-01 00:06:34</td>\n",
       "      <td>Mozilla/5.0 (Windows NT 6.1; WOW64; rv:31.0) G...</td>\n",
       "      <td>2020-05-01</td>\n",
       "      <td>Fri.</td>\n",
       "      <td>0</td>\n",
       "      <td>Firefox</td>\n",
       "      <td>Windows</td>\n",
       "    </tr>\n",
       "    <tr>\n",
       "      <th>3</th>\n",
       "      <td>6249718201</td>\n",
       "      <td>7e851ac7201f8557d9ef55aa10684b17</td>\n",
       "      <td>点击</td>\n",
       "      <td>请求成功</td>\n",
       "      <td>2020-05-01 00:06:56</td>\n",
       "      <td>\\Mozilla/5.0 (Windows NT 6.1; WOW64) AppleWebK...</td>\n",
       "      <td>2020-05-01</td>\n",
       "      <td>Fri.</td>\n",
       "      <td>0</td>\n",
       "      <td>Chrome</td>\n",
       "      <td>Windows</td>\n",
       "    </tr>\n",
       "    <tr>\n",
       "      <th>4</th>\n",
       "      <td>6296964609</td>\n",
       "      <td>99ae43f8e4a9b700e548feb34deb73b6</td>\n",
       "      <td>点击</td>\n",
       "      <td>请求成功</td>\n",
       "      <td>2020-05-01 00:11:16</td>\n",
       "      <td>Mozilla/5.0 (Windows NT 6.1; WOW64; rv:31.0) G...</td>\n",
       "      <td>2020-05-01</td>\n",
       "      <td>Fri.</td>\n",
       "      <td>0</td>\n",
       "      <td>Firefox</td>\n",
       "      <td>Windows</td>\n",
       "    </tr>\n",
       "  </tbody>\n",
       "</table>\n",
       "</div>"
      ],
      "text/plain": [
       "       userId                           content page status  \\\n",
       "0  6296964609  07404dd468cd9a14960abcd0c7d1cbf2   点击   请求成功   \n",
       "1  6249718201  445d337b5cd5de476f99333df6b0c2a7   点击   请求成功   \n",
       "2  6296964609  0835fe289912f17da4409b5c0bfaf12a   点击   请求成功   \n",
       "3  6249718201  7e851ac7201f8557d9ef55aa10684b17   点击   请求成功   \n",
       "4  6296964609  99ae43f8e4a9b700e548feb34deb73b6   点击   请求成功   \n",
       "\n",
       "                   ts                                          userAgent  \\\n",
       "0 2020-05-01 00:01:57  Mozilla/5.0 (Windows NT 6.1; WOW64; rv:31.0) G...   \n",
       "1 2020-05-01 00:03:00  \\Mozilla/5.0 (Windows NT 6.1; WOW64) AppleWebK...   \n",
       "2 2020-05-01 00:06:34  Mozilla/5.0 (Windows NT 6.1; WOW64; rv:31.0) G...   \n",
       "3 2020-05-01 00:06:56  \\Mozilla/5.0 (Windows NT 6.1; WOW64) AppleWebK...   \n",
       "4 2020-05-01 00:11:16  Mozilla/5.0 (Windows NT 6.1; WOW64; rv:31.0) G...   \n",
       "\n",
       "         date weekday  hour userBrowser platform  \n",
       "0  2020-05-01    Fri.     0     Firefox  Windows  \n",
       "1  2020-05-01    Fri.     0      Chrome  Windows  \n",
       "2  2020-05-01    Fri.     0     Firefox  Windows  \n",
       "3  2020-05-01    Fri.     0      Chrome  Windows  \n",
       "4  2020-05-01    Fri.     0     Firefox  Windows  "
      ]
     },
     "execution_count": 50,
     "metadata": {},
     "output_type": "execute_result"
    }
   ],
   "source": [
    "df_log.head()"
   ]
  },
  {
   "cell_type": "code",
   "execution_count": 51,
   "id": "5638008e",
   "metadata": {},
   "outputs": [],
   "source": [
    "df=df_log.merge(df_content,on='content',how='left').\\\n",
    "          merge(df_user,on='userId',how='left').\\\n",
    "          merge(df_area,left_on='connection_point',right_on='region_id',how='left')"
   ]
  },
  {
   "cell_type": "code",
   "execution_count": 52,
   "id": "73234e68",
   "metadata": {},
   "outputs": [],
   "source": [
    "#设置显示列数\n",
    "pd.set_option('max_columns',23)"
   ]
  },
  {
   "cell_type": "code",
   "execution_count": 53,
   "id": "f49c9bfa",
   "metadata": {},
   "outputs": [
    {
     "data": {
      "text/html": [
       "<div>\n",
       "<style scoped>\n",
       "    .dataframe tbody tr th:only-of-type {\n",
       "        vertical-align: middle;\n",
       "    }\n",
       "\n",
       "    .dataframe tbody tr th {\n",
       "        vertical-align: top;\n",
       "    }\n",
       "\n",
       "    .dataframe thead th {\n",
       "        text-align: right;\n",
       "    }\n",
       "</style>\n",
       "<table border=\"1\" class=\"dataframe\">\n",
       "  <thead>\n",
       "    <tr style=\"text-align: right;\">\n",
       "      <th></th>\n",
       "      <th>userId</th>\n",
       "      <th>content</th>\n",
       "      <th>page</th>\n",
       "      <th>status</th>\n",
       "      <th>ts</th>\n",
       "      <th>userAgent</th>\n",
       "      <th>date</th>\n",
       "      <th>weekday</th>\n",
       "      <th>hour</th>\n",
       "      <th>userBrowser</th>\n",
       "      <th>platform</th>\n",
       "      <th>author</th>\n",
       "      <th>length</th>\n",
       "      <th>level</th>\n",
       "      <th>gender</th>\n",
       "      <th>connection_point</th>\n",
       "      <th>city_x</th>\n",
       "      <th>province</th>\n",
       "      <th>region_id</th>\n",
       "      <th>region</th>\n",
       "      <th>city_y</th>\n",
       "      <th>isMainland</th>\n",
       "      <th>machine_rate</th>\n",
       "    </tr>\n",
       "  </thead>\n",
       "  <tbody>\n",
       "    <tr>\n",
       "      <th>0</th>\n",
       "      <td>6296964609</td>\n",
       "      <td>07404dd468cd9a14960abcd0c7d1cbf2</td>\n",
       "      <td>点击</td>\n",
       "      <td>请求成功</td>\n",
       "      <td>2020-05-01 00:01:57</td>\n",
       "      <td>Mozilla/5.0 (Windows NT 6.1; WOW64; rv:31.0) G...</td>\n",
       "      <td>2020-05-01</td>\n",
       "      <td>Fri.</td>\n",
       "      <td>0</td>\n",
       "      <td>Firefox</td>\n",
       "      <td>Windows</td>\n",
       "      <td>881dd848a34ddde0abe6d706aed51831</td>\n",
       "      <td>277.89016</td>\n",
       "      <td>paid</td>\n",
       "      <td>M</td>\n",
       "      <td>ap-beijing</td>\n",
       "      <td>Unknown</td>\n",
       "      <td>HeBei</td>\n",
       "      <td>ap-beijing</td>\n",
       "      <td>ap</td>\n",
       "      <td>beijing</td>\n",
       "      <td>1</td>\n",
       "      <td>0.39</td>\n",
       "    </tr>\n",
       "    <tr>\n",
       "      <th>1</th>\n",
       "      <td>6249718201</td>\n",
       "      <td>445d337b5cd5de476f99333df6b0c2a7</td>\n",
       "      <td>点击</td>\n",
       "      <td>请求成功</td>\n",
       "      <td>2020-05-01 00:03:00</td>\n",
       "      <td>\\Mozilla/5.0 (Windows NT 6.1; WOW64) AppleWebK...</td>\n",
       "      <td>2020-05-01</td>\n",
       "      <td>Fri.</td>\n",
       "      <td>0</td>\n",
       "      <td>Chrome</td>\n",
       "      <td>Windows</td>\n",
       "      <td>edd45efdf8f56aaa0b2fd1eb9903625a</td>\n",
       "      <td>236.09424</td>\n",
       "      <td>free</td>\n",
       "      <td>M</td>\n",
       "      <td>ap-guangzhou</td>\n",
       "      <td>Unknown</td>\n",
       "      <td>GuangDong</td>\n",
       "      <td>ap-guangzhou</td>\n",
       "      <td>ap</td>\n",
       "      <td>guangzhou</td>\n",
       "      <td>1</td>\n",
       "      <td>0.31</td>\n",
       "    </tr>\n",
       "    <tr>\n",
       "      <th>2</th>\n",
       "      <td>6296964609</td>\n",
       "      <td>0835fe289912f17da4409b5c0bfaf12a</td>\n",
       "      <td>点击</td>\n",
       "      <td>请求成功</td>\n",
       "      <td>2020-05-01 00:06:34</td>\n",
       "      <td>Mozilla/5.0 (Windows NT 6.1; WOW64; rv:31.0) G...</td>\n",
       "      <td>2020-05-01</td>\n",
       "      <td>Fri.</td>\n",
       "      <td>0</td>\n",
       "      <td>Firefox</td>\n",
       "      <td>Windows</td>\n",
       "      <td>54d7dfd552c8a4e8c2fd158c11d52fb8</td>\n",
       "      <td>282.82730</td>\n",
       "      <td>paid</td>\n",
       "      <td>M</td>\n",
       "      <td>ap-beijing</td>\n",
       "      <td>Unknown</td>\n",
       "      <td>HeBei</td>\n",
       "      <td>ap-beijing</td>\n",
       "      <td>ap</td>\n",
       "      <td>beijing</td>\n",
       "      <td>1</td>\n",
       "      <td>0.39</td>\n",
       "    </tr>\n",
       "    <tr>\n",
       "      <th>3</th>\n",
       "      <td>6249718201</td>\n",
       "      <td>7e851ac7201f8557d9ef55aa10684b17</td>\n",
       "      <td>点击</td>\n",
       "      <td>请求成功</td>\n",
       "      <td>2020-05-01 00:06:56</td>\n",
       "      <td>\\Mozilla/5.0 (Windows NT 6.1; WOW64) AppleWebK...</td>\n",
       "      <td>2020-05-01</td>\n",
       "      <td>Fri.</td>\n",
       "      <td>0</td>\n",
       "      <td>Chrome</td>\n",
       "      <td>Windows</td>\n",
       "      <td>35af2b0cb093ae740ed4e7589938e8ac</td>\n",
       "      <td>262.71302</td>\n",
       "      <td>free</td>\n",
       "      <td>M</td>\n",
       "      <td>ap-guangzhou</td>\n",
       "      <td>Unknown</td>\n",
       "      <td>GuangDong</td>\n",
       "      <td>ap-guangzhou</td>\n",
       "      <td>ap</td>\n",
       "      <td>guangzhou</td>\n",
       "      <td>1</td>\n",
       "      <td>0.31</td>\n",
       "    </tr>\n",
       "    <tr>\n",
       "      <th>4</th>\n",
       "      <td>6296964609</td>\n",
       "      <td>99ae43f8e4a9b700e548feb34deb73b6</td>\n",
       "      <td>点击</td>\n",
       "      <td>请求成功</td>\n",
       "      <td>2020-05-01 00:11:16</td>\n",
       "      <td>Mozilla/5.0 (Windows NT 6.1; WOW64; rv:31.0) G...</td>\n",
       "      <td>2020-05-01</td>\n",
       "      <td>Fri.</td>\n",
       "      <td>0</td>\n",
       "      <td>Firefox</td>\n",
       "      <td>Windows</td>\n",
       "      <td>8ee2c0adee9548498ef22cba1e90a49c</td>\n",
       "      <td>223.60771</td>\n",
       "      <td>paid</td>\n",
       "      <td>M</td>\n",
       "      <td>ap-beijing</td>\n",
       "      <td>Unknown</td>\n",
       "      <td>HeBei</td>\n",
       "      <td>ap-beijing</td>\n",
       "      <td>ap</td>\n",
       "      <td>beijing</td>\n",
       "      <td>1</td>\n",
       "      <td>0.39</td>\n",
       "    </tr>\n",
       "  </tbody>\n",
       "</table>\n",
       "</div>"
      ],
      "text/plain": [
       "       userId                           content page status  \\\n",
       "0  6296964609  07404dd468cd9a14960abcd0c7d1cbf2   点击   请求成功   \n",
       "1  6249718201  445d337b5cd5de476f99333df6b0c2a7   点击   请求成功   \n",
       "2  6296964609  0835fe289912f17da4409b5c0bfaf12a   点击   请求成功   \n",
       "3  6249718201  7e851ac7201f8557d9ef55aa10684b17   点击   请求成功   \n",
       "4  6296964609  99ae43f8e4a9b700e548feb34deb73b6   点击   请求成功   \n",
       "\n",
       "                   ts                                          userAgent  \\\n",
       "0 2020-05-01 00:01:57  Mozilla/5.0 (Windows NT 6.1; WOW64; rv:31.0) G...   \n",
       "1 2020-05-01 00:03:00  \\Mozilla/5.0 (Windows NT 6.1; WOW64) AppleWebK...   \n",
       "2 2020-05-01 00:06:34  Mozilla/5.0 (Windows NT 6.1; WOW64; rv:31.0) G...   \n",
       "3 2020-05-01 00:06:56  \\Mozilla/5.0 (Windows NT 6.1; WOW64) AppleWebK...   \n",
       "4 2020-05-01 00:11:16  Mozilla/5.0 (Windows NT 6.1; WOW64; rv:31.0) G...   \n",
       "\n",
       "         date weekday  hour userBrowser platform  \\\n",
       "0  2020-05-01    Fri.     0     Firefox  Windows   \n",
       "1  2020-05-01    Fri.     0      Chrome  Windows   \n",
       "2  2020-05-01    Fri.     0     Firefox  Windows   \n",
       "3  2020-05-01    Fri.     0      Chrome  Windows   \n",
       "4  2020-05-01    Fri.     0     Firefox  Windows   \n",
       "\n",
       "                             author     length level gender connection_point  \\\n",
       "0  881dd848a34ddde0abe6d706aed51831  277.89016  paid      M       ap-beijing   \n",
       "1  edd45efdf8f56aaa0b2fd1eb9903625a  236.09424  free      M     ap-guangzhou   \n",
       "2  54d7dfd552c8a4e8c2fd158c11d52fb8  282.82730  paid      M       ap-beijing   \n",
       "3  35af2b0cb093ae740ed4e7589938e8ac  262.71302  free      M     ap-guangzhou   \n",
       "4  8ee2c0adee9548498ef22cba1e90a49c  223.60771  paid      M       ap-beijing   \n",
       "\n",
       "    city_x   province     region_id region     city_y  isMainland  \\\n",
       "0  Unknown      HeBei    ap-beijing     ap    beijing           1   \n",
       "1  Unknown  GuangDong  ap-guangzhou     ap  guangzhou           1   \n",
       "2  Unknown      HeBei    ap-beijing     ap    beijing           1   \n",
       "3  Unknown  GuangDong  ap-guangzhou     ap  guangzhou           1   \n",
       "4  Unknown      HeBei    ap-beijing     ap    beijing           1   \n",
       "\n",
       "   machine_rate  \n",
       "0          0.39  \n",
       "1          0.31  \n",
       "2          0.39  \n",
       "3          0.31  \n",
       "4          0.39  "
      ]
     },
     "execution_count": 53,
     "metadata": {},
     "output_type": "execute_result"
    }
   ],
   "source": [
    "df.head(5)"
   ]
  },
  {
   "cell_type": "code",
   "execution_count": 54,
   "id": "00d95c64",
   "metadata": {},
   "outputs": [],
   "source": [
    "df['city']=df['city_x'].replace('Unknown',np.NaN).fillna(df['city_y'])\n",
    "df=df.drop(['city_x','city_y','region_id'],axis=1)"
   ]
  },
  {
   "cell_type": "markdown",
   "id": "152f4790",
   "metadata": {},
   "source": [
    "#### 3.2.2 定义退订用户"
   ]
  },
  {
   "cell_type": "code",
   "execution_count": 55,
   "id": "ec9acf68",
   "metadata": {},
   "outputs": [],
   "source": [
    "df=df.reset_index(drop=True)"
   ]
  },
  {
   "cell_type": "code",
   "execution_count": 56,
   "id": "d226759a",
   "metadata": {},
   "outputs": [
    {
     "data": {
      "text/plain": [
       "225"
      ]
     },
     "execution_count": 56,
     "metadata": {},
     "output_type": "execute_result"
    }
   ],
   "source": [
    "df.userId.nunique()"
   ]
  },
  {
   "cell_type": "code",
   "execution_count": 57,
   "id": "502f7ed8",
   "metadata": {},
   "outputs": [],
   "source": [
    "#将取消订阅套餐的用户定义为流失客户\n",
    "df['flag']=df['page'].apply(lambda x: 1 if x=='取消订阅套餐' else 0)"
   ]
  },
  {
   "cell_type": "code",
   "execution_count": 58,
   "id": "baf764d9",
   "metadata": {},
   "outputs": [],
   "source": [
    "df_churn=df.groupby('userId')['flag'].max().reset_index()\n",
    "df_churn=df_churn.rename(columns={'flag':'churn'})"
   ]
  },
  {
   "cell_type": "code",
   "execution_count": 59,
   "id": "e25fe794",
   "metadata": {},
   "outputs": [
    {
     "data": {
      "text/html": [
       "<div>\n",
       "<style scoped>\n",
       "    .dataframe tbody tr th:only-of-type {\n",
       "        vertical-align: middle;\n",
       "    }\n",
       "\n",
       "    .dataframe tbody tr th {\n",
       "        vertical-align: top;\n",
       "    }\n",
       "\n",
       "    .dataframe thead th {\n",
       "        text-align: right;\n",
       "    }\n",
       "</style>\n",
       "<table border=\"1\" class=\"dataframe\">\n",
       "  <thead>\n",
       "    <tr style=\"text-align: right;\">\n",
       "      <th></th>\n",
       "      <th>userId</th>\n",
       "      <th>churn</th>\n",
       "    </tr>\n",
       "  </thead>\n",
       "  <tbody>\n",
       "    <tr>\n",
       "      <th>0</th>\n",
       "      <td>7352321</td>\n",
       "      <td>0</td>\n",
       "    </tr>\n",
       "    <tr>\n",
       "      <th>1</th>\n",
       "      <td>32678976</td>\n",
       "      <td>0</td>\n",
       "    </tr>\n",
       "    <tr>\n",
       "      <th>2</th>\n",
       "      <td>53589316</td>\n",
       "      <td>1</td>\n",
       "    </tr>\n",
       "    <tr>\n",
       "      <th>3</th>\n",
       "      <td>129878601</td>\n",
       "      <td>0</td>\n",
       "    </tr>\n",
       "    <tr>\n",
       "      <th>4</th>\n",
       "      <td>175542601</td>\n",
       "      <td>0</td>\n",
       "    </tr>\n",
       "    <tr>\n",
       "      <th>...</th>\n",
       "      <td>...</td>\n",
       "      <td>...</td>\n",
       "    </tr>\n",
       "    <tr>\n",
       "      <th>220</th>\n",
       "      <td>9687257104</td>\n",
       "      <td>0</td>\n",
       "    </tr>\n",
       "    <tr>\n",
       "      <th>221</th>\n",
       "      <td>9809732025</td>\n",
       "      <td>0</td>\n",
       "    </tr>\n",
       "    <tr>\n",
       "      <th>222</th>\n",
       "      <td>9815548900</td>\n",
       "      <td>1</td>\n",
       "    </tr>\n",
       "    <tr>\n",
       "      <th>223</th>\n",
       "      <td>9943009809</td>\n",
       "      <td>0</td>\n",
       "    </tr>\n",
       "    <tr>\n",
       "      <th>224</th>\n",
       "      <td>9985182929</td>\n",
       "      <td>0</td>\n",
       "    </tr>\n",
       "  </tbody>\n",
       "</table>\n",
       "<p>225 rows × 2 columns</p>\n",
       "</div>"
      ],
      "text/plain": [
       "         userId  churn\n",
       "0       7352321      0\n",
       "1      32678976      0\n",
       "2      53589316      1\n",
       "3     129878601      0\n",
       "4     175542601      0\n",
       "..          ...    ...\n",
       "220  9687257104      0\n",
       "221  9809732025      0\n",
       "222  9815548900      1\n",
       "223  9943009809      0\n",
       "224  9985182929      0\n",
       "\n",
       "[225 rows x 2 columns]"
      ]
     },
     "execution_count": 59,
     "metadata": {},
     "output_type": "execute_result"
    }
   ],
   "source": [
    "df_churn"
   ]
  },
  {
   "cell_type": "code",
   "execution_count": 60,
   "id": "ddc34c71",
   "metadata": {},
   "outputs": [
    {
     "data": {
      "text/plain": [
       "0    173\n",
       "1     52\n",
       "Name: churn, dtype: int64"
      ]
     },
     "execution_count": 60,
     "metadata": {},
     "output_type": "execute_result"
    }
   ],
   "source": [
    "#查看用户流失数量\n",
    "df_churn.churn.value_counts()"
   ]
  },
  {
   "cell_type": "code",
   "execution_count": 61,
   "id": "1ca79872",
   "metadata": {},
   "outputs": [],
   "source": [
    "df=df.merge(df_churn,on='userId',how='left')"
   ]
  },
  {
   "cell_type": "markdown",
   "id": "315ab654",
   "metadata": {},
   "source": [
    "可见255个客户中有52客户流失"
   ]
  },
  {
   "cell_type": "markdown",
   "id": "f02eb4a9",
   "metadata": {},
   "source": [
    "### 3.3探索性数据分析"
   ]
  },
  {
   "cell_type": "markdown",
   "id": "36976573",
   "metadata": {},
   "source": [
    "#### 3.3.1 content&author"
   ]
  },
  {
   "cell_type": "code",
   "execution_count": 62,
   "id": "058848bf",
   "metadata": {},
   "outputs": [
    {
     "data": {
      "text/html": [
       "<div>\n",
       "<style scoped>\n",
       "    .dataframe tbody tr th:only-of-type {\n",
       "        vertical-align: middle;\n",
       "    }\n",
       "\n",
       "    .dataframe tbody tr th {\n",
       "        vertical-align: top;\n",
       "    }\n",
       "\n",
       "    .dataframe thead th {\n",
       "        text-align: right;\n",
       "    }\n",
       "</style>\n",
       "<table border=\"1\" class=\"dataframe\">\n",
       "  <thead>\n",
       "    <tr style=\"text-align: right;\">\n",
       "      <th></th>\n",
       "      <th>count</th>\n",
       "      <th>mean</th>\n",
       "      <th>std</th>\n",
       "      <th>min</th>\n",
       "      <th>25%</th>\n",
       "      <th>50%</th>\n",
       "      <th>75%</th>\n",
       "      <th>max</th>\n",
       "    </tr>\n",
       "    <tr>\n",
       "      <th>churn</th>\n",
       "      <th></th>\n",
       "      <th></th>\n",
       "      <th></th>\n",
       "      <th></th>\n",
       "      <th></th>\n",
       "      <th></th>\n",
       "      <th></th>\n",
       "      <th></th>\n",
       "    </tr>\n",
       "  </thead>\n",
       "  <tbody>\n",
       "    <tr>\n",
       "      <th>0</th>\n",
       "      <td>173.0</td>\n",
       "      <td>975.768786</td>\n",
       "      <td>951.912881</td>\n",
       "      <td>3.0</td>\n",
       "      <td>239.0</td>\n",
       "      <td>696.0</td>\n",
       "      <td>1477.0</td>\n",
       "      <td>5946.0</td>\n",
       "    </tr>\n",
       "    <tr>\n",
       "      <th>1</th>\n",
       "      <td>52.0</td>\n",
       "      <td>638.365385</td>\n",
       "      <td>619.598669</td>\n",
       "      <td>8.0</td>\n",
       "      <td>147.0</td>\n",
       "      <td>432.5</td>\n",
       "      <td>901.5</td>\n",
       "      <td>2562.0</td>\n",
       "    </tr>\n",
       "  </tbody>\n",
       "</table>\n",
       "</div>"
      ],
      "text/plain": [
       "       count        mean         std  min    25%    50%     75%     max\n",
       "churn                                                                  \n",
       "0      173.0  975.768786  951.912881  3.0  239.0  696.0  1477.0  5946.0\n",
       "1       52.0  638.365385  619.598669  8.0  147.0  432.5   901.5  2562.0"
      ]
     },
     "execution_count": 62,
     "metadata": {},
     "output_type": "execute_result"
    }
   ],
   "source": [
    "tmp_content=df.groupby(['churn','userId'])['content'].nunique().reset_index()\n",
    "tmp_content.groupby('churn')['content'].describe()"
   ]
  },
  {
   "cell_type": "code",
   "execution_count": 63,
   "id": "553c3766",
   "metadata": {},
   "outputs": [
    {
     "data": {
      "text/html": [
       "<div>\n",
       "<style scoped>\n",
       "    .dataframe tbody tr th:only-of-type {\n",
       "        vertical-align: middle;\n",
       "    }\n",
       "\n",
       "    .dataframe tbody tr th {\n",
       "        vertical-align: top;\n",
       "    }\n",
       "\n",
       "    .dataframe thead th {\n",
       "        text-align: right;\n",
       "    }\n",
       "</style>\n",
       "<table border=\"1\" class=\"dataframe\">\n",
       "  <thead>\n",
       "    <tr style=\"text-align: right;\">\n",
       "      <th></th>\n",
       "      <th>count</th>\n",
       "      <th>mean</th>\n",
       "      <th>std</th>\n",
       "      <th>min</th>\n",
       "      <th>25%</th>\n",
       "      <th>50%</th>\n",
       "      <th>75%</th>\n",
       "      <th>max</th>\n",
       "    </tr>\n",
       "    <tr>\n",
       "      <th>churn</th>\n",
       "      <th></th>\n",
       "      <th></th>\n",
       "      <th></th>\n",
       "      <th></th>\n",
       "      <th></th>\n",
       "      <th></th>\n",
       "      <th></th>\n",
       "      <th></th>\n",
       "    </tr>\n",
       "  </thead>\n",
       "  <tbody>\n",
       "    <tr>\n",
       "      <th>0</th>\n",
       "      <td>173.0</td>\n",
       "      <td>1108.173410</td>\n",
       "      <td>1183.146703</td>\n",
       "      <td>3.0</td>\n",
       "      <td>251.00</td>\n",
       "      <td>747.0</td>\n",
       "      <td>1640.0</td>\n",
       "      <td>8002.0</td>\n",
       "    </tr>\n",
       "    <tr>\n",
       "      <th>1</th>\n",
       "      <td>52.0</td>\n",
       "      <td>699.884615</td>\n",
       "      <td>714.737650</td>\n",
       "      <td>8.0</td>\n",
       "      <td>148.75</td>\n",
       "      <td>452.5</td>\n",
       "      <td>963.5</td>\n",
       "      <td>3028.0</td>\n",
       "    </tr>\n",
       "  </tbody>\n",
       "</table>\n",
       "</div>"
      ],
      "text/plain": [
       "       count         mean          std  min     25%    50%     75%     max\n",
       "churn                                                                     \n",
       "0      173.0  1108.173410  1183.146703  3.0  251.00  747.0  1640.0  8002.0\n",
       "1       52.0   699.884615   714.737650  8.0  148.75  452.5   963.5  3028.0"
      ]
     },
     "execution_count": 63,
     "metadata": {},
     "output_type": "execute_result"
    }
   ],
   "source": [
    "tmp_content=df.groupby(['churn','userId'])['content'].count().reset_index()\n",
    "tmp_content.groupby('churn')['content'].describe()"
   ]
  },
  {
   "cell_type": "code",
   "execution_count": 64,
   "id": "6e7cb499",
   "metadata": {},
   "outputs": [
    {
     "data": {
      "text/html": [
       "<div>\n",
       "<style scoped>\n",
       "    .dataframe tbody tr th:only-of-type {\n",
       "        vertical-align: middle;\n",
       "    }\n",
       "\n",
       "    .dataframe tbody tr th {\n",
       "        vertical-align: top;\n",
       "    }\n",
       "\n",
       "    .dataframe thead th {\n",
       "        text-align: right;\n",
       "    }\n",
       "</style>\n",
       "<table border=\"1\" class=\"dataframe\">\n",
       "  <thead>\n",
       "    <tr style=\"text-align: right;\">\n",
       "      <th></th>\n",
       "      <th>count</th>\n",
       "      <th>mean</th>\n",
       "      <th>std</th>\n",
       "      <th>min</th>\n",
       "      <th>25%</th>\n",
       "      <th>50%</th>\n",
       "      <th>75%</th>\n",
       "      <th>max</th>\n",
       "    </tr>\n",
       "    <tr>\n",
       "      <th>churn</th>\n",
       "      <th></th>\n",
       "      <th></th>\n",
       "      <th></th>\n",
       "      <th></th>\n",
       "      <th></th>\n",
       "      <th></th>\n",
       "      <th></th>\n",
       "      <th></th>\n",
       "    </tr>\n",
       "  </thead>\n",
       "  <tbody>\n",
       "    <tr>\n",
       "      <th>0</th>\n",
       "      <td>173.0</td>\n",
       "      <td>743.323699</td>\n",
       "      <td>623.711462</td>\n",
       "      <td>3.0</td>\n",
       "      <td>224.00</td>\n",
       "      <td>588.0</td>\n",
       "      <td>1126.0</td>\n",
       "      <td>3479.0</td>\n",
       "    </tr>\n",
       "    <tr>\n",
       "      <th>1</th>\n",
       "      <td>52.0</td>\n",
       "      <td>515.384615</td>\n",
       "      <td>451.566387</td>\n",
       "      <td>8.0</td>\n",
       "      <td>143.25</td>\n",
       "      <td>385.0</td>\n",
       "      <td>757.0</td>\n",
       "      <td>1787.0</td>\n",
       "    </tr>\n",
       "  </tbody>\n",
       "</table>\n",
       "</div>"
      ],
      "text/plain": [
       "       count        mean         std  min     25%    50%     75%     max\n",
       "churn                                                                   \n",
       "0      173.0  743.323699  623.711462  3.0  224.00  588.0  1126.0  3479.0\n",
       "1       52.0  515.384615  451.566387  8.0  143.25  385.0   757.0  1787.0"
      ]
     },
     "execution_count": 64,
     "metadata": {},
     "output_type": "execute_result"
    }
   ],
   "source": [
    "tmp_author=df.groupby(['churn','userId'])['author'].nunique().reset_index()\n",
    "tmp_author.groupby('churn')['author'].describe()"
   ]
  },
  {
   "cell_type": "markdown",
   "id": "86bd9299",
   "metadata": {},
   "source": [
    "订阅用户的内容访问量平均值为1108，远高于非订阅用户的714\n",
    "\n",
    "订阅用户访问的作者数量为743，远高于非订阅用户的515"
   ]
  },
  {
   "cell_type": "markdown",
   "id": "03168ed6",
   "metadata": {},
   "source": [
    "#### 3.3.2 page"
   ]
  },
  {
   "cell_type": "code",
   "execution_count": 65,
   "id": "ba564246",
   "metadata": {},
   "outputs": [],
   "source": [
    "tmp_page=pd.Series(df.groupby(['churn','userId'])['page'].value_counts(1),name='count').reset_index()"
   ]
  },
  {
   "cell_type": "code",
   "execution_count": 66,
   "id": "fb1bd131",
   "metadata": {},
   "outputs": [
    {
     "data": {
      "text/plain": [
       "<AxesSubplot:xlabel='count', ylabel='page'>"
      ]
     },
     "execution_count": 66,
     "metadata": {},
     "output_type": "execute_result"
    },
    {
     "data": {
      "image/png": "[encoded data removed]",
      "text/plain": [
       "<Figure size 720x720 with 1 Axes>"
      ]
     },
     "metadata": {
      "needs_background": "light"
     },
     "output_type": "display_data"
    }
   ],
   "source": [
    "plt.figure(figsize=(10,10))\n",
    "sns.barplot(y='page',x='count',hue='churn',data=tmp_page)"
   ]
  },
  {
   "cell_type": "markdown",
   "id": "cf83b691",
   "metadata": {},
   "source": [
    "非退订用户在以下方面的访问量多于订阅用户\n",
    "\n",
    "广告\n",
    "\n",
    "回到主页\n",
    "\n",
    "不喜欢\n",
    "\n",
    "设置\n",
    "\n",
    "降级订阅套餐"
   ]
  },
  {
   "cell_type": "markdown",
   "id": "5d7681d9",
   "metadata": {},
   "source": [
    "#### 3.3.3 status"
   ]
  },
  {
   "cell_type": "code",
   "execution_count": 67,
   "id": "761e7a04",
   "metadata": {},
   "outputs": [],
   "source": [
    "def cate_plot(cat_name,func,orient='h'):\n",
    "    tmp_cat=getattr(df.groupby(['churn','userId'])[cat_name],func)(1)\n",
    "    tmp_cat=pd.Series(tmp_cat,name='count').reset_index()\n",
    "    plt.figure(figsize=(10,10))\n",
    "    sns.barplot(y=cat_name,x='count',hue='churn',orient=orient,data=tmp_cat)"
   ]
  },
  {
   "cell_type": "code",
   "execution_count": 68,
   "id": "2ce04cef",
   "metadata": {},
   "outputs": [
    {
     "data": {
      "image/png": "[encoded data removed]",
      "text/plain": [
       "<Figure size 720x720 with 1 Axes>"
      ]
     },
     "metadata": {
      "needs_background": "light"
     },
     "output_type": "display_data"
    }
   ],
   "source": [
    "cate_plot('status','value_counts')"
   ]
  },
  {
   "cell_type": "markdown",
   "id": "fbe5f6e3",
   "metadata": {},
   "source": [
    "status对是否退订没有影响"
   ]
  },
  {
   "cell_type": "markdown",
   "id": "d4f00109",
   "metadata": {},
   "source": [
    "#### 3.3.4 weekday&hour"
   ]
  },
  {
   "cell_type": "code",
   "execution_count": 69,
   "id": "b952899f",
   "metadata": {},
   "outputs": [
    {
     "data": {
      "image/png": "[encoded data removed]",
      "text/plain": [
       "<Figure size 720x720 with 1 Axes>"
      ]
     },
     "metadata": {
      "needs_background": "light"
     },
     "output_type": "display_data"
    }
   ],
   "source": [
    "cate_plot('weekday','value_counts')"
   ]
  },
  {
   "cell_type": "code",
   "execution_count": 70,
   "id": "748e15c4",
   "metadata": {},
   "outputs": [
    {
     "data": {
      "image/png": "[encoded data removed]",
      "text/plain": [
       "<Figure size 720x720 with 1 Axes>"
      ]
     },
     "metadata": {
      "needs_background": "light"
     },
     "output_type": "display_data"
    }
   ],
   "source": [
    "cate_plot('hour','value_counts')"
   ]
  },
  {
   "cell_type": "code",
   "execution_count": 71,
   "id": "0f8383fe",
   "metadata": {},
   "outputs": [],
   "source": [
    "def cate_plot(cat_name,func,order=None,orient='h'):\n",
    "    tmp_cat=getattr(df.groupby(['churn','userId'])[cat_name],func)(1)\n",
    "    tmp_cat=pd.Series(tmp_cat,name='count').reset_index()\n",
    "    plt.figure(figsize=(10,10))\n",
    "    sns.barplot(y=cat_name,x='count',hue='churn',order=order,orient=orient,data=tmp_cat)"
   ]
  },
  {
   "cell_type": "code",
   "execution_count": 72,
   "id": "4aa4be31",
   "metadata": {},
   "outputs": [
    {
     "data": {
      "image/png": "[encoded data removed]",
      "text/plain": [
       "<Figure size 720x720 with 1 Axes>"
      ]
     },
     "metadata": {
      "needs_background": "light"
     },
     "output_type": "display_data"
    }
   ],
   "source": [
    "cate_plot('weekday','value_counts',order=weekday_dict.values())"
   ]
  },
  {
   "cell_type": "code",
   "execution_count": 73,
   "id": "1fdfd7dd",
   "metadata": {},
   "outputs": [],
   "source": [
    "tmp_hour=pd.Series(df.groupby(['churn','userId'])['hour'].value_counts(1),name='count').reset_index()"
   ]
  },
  {
   "cell_type": "code",
   "execution_count": 74,
   "id": "8e1f5dba",
   "metadata": {},
   "outputs": [
    {
     "data": {
      "text/html": [
       "<div>\n",
       "<style scoped>\n",
       "    .dataframe tbody tr th:only-of-type {\n",
       "        vertical-align: middle;\n",
       "    }\n",
       "\n",
       "    .dataframe tbody tr th {\n",
       "        vertical-align: top;\n",
       "    }\n",
       "\n",
       "    .dataframe thead th {\n",
       "        text-align: right;\n",
       "    }\n",
       "</style>\n",
       "<table border=\"1\" class=\"dataframe\">\n",
       "  <thead>\n",
       "    <tr style=\"text-align: right;\">\n",
       "      <th></th>\n",
       "      <th>churn</th>\n",
       "      <th>userId</th>\n",
       "      <th>hour</th>\n",
       "      <th>count</th>\n",
       "    </tr>\n",
       "  </thead>\n",
       "  <tbody>\n",
       "    <tr>\n",
       "      <th>0</th>\n",
       "      <td>0</td>\n",
       "      <td>7352321</td>\n",
       "      <td>12</td>\n",
       "      <td>0.311111</td>\n",
       "    </tr>\n",
       "    <tr>\n",
       "      <th>1</th>\n",
       "      <td>0</td>\n",
       "      <td>7352321</td>\n",
       "      <td>23</td>\n",
       "      <td>0.288889</td>\n",
       "    </tr>\n",
       "    <tr>\n",
       "      <th>2</th>\n",
       "      <td>0</td>\n",
       "      <td>7352321</td>\n",
       "      <td>13</td>\n",
       "      <td>0.177778</td>\n",
       "    </tr>\n",
       "    <tr>\n",
       "      <th>3</th>\n",
       "      <td>0</td>\n",
       "      <td>7352321</td>\n",
       "      <td>6</td>\n",
       "      <td>0.088889</td>\n",
       "    </tr>\n",
       "    <tr>\n",
       "      <th>4</th>\n",
       "      <td>0</td>\n",
       "      <td>7352321</td>\n",
       "      <td>19</td>\n",
       "      <td>0.066667</td>\n",
       "    </tr>\n",
       "    <tr>\n",
       "      <th>...</th>\n",
       "      <td>...</td>\n",
       "      <td>...</td>\n",
       "      <td>...</td>\n",
       "      <td>...</td>\n",
       "    </tr>\n",
       "    <tr>\n",
       "      <th>4271</th>\n",
       "      <td>1</td>\n",
       "      <td>9815548900</td>\n",
       "      <td>18</td>\n",
       "      <td>0.022581</td>\n",
       "    </tr>\n",
       "    <tr>\n",
       "      <th>4272</th>\n",
       "      <td>1</td>\n",
       "      <td>9815548900</td>\n",
       "      <td>1</td>\n",
       "      <td>0.020968</td>\n",
       "    </tr>\n",
       "    <tr>\n",
       "      <th>4273</th>\n",
       "      <td>1</td>\n",
       "      <td>9815548900</td>\n",
       "      <td>17</td>\n",
       "      <td>0.019355</td>\n",
       "    </tr>\n",
       "    <tr>\n",
       "      <th>4274</th>\n",
       "      <td>1</td>\n",
       "      <td>9815548900</td>\n",
       "      <td>16</td>\n",
       "      <td>0.016129</td>\n",
       "    </tr>\n",
       "    <tr>\n",
       "      <th>4275</th>\n",
       "      <td>1</td>\n",
       "      <td>9815548900</td>\n",
       "      <td>13</td>\n",
       "      <td>0.008065</td>\n",
       "    </tr>\n",
       "  </tbody>\n",
       "</table>\n",
       "<p>4276 rows × 4 columns</p>\n",
       "</div>"
      ],
      "text/plain": [
       "      churn      userId  hour     count\n",
       "0         0     7352321    12  0.311111\n",
       "1         0     7352321    23  0.288889\n",
       "2         0     7352321    13  0.177778\n",
       "3         0     7352321     6  0.088889\n",
       "4         0     7352321    19  0.066667\n",
       "...     ...         ...   ...       ...\n",
       "4271      1  9815548900    18  0.022581\n",
       "4272      1  9815548900     1  0.020968\n",
       "4273      1  9815548900    17  0.019355\n",
       "4274      1  9815548900    16  0.016129\n",
       "4275      1  9815548900    13  0.008065\n",
       "\n",
       "[4276 rows x 4 columns]"
      ]
     },
     "execution_count": 74,
     "metadata": {},
     "output_type": "execute_result"
    }
   ],
   "source": [
    "tmp_hour"
   ]
  },
  {
   "cell_type": "code",
   "execution_count": 75,
   "id": "08f433c7",
   "metadata": {},
   "outputs": [],
   "source": [
    "tmp_hour=tmp_hour.groupby(['churn','hour'])['count'].mean().reset_index()"
   ]
  },
  {
   "cell_type": "code",
   "execution_count": 76,
   "id": "52b0b056",
   "metadata": {},
   "outputs": [
    {
     "data": {
      "text/html": [
       "<div>\n",
       "<style scoped>\n",
       "    .dataframe tbody tr th:only-of-type {\n",
       "        vertical-align: middle;\n",
       "    }\n",
       "\n",
       "    .dataframe tbody tr th {\n",
       "        vertical-align: top;\n",
       "    }\n",
       "\n",
       "    .dataframe thead th {\n",
       "        text-align: right;\n",
       "    }\n",
       "</style>\n",
       "<table border=\"1\" class=\"dataframe\">\n",
       "  <thead>\n",
       "    <tr style=\"text-align: right;\">\n",
       "      <th></th>\n",
       "      <th>churn</th>\n",
       "      <th>hour</th>\n",
       "      <th>count</th>\n",
       "    </tr>\n",
       "  </thead>\n",
       "  <tbody>\n",
       "    <tr>\n",
       "      <th>0</th>\n",
       "      <td>0</td>\n",
       "      <td>0</td>\n",
       "      <td>0.049388</td>\n",
       "    </tr>\n",
       "    <tr>\n",
       "      <th>1</th>\n",
       "      <td>0</td>\n",
       "      <td>1</td>\n",
       "      <td>0.045607</td>\n",
       "    </tr>\n",
       "    <tr>\n",
       "      <th>2</th>\n",
       "      <td>0</td>\n",
       "      <td>2</td>\n",
       "      <td>0.043092</td>\n",
       "    </tr>\n",
       "    <tr>\n",
       "      <th>3</th>\n",
       "      <td>0</td>\n",
       "      <td>3</td>\n",
       "      <td>0.043453</td>\n",
       "    </tr>\n",
       "    <tr>\n",
       "      <th>4</th>\n",
       "      <td>0</td>\n",
       "      <td>4</td>\n",
       "      <td>0.044405</td>\n",
       "    </tr>\n",
       "    <tr>\n",
       "      <th>5</th>\n",
       "      <td>0</td>\n",
       "      <td>5</td>\n",
       "      <td>0.043975</td>\n",
       "    </tr>\n",
       "    <tr>\n",
       "      <th>6</th>\n",
       "      <td>0</td>\n",
       "      <td>6</td>\n",
       "      <td>0.043563</td>\n",
       "    </tr>\n",
       "    <tr>\n",
       "      <th>7</th>\n",
       "      <td>0</td>\n",
       "      <td>7</td>\n",
       "      <td>0.043121</td>\n",
       "    </tr>\n",
       "    <tr>\n",
       "      <th>8</th>\n",
       "      <td>0</td>\n",
       "      <td>8</td>\n",
       "      <td>0.041477</td>\n",
       "    </tr>\n",
       "    <tr>\n",
       "      <th>9</th>\n",
       "      <td>0</td>\n",
       "      <td>9</td>\n",
       "      <td>0.049704</td>\n",
       "    </tr>\n",
       "    <tr>\n",
       "      <th>10</th>\n",
       "      <td>0</td>\n",
       "      <td>10</td>\n",
       "      <td>0.047767</td>\n",
       "    </tr>\n",
       "    <tr>\n",
       "      <th>11</th>\n",
       "      <td>0</td>\n",
       "      <td>11</td>\n",
       "      <td>0.046273</td>\n",
       "    </tr>\n",
       "    <tr>\n",
       "      <th>12</th>\n",
       "      <td>0</td>\n",
       "      <td>12</td>\n",
       "      <td>0.051426</td>\n",
       "    </tr>\n",
       "    <tr>\n",
       "      <th>13</th>\n",
       "      <td>0</td>\n",
       "      <td>13</td>\n",
       "      <td>0.054870</td>\n",
       "    </tr>\n",
       "    <tr>\n",
       "      <th>14</th>\n",
       "      <td>0</td>\n",
       "      <td>14</td>\n",
       "      <td>0.059995</td>\n",
       "    </tr>\n",
       "    <tr>\n",
       "      <th>15</th>\n",
       "      <td>0</td>\n",
       "      <td>15</td>\n",
       "      <td>0.066948</td>\n",
       "    </tr>\n",
       "    <tr>\n",
       "      <th>16</th>\n",
       "      <td>0</td>\n",
       "      <td>16</td>\n",
       "      <td>0.066982</td>\n",
       "    </tr>\n",
       "    <tr>\n",
       "      <th>17</th>\n",
       "      <td>0</td>\n",
       "      <td>17</td>\n",
       "      <td>0.057710</td>\n",
       "    </tr>\n",
       "    <tr>\n",
       "      <th>18</th>\n",
       "      <td>0</td>\n",
       "      <td>18</td>\n",
       "      <td>0.055181</td>\n",
       "    </tr>\n",
       "    <tr>\n",
       "      <th>19</th>\n",
       "      <td>0</td>\n",
       "      <td>19</td>\n",
       "      <td>0.053631</td>\n",
       "    </tr>\n",
       "    <tr>\n",
       "      <th>20</th>\n",
       "      <td>0</td>\n",
       "      <td>20</td>\n",
       "      <td>0.053268</td>\n",
       "    </tr>\n",
       "    <tr>\n",
       "      <th>21</th>\n",
       "      <td>0</td>\n",
       "      <td>21</td>\n",
       "      <td>0.052772</td>\n",
       "    </tr>\n",
       "    <tr>\n",
       "      <th>22</th>\n",
       "      <td>0</td>\n",
       "      <td>22</td>\n",
       "      <td>0.050712</td>\n",
       "    </tr>\n",
       "    <tr>\n",
       "      <th>23</th>\n",
       "      <td>0</td>\n",
       "      <td>23</td>\n",
       "      <td>0.060448</td>\n",
       "    </tr>\n",
       "    <tr>\n",
       "      <th>24</th>\n",
       "      <td>1</td>\n",
       "      <td>0</td>\n",
       "      <td>0.047187</td>\n",
       "    </tr>\n",
       "    <tr>\n",
       "      <th>25</th>\n",
       "      <td>1</td>\n",
       "      <td>1</td>\n",
       "      <td>0.042899</td>\n",
       "    </tr>\n",
       "    <tr>\n",
       "      <th>26</th>\n",
       "      <td>1</td>\n",
       "      <td>2</td>\n",
       "      <td>0.042461</td>\n",
       "    </tr>\n",
       "    <tr>\n",
       "      <th>27</th>\n",
       "      <td>1</td>\n",
       "      <td>3</td>\n",
       "      <td>0.045020</td>\n",
       "    </tr>\n",
       "    <tr>\n",
       "      <th>28</th>\n",
       "      <td>1</td>\n",
       "      <td>4</td>\n",
       "      <td>0.069400</td>\n",
       "    </tr>\n",
       "    <tr>\n",
       "      <th>29</th>\n",
       "      <td>1</td>\n",
       "      <td>5</td>\n",
       "      <td>0.041548</td>\n",
       "    </tr>\n",
       "    <tr>\n",
       "      <th>30</th>\n",
       "      <td>1</td>\n",
       "      <td>6</td>\n",
       "      <td>0.046459</td>\n",
       "    </tr>\n",
       "    <tr>\n",
       "      <th>31</th>\n",
       "      <td>1</td>\n",
       "      <td>7</td>\n",
       "      <td>0.042962</td>\n",
       "    </tr>\n",
       "    <tr>\n",
       "      <th>32</th>\n",
       "      <td>1</td>\n",
       "      <td>8</td>\n",
       "      <td>0.045073</td>\n",
       "    </tr>\n",
       "    <tr>\n",
       "      <th>33</th>\n",
       "      <td>1</td>\n",
       "      <td>9</td>\n",
       "      <td>0.042865</td>\n",
       "    </tr>\n",
       "    <tr>\n",
       "      <th>34</th>\n",
       "      <td>1</td>\n",
       "      <td>10</td>\n",
       "      <td>0.049721</td>\n",
       "    </tr>\n",
       "    <tr>\n",
       "      <th>35</th>\n",
       "      <td>1</td>\n",
       "      <td>11</td>\n",
       "      <td>0.044461</td>\n",
       "    </tr>\n",
       "    <tr>\n",
       "      <th>36</th>\n",
       "      <td>1</td>\n",
       "      <td>12</td>\n",
       "      <td>0.044122</td>\n",
       "    </tr>\n",
       "    <tr>\n",
       "      <th>37</th>\n",
       "      <td>1</td>\n",
       "      <td>13</td>\n",
       "      <td>0.055221</td>\n",
       "    </tr>\n",
       "    <tr>\n",
       "      <th>38</th>\n",
       "      <td>1</td>\n",
       "      <td>14</td>\n",
       "      <td>0.069505</td>\n",
       "    </tr>\n",
       "    <tr>\n",
       "      <th>39</th>\n",
       "      <td>1</td>\n",
       "      <td>15</td>\n",
       "      <td>0.080749</td>\n",
       "    </tr>\n",
       "    <tr>\n",
       "      <th>40</th>\n",
       "      <td>1</td>\n",
       "      <td>16</td>\n",
       "      <td>0.078950</td>\n",
       "    </tr>\n",
       "    <tr>\n",
       "      <th>41</th>\n",
       "      <td>1</td>\n",
       "      <td>17</td>\n",
       "      <td>0.093522</td>\n",
       "    </tr>\n",
       "    <tr>\n",
       "      <th>42</th>\n",
       "      <td>1</td>\n",
       "      <td>18</td>\n",
       "      <td>0.083111</td>\n",
       "    </tr>\n",
       "    <tr>\n",
       "      <th>43</th>\n",
       "      <td>1</td>\n",
       "      <td>19</td>\n",
       "      <td>0.057697</td>\n",
       "    </tr>\n",
       "    <tr>\n",
       "      <th>44</th>\n",
       "      <td>1</td>\n",
       "      <td>20</td>\n",
       "      <td>0.061677</td>\n",
       "    </tr>\n",
       "    <tr>\n",
       "      <th>45</th>\n",
       "      <td>1</td>\n",
       "      <td>21</td>\n",
       "      <td>0.055452</td>\n",
       "    </tr>\n",
       "    <tr>\n",
       "      <th>46</th>\n",
       "      <td>1</td>\n",
       "      <td>22</td>\n",
       "      <td>0.063857</td>\n",
       "    </tr>\n",
       "    <tr>\n",
       "      <th>47</th>\n",
       "      <td>1</td>\n",
       "      <td>23</td>\n",
       "      <td>0.055946</td>\n",
       "    </tr>\n",
       "  </tbody>\n",
       "</table>\n",
       "</div>"
      ],
      "text/plain": [
       "    churn  hour     count\n",
       "0       0     0  0.049388\n",
       "1       0     1  0.045607\n",
       "2       0     2  0.043092\n",
       "3       0     3  0.043453\n",
       "4       0     4  0.044405\n",
       "5       0     5  0.043975\n",
       "6       0     6  0.043563\n",
       "7       0     7  0.043121\n",
       "8       0     8  0.041477\n",
       "9       0     9  0.049704\n",
       "10      0    10  0.047767\n",
       "11      0    11  0.046273\n",
       "12      0    12  0.051426\n",
       "13      0    13  0.054870\n",
       "14      0    14  0.059995\n",
       "15      0    15  0.066948\n",
       "16      0    16  0.066982\n",
       "17      0    17  0.057710\n",
       "18      0    18  0.055181\n",
       "19      0    19  0.053631\n",
       "20      0    20  0.053268\n",
       "21      0    21  0.052772\n",
       "22      0    22  0.050712\n",
       "23      0    23  0.060448\n",
       "24      1     0  0.047187\n",
       "25      1     1  0.042899\n",
       "26      1     2  0.042461\n",
       "27      1     3  0.045020\n",
       "28      1     4  0.069400\n",
       "29      1     5  0.041548\n",
       "30      1     6  0.046459\n",
       "31      1     7  0.042962\n",
       "32      1     8  0.045073\n",
       "33      1     9  0.042865\n",
       "34      1    10  0.049721\n",
       "35      1    11  0.044461\n",
       "36      1    12  0.044122\n",
       "37      1    13  0.055221\n",
       "38      1    14  0.069505\n",
       "39      1    15  0.080749\n",
       "40      1    16  0.078950\n",
       "41      1    17  0.093522\n",
       "42      1    18  0.083111\n",
       "43      1    19  0.057697\n",
       "44      1    20  0.061677\n",
       "45      1    21  0.055452\n",
       "46      1    22  0.063857\n",
       "47      1    23  0.055946"
      ]
     },
     "execution_count": 76,
     "metadata": {},
     "output_type": "execute_result"
    }
   ],
   "source": [
    "tmp_hour"
   ]
  },
  {
   "cell_type": "code",
   "execution_count": 77,
   "id": "7b8e5552",
   "metadata": {},
   "outputs": [
    {
     "data": {
      "text/plain": [
       "<AxesSubplot:xlabel='hour', ylabel='count'>"
      ]
     },
     "execution_count": 77,
     "metadata": {},
     "output_type": "execute_result"
    },
    {
     "data": {
      "image/png": "[encoded data removed]",
      "text/plain": [
       "<Figure size 720x360 with 1 Axes>"
      ]
     },
     "metadata": {
      "needs_background": "light"
     },
     "output_type": "display_data"
    }
   ],
   "source": [
    "plt.figure(figsize=(10,5))\n",
    "sns.barplot(x='hour',y='count',hue='churn',data=tmp_hour)"
   ]
  },
  {
   "cell_type": "markdown",
   "id": "9111958d",
   "metadata": {},
   "source": [
    "退订用户在周一到周六访问量都比非退订用户高"
   ]
  },
  {
   "cell_type": "markdown",
   "id": "ed216824",
   "metadata": {},
   "source": [
    "退订用户在14-18时间段访问量比非退订用户高"
   ]
  },
  {
   "cell_type": "markdown",
   "id": "13802c5a",
   "metadata": {},
   "source": [
    "#### 3.3.5 userBrowser&platform"
   ]
  },
  {
   "cell_type": "code",
   "execution_count": 78,
   "id": "1851b39f",
   "metadata": {},
   "outputs": [],
   "source": [
    "tmp_userBrowser=pd.Series(df.groupby(['churn','userId'])['userBrowser'].value_counts(),name='count')\n",
    "tmp_userBrowser=tmp_userBrowser.reset_index()"
   ]
  },
  {
   "cell_type": "code",
   "execution_count": 79,
   "id": "b83d7e07",
   "metadata": {},
   "outputs": [
    {
     "data": {
      "text/html": [
       "<div>\n",
       "<style scoped>\n",
       "    .dataframe tbody tr th:only-of-type {\n",
       "        vertical-align: middle;\n",
       "    }\n",
       "\n",
       "    .dataframe tbody tr th {\n",
       "        vertical-align: top;\n",
       "    }\n",
       "\n",
       "    .dataframe thead th {\n",
       "        text-align: right;\n",
       "    }\n",
       "</style>\n",
       "<table border=\"1\" class=\"dataframe\">\n",
       "  <thead>\n",
       "    <tr style=\"text-align: right;\">\n",
       "      <th></th>\n",
       "      <th>churn</th>\n",
       "      <th>userId</th>\n",
       "      <th>userBrowser</th>\n",
       "      <th>count</th>\n",
       "    </tr>\n",
       "  </thead>\n",
       "  <tbody>\n",
       "    <tr>\n",
       "      <th>0</th>\n",
       "      <td>0</td>\n",
       "      <td>7352321</td>\n",
       "      <td>Chrome</td>\n",
       "      <td>45</td>\n",
       "    </tr>\n",
       "    <tr>\n",
       "      <th>1</th>\n",
       "      <td>0</td>\n",
       "      <td>32678976</td>\n",
       "      <td>Safari</td>\n",
       "      <td>1682</td>\n",
       "    </tr>\n",
       "    <tr>\n",
       "      <th>2</th>\n",
       "      <td>0</td>\n",
       "      <td>129878601</td>\n",
       "      <td>Chrome</td>\n",
       "      <td>296</td>\n",
       "    </tr>\n",
       "    <tr>\n",
       "      <th>3</th>\n",
       "      <td>0</td>\n",
       "      <td>175542601</td>\n",
       "      <td>Chrome</td>\n",
       "      <td>68</td>\n",
       "    </tr>\n",
       "    <tr>\n",
       "      <th>4</th>\n",
       "      <td>0</td>\n",
       "      <td>279053089</td>\n",
       "      <td>Safari</td>\n",
       "      <td>2067</td>\n",
       "    </tr>\n",
       "    <tr>\n",
       "      <th>...</th>\n",
       "      <td>...</td>\n",
       "      <td>...</td>\n",
       "      <td>...</td>\n",
       "      <td>...</td>\n",
       "    </tr>\n",
       "    <tr>\n",
       "      <th>220</th>\n",
       "      <td>1</td>\n",
       "      <td>9040734161</td>\n",
       "      <td>Firefox</td>\n",
       "      <td>62</td>\n",
       "    </tr>\n",
       "    <tr>\n",
       "      <th>221</th>\n",
       "      <td>1</td>\n",
       "      <td>9314552369</td>\n",
       "      <td>Safari</td>\n",
       "      <td>319</td>\n",
       "    </tr>\n",
       "    <tr>\n",
       "      <th>222</th>\n",
       "      <td>1</td>\n",
       "      <td>9380329081</td>\n",
       "      <td>Safari</td>\n",
       "      <td>108</td>\n",
       "    </tr>\n",
       "    <tr>\n",
       "      <th>223</th>\n",
       "      <td>1</td>\n",
       "      <td>9621372441</td>\n",
       "      <td>Chrome</td>\n",
       "      <td>310</td>\n",
       "    </tr>\n",
       "    <tr>\n",
       "      <th>224</th>\n",
       "      <td>1</td>\n",
       "      <td>9815548900</td>\n",
       "      <td>Safari</td>\n",
       "      <td>620</td>\n",
       "    </tr>\n",
       "  </tbody>\n",
       "</table>\n",
       "<p>225 rows × 4 columns</p>\n",
       "</div>"
      ],
      "text/plain": [
       "     churn      userId userBrowser  count\n",
       "0        0     7352321      Chrome     45\n",
       "1        0    32678976      Safari   1682\n",
       "2        0   129878601      Chrome    296\n",
       "3        0   175542601      Chrome     68\n",
       "4        0   279053089      Safari   2067\n",
       "..     ...         ...         ...    ...\n",
       "220      1  9040734161     Firefox     62\n",
       "221      1  9314552369      Safari    319\n",
       "222      1  9380329081      Safari    108\n",
       "223      1  9621372441      Chrome    310\n",
       "224      1  9815548900      Safari    620\n",
       "\n",
       "[225 rows x 4 columns]"
      ]
     },
     "execution_count": 79,
     "metadata": {},
     "output_type": "execute_result"
    }
   ],
   "source": [
    "tmp_userBrowser"
   ]
  },
  {
   "cell_type": "code",
   "execution_count": 80,
   "id": "72b85764",
   "metadata": {},
   "outputs": [
    {
     "data": {
      "text/plain": [
       "<AxesSubplot:xlabel='userBrowser', ylabel='count'>"
      ]
     },
     "execution_count": 80,
     "metadata": {},
     "output_type": "execute_result"
    },
    {
     "data": {
      "image/png": "[encoded data removed]",
      "text/plain": [
       "<Figure size 432x288 with 1 Axes>"
      ]
     },
     "metadata": {
      "needs_background": "light"
     },
     "output_type": "display_data"
    }
   ],
   "source": [
    "sns.barplot(x='userBrowser',y='count',hue='churn',data=tmp_userBrowser)"
   ]
  },
  {
   "cell_type": "code",
   "execution_count": 81,
   "id": "14be8846",
   "metadata": {},
   "outputs": [],
   "source": [
    "tmp_userBrowser=pd.Series(tmp_userBrowser.groupby('churn')['userBrowser'].value_counts(),name='sum').reset_index()"
   ]
  },
  {
   "cell_type": "code",
   "execution_count": 82,
   "id": "1e2cc2bb",
   "metadata": {},
   "outputs": [
    {
     "data": {
      "text/plain": [
       "<AxesSubplot:xlabel='userBrowser', ylabel='sum'>"
      ]
     },
     "execution_count": 82,
     "metadata": {},
     "output_type": "execute_result"
    },
    {
     "data": {
      "image/png": "[encoded data removed]",
      "text/plain": [
       "<Figure size 432x288 with 1 Axes>"
      ]
     },
     "metadata": {
      "needs_background": "light"
     },
     "output_type": "display_data"
    }
   ],
   "source": [
    "sns.barplot(x='userBrowser',y='sum',hue='churn',data=tmp_userBrowser)"
   ]
  },
  {
   "cell_type": "code",
   "execution_count": 83,
   "id": "af38a943",
   "metadata": {},
   "outputs": [
    {
     "data": {
      "text/html": [
       "<div>\n",
       "<style scoped>\n",
       "    .dataframe tbody tr th:only-of-type {\n",
       "        vertical-align: middle;\n",
       "    }\n",
       "\n",
       "    .dataframe tbody tr th {\n",
       "        vertical-align: top;\n",
       "    }\n",
       "\n",
       "    .dataframe thead th {\n",
       "        text-align: right;\n",
       "    }\n",
       "</style>\n",
       "<table border=\"1\" class=\"dataframe\">\n",
       "  <thead>\n",
       "    <tr style=\"text-align: right;\">\n",
       "      <th></th>\n",
       "      <th>churn</th>\n",
       "      <th>userBrowser</th>\n",
       "      <th>sum</th>\n",
       "    </tr>\n",
       "  </thead>\n",
       "  <tbody>\n",
       "    <tr>\n",
       "      <th>0</th>\n",
       "      <td>0</td>\n",
       "      <td>Chrome</td>\n",
       "      <td>92</td>\n",
       "    </tr>\n",
       "    <tr>\n",
       "      <th>1</th>\n",
       "      <td>0</td>\n",
       "      <td>Safari</td>\n",
       "      <td>36</td>\n",
       "    </tr>\n",
       "    <tr>\n",
       "      <th>2</th>\n",
       "      <td>0</td>\n",
       "      <td>Firefox</td>\n",
       "      <td>34</td>\n",
       "    </tr>\n",
       "    <tr>\n",
       "      <th>3</th>\n",
       "      <td>0</td>\n",
       "      <td>IE</td>\n",
       "      <td>11</td>\n",
       "    </tr>\n",
       "    <tr>\n",
       "      <th>4</th>\n",
       "      <td>1</td>\n",
       "      <td>Chrome</td>\n",
       "      <td>25</td>\n",
       "    </tr>\n",
       "    <tr>\n",
       "      <th>5</th>\n",
       "      <td>1</td>\n",
       "      <td>Firefox</td>\n",
       "      <td>16</td>\n",
       "    </tr>\n",
       "    <tr>\n",
       "      <th>6</th>\n",
       "      <td>1</td>\n",
       "      <td>Safari</td>\n",
       "      <td>10</td>\n",
       "    </tr>\n",
       "    <tr>\n",
       "      <th>7</th>\n",
       "      <td>1</td>\n",
       "      <td>IE</td>\n",
       "      <td>1</td>\n",
       "    </tr>\n",
       "  </tbody>\n",
       "</table>\n",
       "</div>"
      ],
      "text/plain": [
       "   churn userBrowser  sum\n",
       "0      0      Chrome   92\n",
       "1      0      Safari   36\n",
       "2      0     Firefox   34\n",
       "3      0          IE   11\n",
       "4      1      Chrome   25\n",
       "5      1     Firefox   16\n",
       "6      1      Safari   10\n",
       "7      1          IE    1"
      ]
     },
     "execution_count": 83,
     "metadata": {},
     "output_type": "execute_result"
    }
   ],
   "source": [
    "tmp_userBrowser"
   ]
  },
  {
   "cell_type": "markdown",
   "id": "5ac570e8",
   "metadata": {},
   "source": [
    "可见每个用户都只用了一个浏览器，其中使用谷歌浏览器的用户退订比列高"
   ]
  },
  {
   "cell_type": "code",
   "execution_count": 84,
   "id": "154566af",
   "metadata": {},
   "outputs": [],
   "source": [
    "tmp_platform=pd.Series(df.groupby(['churn','userId'])['platform'].value_counts(),name='count').reset_index()"
   ]
  },
  {
   "cell_type": "code",
   "execution_count": 85,
   "id": "49e3e414",
   "metadata": {},
   "outputs": [
    {
     "data": {
      "text/html": [
       "<div>\n",
       "<style scoped>\n",
       "    .dataframe tbody tr th:only-of-type {\n",
       "        vertical-align: middle;\n",
       "    }\n",
       "\n",
       "    .dataframe tbody tr th {\n",
       "        vertical-align: top;\n",
       "    }\n",
       "\n",
       "    .dataframe thead th {\n",
       "        text-align: right;\n",
       "    }\n",
       "</style>\n",
       "<table border=\"1\" class=\"dataframe\">\n",
       "  <thead>\n",
       "    <tr style=\"text-align: right;\">\n",
       "      <th></th>\n",
       "      <th>churn</th>\n",
       "      <th>userId</th>\n",
       "      <th>platform</th>\n",
       "      <th>count</th>\n",
       "    </tr>\n",
       "  </thead>\n",
       "  <tbody>\n",
       "    <tr>\n",
       "      <th>0</th>\n",
       "      <td>0</td>\n",
       "      <td>7352321</td>\n",
       "      <td>Macintosh</td>\n",
       "      <td>45</td>\n",
       "    </tr>\n",
       "    <tr>\n",
       "      <th>1</th>\n",
       "      <td>0</td>\n",
       "      <td>32678976</td>\n",
       "      <td>iPad</td>\n",
       "      <td>1682</td>\n",
       "    </tr>\n",
       "    <tr>\n",
       "      <th>2</th>\n",
       "      <td>0</td>\n",
       "      <td>129878601</td>\n",
       "      <td>Macintosh</td>\n",
       "      <td>296</td>\n",
       "    </tr>\n",
       "    <tr>\n",
       "      <th>3</th>\n",
       "      <td>0</td>\n",
       "      <td>175542601</td>\n",
       "      <td>Macintosh</td>\n",
       "      <td>68</td>\n",
       "    </tr>\n",
       "    <tr>\n",
       "      <th>4</th>\n",
       "      <td>0</td>\n",
       "      <td>279053089</td>\n",
       "      <td>Macintosh</td>\n",
       "      <td>2067</td>\n",
       "    </tr>\n",
       "    <tr>\n",
       "      <th>...</th>\n",
       "      <td>...</td>\n",
       "      <td>...</td>\n",
       "      <td>...</td>\n",
       "      <td>...</td>\n",
       "    </tr>\n",
       "    <tr>\n",
       "      <th>220</th>\n",
       "      <td>1</td>\n",
       "      <td>9040734161</td>\n",
       "      <td>X11</td>\n",
       "      <td>62</td>\n",
       "    </tr>\n",
       "    <tr>\n",
       "      <th>221</th>\n",
       "      <td>1</td>\n",
       "      <td>9314552369</td>\n",
       "      <td>Macintosh</td>\n",
       "      <td>319</td>\n",
       "    </tr>\n",
       "    <tr>\n",
       "      <th>222</th>\n",
       "      <td>1</td>\n",
       "      <td>9380329081</td>\n",
       "      <td>iPhone</td>\n",
       "      <td>108</td>\n",
       "    </tr>\n",
       "    <tr>\n",
       "      <th>223</th>\n",
       "      <td>1</td>\n",
       "      <td>9621372441</td>\n",
       "      <td>Windows</td>\n",
       "      <td>310</td>\n",
       "    </tr>\n",
       "    <tr>\n",
       "      <th>224</th>\n",
       "      <td>1</td>\n",
       "      <td>9815548900</td>\n",
       "      <td>Macintosh</td>\n",
       "      <td>620</td>\n",
       "    </tr>\n",
       "  </tbody>\n",
       "</table>\n",
       "<p>225 rows × 4 columns</p>\n",
       "</div>"
      ],
      "text/plain": [
       "     churn      userId   platform  count\n",
       "0        0     7352321  Macintosh     45\n",
       "1        0    32678976       iPad   1682\n",
       "2        0   129878601  Macintosh    296\n",
       "3        0   175542601  Macintosh     68\n",
       "4        0   279053089  Macintosh   2067\n",
       "..     ...         ...        ...    ...\n",
       "220      1  9040734161        X11     62\n",
       "221      1  9314552369  Macintosh    319\n",
       "222      1  9380329081     iPhone    108\n",
       "223      1  9621372441    Windows    310\n",
       "224      1  9815548900  Macintosh    620\n",
       "\n",
       "[225 rows x 4 columns]"
      ]
     },
     "execution_count": 85,
     "metadata": {},
     "output_type": "execute_result"
    }
   ],
   "source": [
    "tmp_platform"
   ]
  },
  {
   "cell_type": "code",
   "execution_count": 86,
   "id": "7ad1e1f1",
   "metadata": {},
   "outputs": [],
   "source": [
    "tmp_platform=pd.Series(tmp_platform.groupby('churn')['platform'].value_counts(1),name='sum').reset_index()"
   ]
  },
  {
   "cell_type": "code",
   "execution_count": 87,
   "id": "e3a9246e",
   "metadata": {},
   "outputs": [
    {
     "data": {
      "text/html": [
       "<div>\n",
       "<style scoped>\n",
       "    .dataframe tbody tr th:only-of-type {\n",
       "        vertical-align: middle;\n",
       "    }\n",
       "\n",
       "    .dataframe tbody tr th {\n",
       "        vertical-align: top;\n",
       "    }\n",
       "\n",
       "    .dataframe thead th {\n",
       "        text-align: right;\n",
       "    }\n",
       "</style>\n",
       "<table border=\"1\" class=\"dataframe\">\n",
       "  <thead>\n",
       "    <tr style=\"text-align: right;\">\n",
       "      <th></th>\n",
       "      <th>churn</th>\n",
       "      <th>platform</th>\n",
       "      <th>sum</th>\n",
       "    </tr>\n",
       "  </thead>\n",
       "  <tbody>\n",
       "    <tr>\n",
       "      <th>0</th>\n",
       "      <td>0</td>\n",
       "      <td>Windows</td>\n",
       "      <td>0.502890</td>\n",
       "    </tr>\n",
       "    <tr>\n",
       "      <th>1</th>\n",
       "      <td>0</td>\n",
       "      <td>Macintosh</td>\n",
       "      <td>0.387283</td>\n",
       "    </tr>\n",
       "    <tr>\n",
       "      <th>2</th>\n",
       "      <td>0</td>\n",
       "      <td>iPhone</td>\n",
       "      <td>0.052023</td>\n",
       "    </tr>\n",
       "    <tr>\n",
       "      <th>3</th>\n",
       "      <td>0</td>\n",
       "      <td>X11</td>\n",
       "      <td>0.040462</td>\n",
       "    </tr>\n",
       "    <tr>\n",
       "      <th>4</th>\n",
       "      <td>0</td>\n",
       "      <td>iPad</td>\n",
       "      <td>0.017341</td>\n",
       "    </tr>\n",
       "    <tr>\n",
       "      <th>5</th>\n",
       "      <td>1</td>\n",
       "      <td>Windows</td>\n",
       "      <td>0.461538</td>\n",
       "    </tr>\n",
       "    <tr>\n",
       "      <th>6</th>\n",
       "      <td>1</td>\n",
       "      <td>Macintosh</td>\n",
       "      <td>0.365385</td>\n",
       "    </tr>\n",
       "    <tr>\n",
       "      <th>7</th>\n",
       "      <td>1</td>\n",
       "      <td>X11</td>\n",
       "      <td>0.096154</td>\n",
       "    </tr>\n",
       "    <tr>\n",
       "      <th>8</th>\n",
       "      <td>1</td>\n",
       "      <td>iPhone</td>\n",
       "      <td>0.076923</td>\n",
       "    </tr>\n",
       "  </tbody>\n",
       "</table>\n",
       "</div>"
      ],
      "text/plain": [
       "   churn   platform       sum\n",
       "0      0    Windows  0.502890\n",
       "1      0  Macintosh  0.387283\n",
       "2      0     iPhone  0.052023\n",
       "3      0        X11  0.040462\n",
       "4      0       iPad  0.017341\n",
       "5      1    Windows  0.461538\n",
       "6      1  Macintosh  0.365385\n",
       "7      1        X11  0.096154\n",
       "8      1     iPhone  0.076923"
      ]
     },
     "execution_count": 87,
     "metadata": {},
     "output_type": "execute_result"
    }
   ],
   "source": [
    "tmp_platform"
   ]
  },
  {
   "cell_type": "code",
   "execution_count": 88,
   "id": "1a137506",
   "metadata": {},
   "outputs": [
    {
     "data": {
      "text/plain": [
       "<AxesSubplot:xlabel='platform', ylabel='sum'>"
      ]
     },
     "execution_count": 88,
     "metadata": {},
     "output_type": "execute_result"
    },
    {
     "data": {
      "image/png": "[encoded data removed]",
      "text/plain": [
       "<Figure size 432x288 with 1 Axes>"
      ]
     },
     "metadata": {
      "needs_background": "light"
     },
     "output_type": "display_data"
    }
   ],
   "source": [
    "sns.barplot(x='platform',y='sum',hue='churn',data=tmp_platform)"
   ]
  },
  {
   "cell_type": "markdown",
   "id": "66e1cc7e",
   "metadata": {},
   "source": [
    "每个用户用一台终端登录，其中用iPhone和X11的客户退订比列高"
   ]
  },
  {
   "cell_type": "markdown",
   "id": "be78ecae",
   "metadata": {},
   "source": [
    "#### 3.3.6 length"
   ]
  },
  {
   "cell_type": "code",
   "execution_count": 89,
   "id": "3b22dcc4",
   "metadata": {},
   "outputs": [],
   "source": [
    "tmp_length=df.groupby(['churn','userId'])['length'].describe().reset_index()"
   ]
  },
  {
   "cell_type": "code",
   "execution_count": 90,
   "id": "de880cf3",
   "metadata": {},
   "outputs": [
    {
     "data": {
      "text/html": [
       "<div>\n",
       "<style scoped>\n",
       "    .dataframe tbody tr th:only-of-type {\n",
       "        vertical-align: middle;\n",
       "    }\n",
       "\n",
       "    .dataframe tbody tr th {\n",
       "        vertical-align: top;\n",
       "    }\n",
       "\n",
       "    .dataframe thead th {\n",
       "        text-align: right;\n",
       "    }\n",
       "</style>\n",
       "<table border=\"1\" class=\"dataframe\">\n",
       "  <thead>\n",
       "    <tr style=\"text-align: right;\">\n",
       "      <th></th>\n",
       "      <th>churn</th>\n",
       "      <th>userId</th>\n",
       "      <th>count</th>\n",
       "      <th>mean</th>\n",
       "      <th>std</th>\n",
       "      <th>min</th>\n",
       "      <th>25%</th>\n",
       "      <th>50%</th>\n",
       "      <th>75%</th>\n",
       "      <th>max</th>\n",
       "    </tr>\n",
       "  </thead>\n",
       "  <tbody>\n",
       "    <tr>\n",
       "      <th>0</th>\n",
       "      <td>0</td>\n",
       "      <td>7352321</td>\n",
       "      <td>37.0</td>\n",
       "      <td>252.916392</td>\n",
       "      <td>118.189585</td>\n",
       "      <td>22.36036</td>\n",
       "      <td>197.981590</td>\n",
       "      <td>221.674650</td>\n",
       "      <td>289.096690</td>\n",
       "      <td>655.77751</td>\n",
       "    </tr>\n",
       "    <tr>\n",
       "      <th>1</th>\n",
       "      <td>0</td>\n",
       "      <td>32678976</td>\n",
       "      <td>1409.0</td>\n",
       "      <td>250.356430</td>\n",
       "      <td>88.781359</td>\n",
       "      <td>11.25832</td>\n",
       "      <td>201.612610</td>\n",
       "      <td>236.094240</td>\n",
       "      <td>281.233830</td>\n",
       "      <td>1071.25506</td>\n",
       "    </tr>\n",
       "    <tr>\n",
       "      <th>2</th>\n",
       "      <td>0</td>\n",
       "      <td>129878601</td>\n",
       "      <td>242.0</td>\n",
       "      <td>247.147059</td>\n",
       "      <td>104.132123</td>\n",
       "      <td>23.50975</td>\n",
       "      <td>196.355462</td>\n",
       "      <td>233.769345</td>\n",
       "      <td>268.002815</td>\n",
       "      <td>1242.46159</td>\n",
       "    </tr>\n",
       "    <tr>\n",
       "      <th>3</th>\n",
       "      <td>0</td>\n",
       "      <td>175542601</td>\n",
       "      <td>46.0</td>\n",
       "      <td>251.674010</td>\n",
       "      <td>77.976493</td>\n",
       "      <td>106.78812</td>\n",
       "      <td>213.171795</td>\n",
       "      <td>240.051795</td>\n",
       "      <td>271.307302</td>\n",
       "      <td>614.73914</td>\n",
       "    </tr>\n",
       "    <tr>\n",
       "      <th>4</th>\n",
       "      <td>0</td>\n",
       "      <td>279053089</td>\n",
       "      <td>1728.0</td>\n",
       "      <td>248.948496</td>\n",
       "      <td>84.818555</td>\n",
       "      <td>22.12526</td>\n",
       "      <td>199.607708</td>\n",
       "      <td>234.931790</td>\n",
       "      <td>279.993018</td>\n",
       "      <td>959.79057</td>\n",
       "    </tr>\n",
       "    <tr>\n",
       "      <th>...</th>\n",
       "      <td>...</td>\n",
       "      <td>...</td>\n",
       "      <td>...</td>\n",
       "      <td>...</td>\n",
       "      <td>...</td>\n",
       "      <td>...</td>\n",
       "      <td>...</td>\n",
       "      <td>...</td>\n",
       "      <td>...</td>\n",
       "      <td>...</td>\n",
       "    </tr>\n",
       "    <tr>\n",
       "      <th>220</th>\n",
       "      <td>1</td>\n",
       "      <td>9040734161</td>\n",
       "      <td>41.0</td>\n",
       "      <td>231.859856</td>\n",
       "      <td>60.191254</td>\n",
       "      <td>127.24200</td>\n",
       "      <td>193.749750</td>\n",
       "      <td>228.022400</td>\n",
       "      <td>271.882000</td>\n",
       "      <td>367.98649</td>\n",
       "    </tr>\n",
       "    <tr>\n",
       "      <th>221</th>\n",
       "      <td>1</td>\n",
       "      <td>9314552369</td>\n",
       "      <td>230.0</td>\n",
       "      <td>251.781679</td>\n",
       "      <td>89.077176</td>\n",
       "      <td>32.73098</td>\n",
       "      <td>202.970973</td>\n",
       "      <td>237.766080</td>\n",
       "      <td>282.507300</td>\n",
       "      <td>578.89914</td>\n",
       "    </tr>\n",
       "    <tr>\n",
       "      <th>222</th>\n",
       "      <td>1</td>\n",
       "      <td>9380329081</td>\n",
       "      <td>80.0</td>\n",
       "      <td>248.190240</td>\n",
       "      <td>79.264614</td>\n",
       "      <td>127.24200</td>\n",
       "      <td>204.779953</td>\n",
       "      <td>234.618325</td>\n",
       "      <td>270.830565</td>\n",
       "      <td>652.14649</td>\n",
       "    </tr>\n",
       "    <tr>\n",
       "      <th>223</th>\n",
       "      <td>1</td>\n",
       "      <td>9621372441</td>\n",
       "      <td>257.0</td>\n",
       "      <td>267.937099</td>\n",
       "      <td>172.982124</td>\n",
       "      <td>45.94893</td>\n",
       "      <td>205.766080</td>\n",
       "      <td>239.307300</td>\n",
       "      <td>291.604440</td>\n",
       "      <td>2594.87302</td>\n",
       "    </tr>\n",
       "    <tr>\n",
       "      <th>224</th>\n",
       "      <td>1</td>\n",
       "      <td>9815548900</td>\n",
       "      <td>493.0</td>\n",
       "      <td>250.076798</td>\n",
       "      <td>89.365132</td>\n",
       "      <td>27.01016</td>\n",
       "      <td>207.594650</td>\n",
       "      <td>235.597910</td>\n",
       "      <td>269.687710</td>\n",
       "      <td>967.36608</td>\n",
       "    </tr>\n",
       "  </tbody>\n",
       "</table>\n",
       "<p>225 rows × 10 columns</p>\n",
       "</div>"
      ],
      "text/plain": [
       "     churn      userId   count        mean         std        min         25%  \\\n",
       "0        0     7352321    37.0  252.916392  118.189585   22.36036  197.981590   \n",
       "1        0    32678976  1409.0  250.356430   88.781359   11.25832  201.612610   \n",
       "2        0   129878601   242.0  247.147059  104.132123   23.50975  196.355462   \n",
       "3        0   175542601    46.0  251.674010   77.976493  106.78812  213.171795   \n",
       "4        0   279053089  1728.0  248.948496   84.818555   22.12526  199.607708   \n",
       "..     ...         ...     ...         ...         ...        ...         ...   \n",
       "220      1  9040734161    41.0  231.859856   60.191254  127.24200  193.749750   \n",
       "221      1  9314552369   230.0  251.781679   89.077176   32.73098  202.970973   \n",
       "222      1  9380329081    80.0  248.190240   79.264614  127.24200  204.779953   \n",
       "223      1  9621372441   257.0  267.937099  172.982124   45.94893  205.766080   \n",
       "224      1  9815548900   493.0  250.076798   89.365132   27.01016  207.594650   \n",
       "\n",
       "            50%         75%         max  \n",
       "0    221.674650  289.096690   655.77751  \n",
       "1    236.094240  281.233830  1071.25506  \n",
       "2    233.769345  268.002815  1242.46159  \n",
       "3    240.051795  271.307302   614.73914  \n",
       "4    234.931790  279.993018   959.79057  \n",
       "..          ...         ...         ...  \n",
       "220  228.022400  271.882000   367.98649  \n",
       "221  237.766080  282.507300   578.89914  \n",
       "222  234.618325  270.830565   652.14649  \n",
       "223  239.307300  291.604440  2594.87302  \n",
       "224  235.597910  269.687710   967.36608  \n",
       "\n",
       "[225 rows x 10 columns]"
      ]
     },
     "execution_count": 90,
     "metadata": {},
     "output_type": "execute_result"
    }
   ],
   "source": [
    "tmp_length"
   ]
  },
  {
   "cell_type": "code",
   "execution_count": 91,
   "id": "8333d52c",
   "metadata": {},
   "outputs": [],
   "source": [
    "tmp_length=tmp_length.groupby('churn').mean()"
   ]
  },
  {
   "cell_type": "code",
   "execution_count": 92,
   "id": "f5fd1952",
   "metadata": {},
   "outputs": [
    {
     "data": {
      "text/html": [
       "<div>\n",
       "<style scoped>\n",
       "    .dataframe tbody tr th:only-of-type {\n",
       "        vertical-align: middle;\n",
       "    }\n",
       "\n",
       "    .dataframe tbody tr th {\n",
       "        vertical-align: top;\n",
       "    }\n",
       "\n",
       "    .dataframe thead th {\n",
       "        text-align: right;\n",
       "    }\n",
       "</style>\n",
       "<table border=\"1\" class=\"dataframe\">\n",
       "  <thead>\n",
       "    <tr style=\"text-align: right;\">\n",
       "      <th></th>\n",
       "      <th>userId</th>\n",
       "      <th>count</th>\n",
       "      <th>mean</th>\n",
       "      <th>std</th>\n",
       "      <th>min</th>\n",
       "      <th>25%</th>\n",
       "      <th>50%</th>\n",
       "      <th>75%</th>\n",
       "      <th>max</th>\n",
       "    </tr>\n",
       "    <tr>\n",
       "      <th>churn</th>\n",
       "      <th></th>\n",
       "      <th></th>\n",
       "      <th></th>\n",
       "      <th></th>\n",
       "      <th></th>\n",
       "      <th></th>\n",
       "      <th></th>\n",
       "      <th></th>\n",
       "      <th></th>\n",
       "    </tr>\n",
       "  </thead>\n",
       "  <tbody>\n",
       "    <tr>\n",
       "      <th>0</th>\n",
       "      <td>4.876915e+09</td>\n",
       "      <td>1108.173410</td>\n",
       "      <td>249.197107</td>\n",
       "      <td>94.536613</td>\n",
       "      <td>39.832808</td>\n",
       "      <td>200.625201</td>\n",
       "      <td>234.643689</td>\n",
       "      <td>276.901583</td>\n",
       "      <td>1244.388761</td>\n",
       "    </tr>\n",
       "    <tr>\n",
       "      <th>1</th>\n",
       "      <td>5.320228e+09</td>\n",
       "      <td>699.884615</td>\n",
       "      <td>249.024857</td>\n",
       "      <td>94.915952</td>\n",
       "      <td>49.814554</td>\n",
       "      <td>201.692231</td>\n",
       "      <td>234.626611</td>\n",
       "      <td>276.370158</td>\n",
       "      <td>1200.223598</td>\n",
       "    </tr>\n",
       "  </tbody>\n",
       "</table>\n",
       "</div>"
      ],
      "text/plain": [
       "             userId        count        mean        std        min  \\\n",
       "churn                                                                \n",
       "0      4.876915e+09  1108.173410  249.197107  94.536613  39.832808   \n",
       "1      5.320228e+09   699.884615  249.024857  94.915952  49.814554   \n",
       "\n",
       "              25%         50%         75%          max  \n",
       "churn                                                   \n",
       "0      200.625201  234.643689  276.901583  1244.388761  \n",
       "1      201.692231  234.626611  276.370158  1200.223598  "
      ]
     },
     "execution_count": 92,
     "metadata": {},
     "output_type": "execute_result"
    }
   ],
   "source": [
    "tmp_length"
   ]
  },
  {
   "cell_type": "markdown",
   "id": "9f9aafe8",
   "metadata": {},
   "source": [
    "可见访问时间长度对是否退订没有影响"
   ]
  },
  {
   "cell_type": "markdown",
   "id": "35b922e3",
   "metadata": {},
   "source": [
    "#### 3.3.7 level"
   ]
  },
  {
   "cell_type": "code",
   "execution_count": 93,
   "id": "5f9eee54",
   "metadata": {},
   "outputs": [
    {
     "data": {
      "image/png": "[encoded data removed]",
      "text/plain": [
       "<Figure size 720x720 with 1 Axes>"
      ]
     },
     "metadata": {
      "needs_background": "light"
     },
     "output_type": "display_data"
    }
   ],
   "source": [
    "cate_plot('level','value_counts')"
   ]
  },
  {
   "cell_type": "markdown",
   "id": "4333b0cc",
   "metadata": {},
   "source": [
    "#### 3.3.8 gender"
   ]
  },
  {
   "cell_type": "code",
   "execution_count": 94,
   "id": "6d08d575",
   "metadata": {},
   "outputs": [],
   "source": [
    "tmp_gender=df[['churn','userId','gender']].drop_duplicates()"
   ]
  },
  {
   "cell_type": "code",
   "execution_count": 95,
   "id": "f466b9ed",
   "metadata": {},
   "outputs": [
    {
     "data": {
      "text/html": [
       "<div>\n",
       "<style scoped>\n",
       "    .dataframe tbody tr th:only-of-type {\n",
       "        vertical-align: middle;\n",
       "    }\n",
       "\n",
       "    .dataframe tbody tr th {\n",
       "        vertical-align: top;\n",
       "    }\n",
       "\n",
       "    .dataframe thead th {\n",
       "        text-align: right;\n",
       "    }\n",
       "</style>\n",
       "<table border=\"1\" class=\"dataframe\">\n",
       "  <thead>\n",
       "    <tr style=\"text-align: right;\">\n",
       "      <th></th>\n",
       "      <th>churn</th>\n",
       "      <th>userId</th>\n",
       "      <th>gender</th>\n",
       "    </tr>\n",
       "  </thead>\n",
       "  <tbody>\n",
       "    <tr>\n",
       "      <th>0</th>\n",
       "      <td>0</td>\n",
       "      <td>6296964609</td>\n",
       "      <td>M</td>\n",
       "    </tr>\n",
       "    <tr>\n",
       "      <th>1</th>\n",
       "      <td>0</td>\n",
       "      <td>6249718201</td>\n",
       "      <td>M</td>\n",
       "    </tr>\n",
       "    <tr>\n",
       "      <th>17</th>\n",
       "      <td>0</td>\n",
       "      <td>9687257104</td>\n",
       "      <td>F</td>\n",
       "    </tr>\n",
       "    <tr>\n",
       "      <th>22</th>\n",
       "      <td>1</td>\n",
       "      <td>6705948176</td>\n",
       "      <td>F</td>\n",
       "    </tr>\n",
       "    <tr>\n",
       "      <th>70</th>\n",
       "      <td>0</td>\n",
       "      <td>1590277376</td>\n",
       "      <td>M</td>\n",
       "    </tr>\n",
       "    <tr>\n",
       "      <th>...</th>\n",
       "      <td>...</td>\n",
       "      <td>...</td>\n",
       "      <td>...</td>\n",
       "    </tr>\n",
       "    <tr>\n",
       "      <th>247490</th>\n",
       "      <td>0</td>\n",
       "      <td>1022294649</td>\n",
       "      <td>M</td>\n",
       "    </tr>\n",
       "    <tr>\n",
       "      <th>248928</th>\n",
       "      <td>0</td>\n",
       "      <td>2134923649</td>\n",
       "      <td>M</td>\n",
       "    </tr>\n",
       "    <tr>\n",
       "      <th>249033</th>\n",
       "      <td>0</td>\n",
       "      <td>9985182929</td>\n",
       "      <td>M</td>\n",
       "    </tr>\n",
       "    <tr>\n",
       "      <th>251333</th>\n",
       "      <td>0</td>\n",
       "      <td>8883050916</td>\n",
       "      <td>F</td>\n",
       "    </tr>\n",
       "    <tr>\n",
       "      <th>252939</th>\n",
       "      <td>0</td>\n",
       "      <td>5789473041</td>\n",
       "      <td>F</td>\n",
       "    </tr>\n",
       "  </tbody>\n",
       "</table>\n",
       "<p>225 rows × 3 columns</p>\n",
       "</div>"
      ],
      "text/plain": [
       "        churn      userId gender\n",
       "0           0  6296964609      M\n",
       "1           0  6249718201      M\n",
       "17          0  9687257104      F\n",
       "22          1  6705948176      F\n",
       "70          0  1590277376      M\n",
       "...       ...         ...    ...\n",
       "247490      0  1022294649      M\n",
       "248928      0  2134923649      M\n",
       "249033      0  9985182929      M\n",
       "251333      0  8883050916      F\n",
       "252939      0  5789473041      F\n",
       "\n",
       "[225 rows x 3 columns]"
      ]
     },
     "execution_count": 95,
     "metadata": {},
     "output_type": "execute_result"
    }
   ],
   "source": [
    "tmp_gender"
   ]
  },
  {
   "cell_type": "code",
   "execution_count": 96,
   "id": "d3382cc0",
   "metadata": {},
   "outputs": [],
   "source": [
    "tmp_gender=tmp_gender.groupby('churn')['gender'].value_counts(1)"
   ]
  },
  {
   "cell_type": "code",
   "execution_count": 97,
   "id": "71c4c269",
   "metadata": {},
   "outputs": [
    {
     "data": {
      "text/plain": [
       "churn  gender\n",
       "0      M         0.514451\n",
       "       F         0.485549\n",
       "1      M         0.615385\n",
       "       F         0.384615\n",
       "Name: gender, dtype: float64"
      ]
     },
     "execution_count": 97,
     "metadata": {},
     "output_type": "execute_result"
    }
   ],
   "source": [
    "tmp_gender"
   ]
  },
  {
   "cell_type": "code",
   "execution_count": 98,
   "id": "3d61fc94",
   "metadata": {},
   "outputs": [],
   "source": [
    "tmp_gender=pd.Series(tmp_gender,name='count').reset_index()"
   ]
  },
  {
   "cell_type": "code",
   "execution_count": 99,
   "id": "5dd7ac3b",
   "metadata": {},
   "outputs": [
    {
     "data": {
      "text/html": [
       "<div>\n",
       "<style scoped>\n",
       "    .dataframe tbody tr th:only-of-type {\n",
       "        vertical-align: middle;\n",
       "    }\n",
       "\n",
       "    .dataframe tbody tr th {\n",
       "        vertical-align: top;\n",
       "    }\n",
       "\n",
       "    .dataframe thead th {\n",
       "        text-align: right;\n",
       "    }\n",
       "</style>\n",
       "<table border=\"1\" class=\"dataframe\">\n",
       "  <thead>\n",
       "    <tr style=\"text-align: right;\">\n",
       "      <th></th>\n",
       "      <th>churn</th>\n",
       "      <th>gender</th>\n",
       "      <th>count</th>\n",
       "    </tr>\n",
       "  </thead>\n",
       "  <tbody>\n",
       "    <tr>\n",
       "      <th>0</th>\n",
       "      <td>0</td>\n",
       "      <td>M</td>\n",
       "      <td>0.514451</td>\n",
       "    </tr>\n",
       "    <tr>\n",
       "      <th>1</th>\n",
       "      <td>0</td>\n",
       "      <td>F</td>\n",
       "      <td>0.485549</td>\n",
       "    </tr>\n",
       "    <tr>\n",
       "      <th>2</th>\n",
       "      <td>1</td>\n",
       "      <td>M</td>\n",
       "      <td>0.615385</td>\n",
       "    </tr>\n",
       "    <tr>\n",
       "      <th>3</th>\n",
       "      <td>1</td>\n",
       "      <td>F</td>\n",
       "      <td>0.384615</td>\n",
       "    </tr>\n",
       "  </tbody>\n",
       "</table>\n",
       "</div>"
      ],
      "text/plain": [
       "   churn gender     count\n",
       "0      0      M  0.514451\n",
       "1      0      F  0.485549\n",
       "2      1      M  0.615385\n",
       "3      1      F  0.384615"
      ]
     },
     "execution_count": 99,
     "metadata": {},
     "output_type": "execute_result"
    }
   ],
   "source": [
    "tmp_gender"
   ]
  },
  {
   "cell_type": "code",
   "execution_count": 100,
   "id": "3c723f82",
   "metadata": {},
   "outputs": [
    {
     "data": {
      "text/plain": [
       "<AxesSubplot:xlabel='gender', ylabel='count'>"
      ]
     },
     "execution_count": 100,
     "metadata": {},
     "output_type": "execute_result"
    },
    {
     "data": {
      "image/png": "[encoded data removed]",
      "text/plain": [
       "<Figure size 432x288 with 1 Axes>"
      ]
     },
     "metadata": {
      "needs_background": "light"
     },
     "output_type": "display_data"
    }
   ],
   "source": [
    "sns.barplot(x='gender',y='count',hue='churn',data=tmp_gender)"
   ]
  },
  {
   "cell_type": "markdown",
   "id": "cb36c286",
   "metadata": {},
   "source": [
    "退订用户中男性用户占比高"
   ]
  },
  {
   "cell_type": "markdown",
   "id": "6a51083b",
   "metadata": {},
   "source": [
    "#### 3.3.9 connection_point"
   ]
  },
  {
   "cell_type": "code",
   "execution_count": 101,
   "id": "081b61f2",
   "metadata": {},
   "outputs": [],
   "source": [
    "def user_ovo_plot(cat):\n",
    "    tmp=df[['churn','userId',cat]].drop_duplicates().groupby('churn')[cat].value_counts(1)\n",
    "    tmp=pd.Series(tmp,name='count').reset_index()\n",
    "    sns.barplot(x=cat,y='count',hue='churn',data=tmp)"
   ]
  },
  {
   "cell_type": "code",
   "execution_count": 102,
   "id": "46707210",
   "metadata": {},
   "outputs": [
    {
     "data": {
      "image/png": "[encoded data removed]",
      "text/plain": [
       "<Figure size 432x288 with 1 Axes>"
      ]
     },
     "metadata": {
      "needs_background": "light"
     },
     "output_type": "display_data"
    }
   ],
   "source": [
    "user_ovo_plot('connection_point')"
   ]
  },
  {
   "cell_type": "markdown",
   "id": "9b3c558a",
   "metadata": {},
   "source": [
    "#### 3.3.10 province"
   ]
  },
  {
   "cell_type": "code",
   "execution_count": 103,
   "id": "cc78e52a",
   "metadata": {},
   "outputs": [
    {
     "data": {
      "text/plain": [
       "<AxesSubplot:xlabel='province', ylabel='count'>"
      ]
     },
     "execution_count": 103,
     "metadata": {},
     "output_type": "execute_result"
    },
    {
     "data": {
      "image/png": "[encoded data removed]",
      "text/plain": [
       "<Figure size 1080x360 with 1 Axes>"
      ]
     },
     "metadata": {
      "needs_background": "light"
     },
     "output_type": "display_data"
    }
   ],
   "source": [
    "tmp_province=df[['churn','userId','province']].drop_duplicates().groupby('churn')['province'].value_counts(1)\n",
    "tmp_province=pd.Series(tmp_province,name='count').reset_index()\n",
    "tmp_province=tmp_province[tmp_province['churn']==1]\n",
    "tmp_province=tmp_province.sort_values('count',ascending=False)[0:10]\n",
    "plt.figure(figsize=(15,5))\n",
    "sns.barplot(x='province',y='count',data=tmp_province)"
   ]
  },
  {
   "cell_type": "markdown",
   "id": "6b50aeef",
   "metadata": {},
   "source": [
    "退订客户排名前五的省份为，广东，浙江，河南，辽宁，四川"
   ]
  },
  {
   "cell_type": "markdown",
   "id": "e37db262",
   "metadata": {},
   "source": [
    "#### 3.3.11 region"
   ]
  },
  {
   "cell_type": "code",
   "execution_count": 104,
   "id": "3ae6bc06",
   "metadata": {},
   "outputs": [
    {
     "data": {
      "image/png": "[encoded data removed]",
      "text/plain": [
       "<Figure size 432x288 with 1 Axes>"
      ]
     },
     "metadata": {
      "needs_background": "light"
     },
     "output_type": "display_data"
    }
   ],
   "source": [
    "user_ovo_plot('region')"
   ]
  },
  {
   "cell_type": "markdown",
   "id": "14a6a63e",
   "metadata": {},
   "source": [
    "#### 3.3.12 isMainland"
   ]
  },
  {
   "cell_type": "code",
   "execution_count": 105,
   "id": "ace380dd",
   "metadata": {},
   "outputs": [
    {
     "data": {
      "image/png": "[encoded data removed]",
      "text/plain": [
       "<Figure size 432x288 with 1 Axes>"
      ]
     },
     "metadata": {
      "needs_background": "light"
     },
     "output_type": "display_data"
    }
   ],
   "source": [
    "user_ovo_plot('isMainland')"
   ]
  },
  {
   "cell_type": "markdown",
   "id": "57f314a3",
   "metadata": {},
   "source": [
    "#### 3.3.13 machine_rate"
   ]
  },
  {
   "cell_type": "code",
   "execution_count": 106,
   "id": "709d3f74",
   "metadata": {},
   "outputs": [
    {
     "data": {
      "image/png": "[encoded data removed]",
      "text/plain": [
       "<Figure size 432x288 with 1 Axes>"
      ]
     },
     "metadata": {
      "needs_background": "light"
     },
     "output_type": "display_data"
    }
   ],
   "source": [
    "user_ovo_plot('machine_rate')"
   ]
  },
  {
   "cell_type": "markdown",
   "id": "66392877",
   "metadata": {},
   "source": [
    "#### 3.3.14 city"
   ]
  },
  {
   "cell_type": "code",
   "execution_count": 107,
   "id": "e360a838",
   "metadata": {},
   "outputs": [],
   "source": [
    "tmp_city=df[['churn','userId','city']].drop_duplicates().groupby('churn')['city'].value_counts(1)"
   ]
  },
  {
   "cell_type": "code",
   "execution_count": 108,
   "id": "f976513b",
   "metadata": {},
   "outputs": [
    {
     "data": {
      "text/plain": [
       "churn  city     \n",
       "0      guangzhou    0.115607\n",
       "       beijing      0.086705\n",
       "       shanghai     0.075145\n",
       "       BeiJing      0.046243\n",
       "       ChengDu      0.028902\n",
       "                      ...   \n",
       "1      YuLin        0.019231\n",
       "       YunCheng     0.019231\n",
       "       ZhengZhou    0.019231\n",
       "       ZhongQing    0.019231\n",
       "       ZhouKou      0.019231\n",
       "Name: city, Length: 105, dtype: float64"
      ]
     },
     "execution_count": 108,
     "metadata": {},
     "output_type": "execute_result"
    }
   ],
   "source": [
    "tmp_city"
   ]
  },
  {
   "cell_type": "code",
   "execution_count": 109,
   "id": "b1070423",
   "metadata": {},
   "outputs": [],
   "source": [
    "tmp_city=pd.Series(tmp_city,name='count').reset_index()"
   ]
  },
  {
   "cell_type": "code",
   "execution_count": 110,
   "id": "0bdef1ca",
   "metadata": {},
   "outputs": [
    {
     "data": {
      "text/html": [
       "<div>\n",
       "<style scoped>\n",
       "    .dataframe tbody tr th:only-of-type {\n",
       "        vertical-align: middle;\n",
       "    }\n",
       "\n",
       "    .dataframe tbody tr th {\n",
       "        vertical-align: top;\n",
       "    }\n",
       "\n",
       "    .dataframe thead th {\n",
       "        text-align: right;\n",
       "    }\n",
       "</style>\n",
       "<table border=\"1\" class=\"dataframe\">\n",
       "  <thead>\n",
       "    <tr style=\"text-align: right;\">\n",
       "      <th></th>\n",
       "      <th>churn</th>\n",
       "      <th>city</th>\n",
       "      <th>count</th>\n",
       "    </tr>\n",
       "  </thead>\n",
       "  <tbody>\n",
       "    <tr>\n",
       "      <th>0</th>\n",
       "      <td>0</td>\n",
       "      <td>guangzhou</td>\n",
       "      <td>0.115607</td>\n",
       "    </tr>\n",
       "    <tr>\n",
       "      <th>1</th>\n",
       "      <td>0</td>\n",
       "      <td>beijing</td>\n",
       "      <td>0.086705</td>\n",
       "    </tr>\n",
       "    <tr>\n",
       "      <th>2</th>\n",
       "      <td>0</td>\n",
       "      <td>shanghai</td>\n",
       "      <td>0.075145</td>\n",
       "    </tr>\n",
       "    <tr>\n",
       "      <th>3</th>\n",
       "      <td>0</td>\n",
       "      <td>BeiJing</td>\n",
       "      <td>0.046243</td>\n",
       "    </tr>\n",
       "    <tr>\n",
       "      <th>4</th>\n",
       "      <td>0</td>\n",
       "      <td>ChengDu</td>\n",
       "      <td>0.028902</td>\n",
       "    </tr>\n",
       "    <tr>\n",
       "      <th>...</th>\n",
       "      <td>...</td>\n",
       "      <td>...</td>\n",
       "      <td>...</td>\n",
       "    </tr>\n",
       "    <tr>\n",
       "      <th>100</th>\n",
       "      <td>1</td>\n",
       "      <td>YuLin</td>\n",
       "      <td>0.019231</td>\n",
       "    </tr>\n",
       "    <tr>\n",
       "      <th>101</th>\n",
       "      <td>1</td>\n",
       "      <td>YunCheng</td>\n",
       "      <td>0.019231</td>\n",
       "    </tr>\n",
       "    <tr>\n",
       "      <th>102</th>\n",
       "      <td>1</td>\n",
       "      <td>ZhengZhou</td>\n",
       "      <td>0.019231</td>\n",
       "    </tr>\n",
       "    <tr>\n",
       "      <th>103</th>\n",
       "      <td>1</td>\n",
       "      <td>ZhongQing</td>\n",
       "      <td>0.019231</td>\n",
       "    </tr>\n",
       "    <tr>\n",
       "      <th>104</th>\n",
       "      <td>1</td>\n",
       "      <td>ZhouKou</td>\n",
       "      <td>0.019231</td>\n",
       "    </tr>\n",
       "  </tbody>\n",
       "</table>\n",
       "<p>105 rows × 3 columns</p>\n",
       "</div>"
      ],
      "text/plain": [
       "     churn       city     count\n",
       "0        0  guangzhou  0.115607\n",
       "1        0    beijing  0.086705\n",
       "2        0   shanghai  0.075145\n",
       "3        0    BeiJing  0.046243\n",
       "4        0    ChengDu  0.028902\n",
       "..     ...        ...       ...\n",
       "100      1      YuLin  0.019231\n",
       "101      1   YunCheng  0.019231\n",
       "102      1  ZhengZhou  0.019231\n",
       "103      1  ZhongQing  0.019231\n",
       "104      1    ZhouKou  0.019231\n",
       "\n",
       "[105 rows x 3 columns]"
      ]
     },
     "execution_count": 110,
     "metadata": {},
     "output_type": "execute_result"
    }
   ],
   "source": [
    "tmp_city"
   ]
  },
  {
   "cell_type": "code",
   "execution_count": 111,
   "id": "cbd34bce",
   "metadata": {},
   "outputs": [],
   "source": [
    "tmp_city=tmp_city[tmp_city['churn']==1]"
   ]
  },
  {
   "cell_type": "code",
   "execution_count": 112,
   "id": "03cd5a43",
   "metadata": {},
   "outputs": [],
   "source": [
    "tmp_city=tmp_city.sort_values('count',ascending=False)[0:10]"
   ]
  },
  {
   "cell_type": "code",
   "execution_count": 113,
   "id": "3c96a265",
   "metadata": {},
   "outputs": [
    {
     "data": {
      "text/html": [
       "<div>\n",
       "<style scoped>\n",
       "    .dataframe tbody tr th:only-of-type {\n",
       "        vertical-align: middle;\n",
       "    }\n",
       "\n",
       "    .dataframe tbody tr th {\n",
       "        vertical-align: top;\n",
       "    }\n",
       "\n",
       "    .dataframe thead th {\n",
       "        text-align: right;\n",
       "    }\n",
       "</style>\n",
       "<table border=\"1\" class=\"dataframe\">\n",
       "  <thead>\n",
       "    <tr style=\"text-align: right;\">\n",
       "      <th></th>\n",
       "      <th>churn</th>\n",
       "      <th>city</th>\n",
       "      <th>count</th>\n",
       "    </tr>\n",
       "  </thead>\n",
       "  <tbody>\n",
       "    <tr>\n",
       "      <th>65</th>\n",
       "      <td>1</td>\n",
       "      <td>ShenZhen</td>\n",
       "      <td>0.096154</td>\n",
       "    </tr>\n",
       "    <tr>\n",
       "      <th>66</th>\n",
       "      <td>1</td>\n",
       "      <td>ChengDu</td>\n",
       "      <td>0.057692</td>\n",
       "    </tr>\n",
       "    <tr>\n",
       "      <th>67</th>\n",
       "      <td>1</td>\n",
       "      <td>GuangZhou</td>\n",
       "      <td>0.038462</td>\n",
       "    </tr>\n",
       "    <tr>\n",
       "      <th>68</th>\n",
       "      <td>1</td>\n",
       "      <td>HangZhou</td>\n",
       "      <td>0.038462</td>\n",
       "    </tr>\n",
       "    <tr>\n",
       "      <th>69</th>\n",
       "      <td>1</td>\n",
       "      <td>ShangHai</td>\n",
       "      <td>0.038462</td>\n",
       "    </tr>\n",
       "    <tr>\n",
       "      <th>70</th>\n",
       "      <td>1</td>\n",
       "      <td>beijing</td>\n",
       "      <td>0.038462</td>\n",
       "    </tr>\n",
       "    <tr>\n",
       "      <th>71</th>\n",
       "      <td>1</td>\n",
       "      <td>guangzhou</td>\n",
       "      <td>0.038462</td>\n",
       "    </tr>\n",
       "    <tr>\n",
       "      <th>72</th>\n",
       "      <td>1</td>\n",
       "      <td>shanghai</td>\n",
       "      <td>0.038462</td>\n",
       "    </tr>\n",
       "    <tr>\n",
       "      <th>96</th>\n",
       "      <td>1</td>\n",
       "      <td>WuHan</td>\n",
       "      <td>0.019231</td>\n",
       "    </tr>\n",
       "    <tr>\n",
       "      <th>91</th>\n",
       "      <td>1</td>\n",
       "      <td>ShaoXing</td>\n",
       "      <td>0.019231</td>\n",
       "    </tr>\n",
       "  </tbody>\n",
       "</table>\n",
       "</div>"
      ],
      "text/plain": [
       "    churn       city     count\n",
       "65      1   ShenZhen  0.096154\n",
       "66      1    ChengDu  0.057692\n",
       "67      1  GuangZhou  0.038462\n",
       "68      1   HangZhou  0.038462\n",
       "69      1   ShangHai  0.038462\n",
       "70      1    beijing  0.038462\n",
       "71      1  guangzhou  0.038462\n",
       "72      1   shanghai  0.038462\n",
       "96      1      WuHan  0.019231\n",
       "91      1   ShaoXing  0.019231"
      ]
     },
     "execution_count": 113,
     "metadata": {},
     "output_type": "execute_result"
    }
   ],
   "source": [
    "tmp_city"
   ]
  },
  {
   "cell_type": "code",
   "execution_count": 114,
   "id": "1955113c",
   "metadata": {},
   "outputs": [
    {
     "data": {
      "text/plain": [
       "<AxesSubplot:xlabel='city', ylabel='count'>"
      ]
     },
     "execution_count": 114,
     "metadata": {},
     "output_type": "execute_result"
    },
    {
     "data": {
      "image/png": "[encoded data removed]",
      "text/plain": [
       "<Figure size 1080x360 with 1 Axes>"
      ]
     },
     "metadata": {
      "needs_background": "light"
     },
     "output_type": "display_data"
    }
   ],
   "source": [
    "plt.figure(figsize=(15,5))\n",
    "sns.barplot(x='city',y='count',data=tmp_city)"
   ]
  },
  {
   "cell_type": "markdown",
   "id": "4bb07a8f",
   "metadata": {},
   "source": [
    "退订用户排名前五的城市为，深圳，成都，广州，杭州，上海"
   ]
  },
  {
   "cell_type": "markdown",
   "id": "5179c486",
   "metadata": {},
   "source": [
    "## 4.总结"
   ]
  },
  {
   "cell_type": "markdown",
   "id": "e8d3abe9",
   "metadata": {},
   "source": [
    "### 4.1 退订用户特征"
   ]
  },
  {
   "cell_type": "markdown",
   "id": "da0ea81b",
   "metadata": {},
   "source": [
    "用户黏度维度上；\n",
    "\n",
    "退订用户的内容浏览量明显低于非退订用户，且在产品交互过程中，退订用户的广告访问量较高\n",
    "\n",
    "时间维度上；\n",
    "\n",
    "退订用户在周一到周六的访问量比非退订用户高，并且一天的访问量高峰集中在14-19点\n",
    "\n",
    "地点维度上；\n",
    "\n",
    "退订用户主要集中在，深圳，成都，广州，杭州，上海\n",
    "\n",
    "使用终端维度上；\n",
    "\n",
    "使用iPhone和下X11的客户较多\n",
    "\n",
    "使用浏览器平台上；\n",
    "\n",
    "退订用户使用谷歌浏览器居多\n",
    "\n"
   ]
  },
  {
   "cell_type": "markdown",
   "id": "82fd96e1",
   "metadata": {},
   "source": [
    "### 4.2 应对方法"
   ]
  },
  {
   "cell_type": "markdown",
   "id": "a1f3edad",
   "metadata": {},
   "source": [
    "产品方面；\n",
    "\n",
    "测试产品对谷歌浏览器的兼容性\n",
    "查看网络节点是否不稳定\n",
    "\n",
    "运营方面；\n",
    "\n",
    "鼓励更多author创作更多优质内容\n",
    "在周日举办活动\n",
    "减少广告推送\n",
    "\n",
    "算法方面；\n",
    "\n",
    "建立决策模型，计算用户退订概率"
   ]
  },
  {
   "cell_type": "markdown",
   "id": "6cd53753",
   "metadata": {},
   "source": [
    "## 5.特征工程"
   ]
  },
  {
   "cell_type": "markdown",
   "id": "e37b63b0",
   "metadata": {},
   "source": [
    "基于如上探索性数据分析，我们可以主要针对【用户粘性】&【用户习惯】这两个方面构造如下特征\n",
    "\n",
    "【用户粘性】；\n",
    "\n",
    "        用户浏览content的总量和丰富度\n",
    "    \n",
    "        用户浏览author的总量和丰富度\n",
    "        \n",
    "        用户连续访问日期的最大，最小，平均间隔\n",
    "        \n",
    "        用户最后一天和第一天的间隔天数\n",
    "        \n",
    "        用户单日访问次数的最大，最小，平均值\n",
    "        \n",
    "【用户习惯】；\n",
    " \n",
    "        用户在不同的weekday浏览的比例\n",
    "        \n",
    "        用户在不同hour中浏览的比列\n",
    "        \n",
    "        用户浏览不同content占总浏览量比列的均值，最大值，标准差\n",
    "        \n",
    "【用户体验】；\n",
    "\n",
    "         用户浏览不同page中的占比\n",
    "    \n",
    "此外，保留一下用户特征；\n",
    "\n",
    "        性别\n",
    "    \n",
    "        使用的浏览器和平台\n",
    "        \n",
    "        使用的节点\n",
    "        \n",
    "        所在的省份\n",
    "并将上述分类变量处理为哑变量"
   ]
  },
  {
   "cell_type": "code",
   "execution_count": 115,
   "id": "0beb734b",
   "metadata": {},
   "outputs": [],
   "source": [
    "#浏览内容的总量和丰富度\n",
    "f_content_count=pd.Series(df.groupby('userId')['content'].count(),name='content_count')\n",
    "f_content_nunique=pd.Series(df.groupby('userId')['content'].nunique(),name='content_nunique')"
   ]
  },
  {
   "cell_type": "code",
   "execution_count": 116,
   "id": "ccefa849",
   "metadata": {},
   "outputs": [],
   "source": [
    "#浏览作者的总量和丰富度\n",
    "f_author_count=pd.Series(df.groupby('userId')['content'].count(),name='author_count')\n",
    "f_author_nunique=pd.Series(df.groupby('userId')['content'].nunique(),name='author_nunique')"
   ]
  },
  {
   "cell_type": "code",
   "execution_count": 117,
   "id": "3632d72c",
   "metadata": {},
   "outputs": [],
   "source": [
    "#目的；用户连续访问日期间隔的的最大，最小，和平均值\n",
    "#首先，取出数据，并且去重\n",
    "continuous_days=df[['userId','date']].drop_duplicates()\n",
    "#此时date的数据类型是object，需要转化为datetime类型\n",
    "continuous_days['date']=pd.to_datetime(continuous_days['date'])"
   ]
  },
  {
   "cell_type": "code",
   "execution_count": 118,
   "id": "56d8a98f",
   "metadata": {},
   "outputs": [],
   "source": [
    "#得到连续访问日期的间隔，shift（）函数是让表格数据向下移动一行，然后让前后两行数据相减，即求得间隔时间\n",
    "tmp_days=continuous_days.groupby('userId')['date'].apply(lambda x :x.sort_values()\n",
    "                                                         -x.sort_values().shift())\n",
    "#把tmp_days中的date的数据类型从datetime转为float64类型\n",
    "tmp_days=tmp_days.dt.days\n",
    "#把tmp_days加入到continuous_days中\n",
    "continuous_days['continuous_days']=tmp_days\n",
    "#按照不同用户id对间隔时间进行求最大，最小，和均值计算\n",
    "f_conti_days=continuous_days.groupby('userId')['continuous_days'].agg([\n",
    "                                                                       ('conti_days_mean',np.mean),\n",
    "                                                                       ('conti_days_max',np.max),\n",
    "                                                                       ('conti_days_min',np.min),\n",
    "                                                                      ])\n",
    "#如果间隔为空，则说明只有单天的访问数据，将其填充为999\n",
    "f_conti_days=f_conti_days.fillna(999)\n",
    "#最后一天和第一天的间隔天数,即用户注册的天数\n",
    "f_lag_days=pd.Series(continuous_days.groupby('userId')['date'].apply(lambda x:x.max()-x.min()).dt.days,name='lag_days')"
   ]
  },
  {
   "cell_type": "code",
   "execution_count": 119,
   "id": "361dc382",
   "metadata": {},
   "outputs": [],
   "source": [
    "#单日浏览content次数的均值和最大，最小值\n",
    "tmp_single_day_count=df.groupby(['userId','date'])['content'].count().reset_index()\n",
    "f_sday_count=tmp_single_day_count.groupby('userId')['content'].agg([\n",
    "                                                                     ('s_day_scan_mean',np.mean),\n",
    "                                                                     ('s_day_scan_max',np.max),\n",
    "                                                                     ('s_day_scan_min',np.min),\n",
    "                                                                    ])"
   ]
  },
  {
   "cell_type": "code",
   "execution_count": 120,
   "id": "0134f495",
   "metadata": {},
   "outputs": [],
   "source": [
    "#用户在不同的weekday中浏览的比列\n",
    "f_wday_rate=df.groupby('userId')['weekday'].value_counts(1).unstack()\n",
    "f_wday_rate=f_wday_rate.fillna(0)"
   ]
  },
  {
   "cell_type": "code",
   "execution_count": 121,
   "id": "f6e8b57b",
   "metadata": {},
   "outputs": [],
   "source": [
    "#用户在不同的hour中浏览的比列\n",
    "f_hour_rate=df.groupby('userId')['hour'].value_counts(1).unstack()\n",
    "f_hour_rate=f_wday_rate.fillna(0)\n",
    "f_hour_rate=f_wday_rate.rename(columns=lambda x:f'hour_{x}')"
   ]
  },
  {
   "cell_type": "code",
   "execution_count": 122,
   "id": "5a0d44f0",
   "metadata": {},
   "outputs": [],
   "source": [
    "#用户浏览不同content占总浏览量比例的均值，最大，方差\n",
    "content_rate=pd.Series(df.groupby('userId')['content'].value_counts(1),name='rate').reset_index()\n",
    "f_content_rate=content_rate.groupby('userId')['rate'].agg([\n",
    "                                                            ('content_rate_mean',np.mean),\n",
    "                                                            ('content_rate_max',np.max),\n",
    "                                                            ('content_rate_std',np.std),\n",
    "                                                           ])"
   ]
  },
  {
   "cell_type": "code",
   "execution_count": 123,
   "id": "05640cf4",
   "metadata": {},
   "outputs": [],
   "source": [
    "#用户浏览不同author占总浏览量比例的均值，最大，方差\n",
    "author_rate=pd.Series(df.groupby('userId')['author'].value_counts(1),name='rate').reset_index()\n",
    "f_author_rate=author_rate.groupby('userId')['rate'].agg([\n",
    "                                                            ('author_rate_mean',np.mean),\n",
    "                                                            ('author_rate_max',np.max),\n",
    "                                                            ('author_rate_std',np.std),\n",
    "                                                           ])"
   ]
  },
  {
   "cell_type": "code",
   "execution_count": 124,
   "id": "b094e253",
   "metadata": {},
   "outputs": [],
   "source": [
    "#用户浏览不同page的占比\n",
    "f_page_rate=df.groupby('userId')['page'].value_counts(1).unstack()\n",
    "f_page_rate = f_page_rate.fillna(0).drop(['取消订阅套餐','取消'],axis=1)"
   ]
  },
  {
   "cell_type": "code",
   "execution_count": 125,
   "id": "69794a40",
   "metadata": {},
   "outputs": [
    {
     "data": {
      "text/html": [
       "<div>\n",
       "<style scoped>\n",
       "    .dataframe tbody tr th:only-of-type {\n",
       "        vertical-align: middle;\n",
       "    }\n",
       "\n",
       "    .dataframe tbody tr th {\n",
       "        vertical-align: top;\n",
       "    }\n",
       "\n",
       "    .dataframe thead th {\n",
       "        text-align: right;\n",
       "    }\n",
       "</style>\n",
       "<table border=\"1\" class=\"dataframe\">\n",
       "  <thead>\n",
       "    <tr style=\"text-align: right;\">\n",
       "      <th>page</th>\n",
       "      <th>不喜欢</th>\n",
       "      <th>保存设置</th>\n",
       "      <th>关于</th>\n",
       "      <th>升级订阅套餐</th>\n",
       "      <th>喜欢</th>\n",
       "      <th>回到主页</th>\n",
       "      <th>帮助</th>\n",
       "      <th>广告</th>\n",
       "      <th>添加到收藏列表</th>\n",
       "      <th>添加好友</th>\n",
       "      <th>点击</th>\n",
       "      <th>登出</th>\n",
       "      <th>确认</th>\n",
       "      <th>设置</th>\n",
       "      <th>错误</th>\n",
       "      <th>降级订阅套餐</th>\n",
       "    </tr>\n",
       "    <tr>\n",
       "      <th>userId</th>\n",
       "      <th></th>\n",
       "      <th></th>\n",
       "      <th></th>\n",
       "      <th></th>\n",
       "      <th></th>\n",
       "      <th></th>\n",
       "      <th></th>\n",
       "      <th></th>\n",
       "      <th></th>\n",
       "      <th></th>\n",
       "      <th></th>\n",
       "      <th></th>\n",
       "      <th></th>\n",
       "      <th></th>\n",
       "      <th></th>\n",
       "      <th></th>\n",
       "    </tr>\n",
       "  </thead>\n",
       "  <tbody>\n",
       "    <tr>\n",
       "      <th>7352321</th>\n",
       "      <td>0.000000</td>\n",
       "      <td>0.000000</td>\n",
       "      <td>0.000000</td>\n",
       "      <td>0.000000</td>\n",
       "      <td>0.000000</td>\n",
       "      <td>0.044444</td>\n",
       "      <td>0.044444</td>\n",
       "      <td>0.066667</td>\n",
       "      <td>0.000000</td>\n",
       "      <td>0.000000</td>\n",
       "      <td>0.822222</td>\n",
       "      <td>0.022222</td>\n",
       "      <td>0.000000</td>\n",
       "      <td>0.000000</td>\n",
       "      <td>0.000000</td>\n",
       "      <td>0.000000</td>\n",
       "    </tr>\n",
       "    <tr>\n",
       "      <th>32678976</th>\n",
       "      <td>0.007134</td>\n",
       "      <td>0.000000</td>\n",
       "      <td>0.002378</td>\n",
       "      <td>0.001189</td>\n",
       "      <td>0.048157</td>\n",
       "      <td>0.031510</td>\n",
       "      <td>0.005351</td>\n",
       "      <td>0.008323</td>\n",
       "      <td>0.025565</td>\n",
       "      <td>0.014269</td>\n",
       "      <td>0.837693</td>\n",
       "      <td>0.006540</td>\n",
       "      <td>0.000595</td>\n",
       "      <td>0.005351</td>\n",
       "      <td>0.001189</td>\n",
       "      <td>0.004756</td>\n",
       "    </tr>\n",
       "    <tr>\n",
       "      <th>53589316</th>\n",
       "      <td>0.006870</td>\n",
       "      <td>0.000763</td>\n",
       "      <td>0.000763</td>\n",
       "      <td>0.003053</td>\n",
       "      <td>0.039695</td>\n",
       "      <td>0.034351</td>\n",
       "      <td>0.005344</td>\n",
       "      <td>0.010687</td>\n",
       "      <td>0.032061</td>\n",
       "      <td>0.019084</td>\n",
       "      <td>0.819084</td>\n",
       "      <td>0.010687</td>\n",
       "      <td>0.002290</td>\n",
       "      <td>0.003817</td>\n",
       "      <td>0.000000</td>\n",
       "      <td>0.009924</td>\n",
       "    </tr>\n",
       "    <tr>\n",
       "      <th>129878601</th>\n",
       "      <td>0.003378</td>\n",
       "      <td>0.000000</td>\n",
       "      <td>0.000000</td>\n",
       "      <td>0.000000</td>\n",
       "      <td>0.060811</td>\n",
       "      <td>0.023649</td>\n",
       "      <td>0.006757</td>\n",
       "      <td>0.000000</td>\n",
       "      <td>0.033784</td>\n",
       "      <td>0.027027</td>\n",
       "      <td>0.817568</td>\n",
       "      <td>0.010135</td>\n",
       "      <td>0.000000</td>\n",
       "      <td>0.006757</td>\n",
       "      <td>0.006757</td>\n",
       "      <td>0.003378</td>\n",
       "    </tr>\n",
       "    <tr>\n",
       "      <th>175542601</th>\n",
       "      <td>0.000000</td>\n",
       "      <td>0.000000</td>\n",
       "      <td>0.000000</td>\n",
       "      <td>0.000000</td>\n",
       "      <td>0.058824</td>\n",
       "      <td>0.102941</td>\n",
       "      <td>0.014706</td>\n",
       "      <td>0.014706</td>\n",
       "      <td>0.014706</td>\n",
       "      <td>0.073529</td>\n",
       "      <td>0.676471</td>\n",
       "      <td>0.044118</td>\n",
       "      <td>0.000000</td>\n",
       "      <td>0.000000</td>\n",
       "      <td>0.000000</td>\n",
       "      <td>0.000000</td>\n",
       "    </tr>\n",
       "    <tr>\n",
       "      <th>...</th>\n",
       "      <td>...</td>\n",
       "      <td>...</td>\n",
       "      <td>...</td>\n",
       "      <td>...</td>\n",
       "      <td>...</td>\n",
       "      <td>...</td>\n",
       "      <td>...</td>\n",
       "      <td>...</td>\n",
       "      <td>...</td>\n",
       "      <td>...</td>\n",
       "      <td>...</td>\n",
       "      <td>...</td>\n",
       "      <td>...</td>\n",
       "      <td>...</td>\n",
       "      <td>...</td>\n",
       "      <td>...</td>\n",
       "    </tr>\n",
       "    <tr>\n",
       "      <th>9687257104</th>\n",
       "      <td>0.008660</td>\n",
       "      <td>0.000346</td>\n",
       "      <td>0.001386</td>\n",
       "      <td>0.001039</td>\n",
       "      <td>0.046761</td>\n",
       "      <td>0.029096</td>\n",
       "      <td>0.004503</td>\n",
       "      <td>0.007620</td>\n",
       "      <td>0.027710</td>\n",
       "      <td>0.014894</td>\n",
       "      <td>0.831313</td>\n",
       "      <td>0.008660</td>\n",
       "      <td>0.001039</td>\n",
       "      <td>0.005888</td>\n",
       "      <td>0.000346</td>\n",
       "      <td>0.010738</td>\n",
       "    </tr>\n",
       "    <tr>\n",
       "      <th>9809732025</th>\n",
       "      <td>0.005102</td>\n",
       "      <td>0.000000</td>\n",
       "      <td>0.000000</td>\n",
       "      <td>0.005102</td>\n",
       "      <td>0.025510</td>\n",
       "      <td>0.030612</td>\n",
       "      <td>0.005102</td>\n",
       "      <td>0.071429</td>\n",
       "      <td>0.040816</td>\n",
       "      <td>0.025510</td>\n",
       "      <td>0.765306</td>\n",
       "      <td>0.020408</td>\n",
       "      <td>0.000000</td>\n",
       "      <td>0.005102</td>\n",
       "      <td>0.000000</td>\n",
       "      <td>0.000000</td>\n",
       "    </tr>\n",
       "    <tr>\n",
       "      <th>9815548900</th>\n",
       "      <td>0.025806</td>\n",
       "      <td>0.000000</td>\n",
       "      <td>0.000000</td>\n",
       "      <td>0.003226</td>\n",
       "      <td>0.046774</td>\n",
       "      <td>0.043548</td>\n",
       "      <td>0.003226</td>\n",
       "      <td>0.014516</td>\n",
       "      <td>0.017742</td>\n",
       "      <td>0.012903</td>\n",
       "      <td>0.795161</td>\n",
       "      <td>0.017742</td>\n",
       "      <td>0.001613</td>\n",
       "      <td>0.006452</td>\n",
       "      <td>0.001613</td>\n",
       "      <td>0.006452</td>\n",
       "    </tr>\n",
       "    <tr>\n",
       "      <th>9943009809</th>\n",
       "      <td>0.007564</td>\n",
       "      <td>0.000756</td>\n",
       "      <td>0.002269</td>\n",
       "      <td>0.001513</td>\n",
       "      <td>0.040847</td>\n",
       "      <td>0.029501</td>\n",
       "      <td>0.006051</td>\n",
       "      <td>0.012859</td>\n",
       "      <td>0.027988</td>\n",
       "      <td>0.010590</td>\n",
       "      <td>0.830560</td>\n",
       "      <td>0.012103</td>\n",
       "      <td>0.000756</td>\n",
       "      <td>0.006808</td>\n",
       "      <td>0.000000</td>\n",
       "      <td>0.009834</td>\n",
       "    </tr>\n",
       "    <tr>\n",
       "      <th>9985182929</th>\n",
       "      <td>0.000000</td>\n",
       "      <td>0.000000</td>\n",
       "      <td>0.000000</td>\n",
       "      <td>0.000000</td>\n",
       "      <td>0.057143</td>\n",
       "      <td>0.028571</td>\n",
       "      <td>0.028571</td>\n",
       "      <td>0.057143</td>\n",
       "      <td>0.028571</td>\n",
       "      <td>0.000000</td>\n",
       "      <td>0.771429</td>\n",
       "      <td>0.028571</td>\n",
       "      <td>0.000000</td>\n",
       "      <td>0.000000</td>\n",
       "      <td>0.000000</td>\n",
       "      <td>0.000000</td>\n",
       "    </tr>\n",
       "  </tbody>\n",
       "</table>\n",
       "<p>225 rows × 16 columns</p>\n",
       "</div>"
      ],
      "text/plain": [
       "page             不喜欢      保存设置        关于    升级订阅套餐        喜欢      回到主页  \\\n",
       "userId                                                                   \n",
       "7352321     0.000000  0.000000  0.000000  0.000000  0.000000  0.044444   \n",
       "32678976    0.007134  0.000000  0.002378  0.001189  0.048157  0.031510   \n",
       "53589316    0.006870  0.000763  0.000763  0.003053  0.039695  0.034351   \n",
       "129878601   0.003378  0.000000  0.000000  0.000000  0.060811  0.023649   \n",
       "175542601   0.000000  0.000000  0.000000  0.000000  0.058824  0.102941   \n",
       "...              ...       ...       ...       ...       ...       ...   \n",
       "9687257104  0.008660  0.000346  0.001386  0.001039  0.046761  0.029096   \n",
       "9809732025  0.005102  0.000000  0.000000  0.005102  0.025510  0.030612   \n",
       "9815548900  0.025806  0.000000  0.000000  0.003226  0.046774  0.043548   \n",
       "9943009809  0.007564  0.000756  0.002269  0.001513  0.040847  0.029501   \n",
       "9985182929  0.000000  0.000000  0.000000  0.000000  0.057143  0.028571   \n",
       "\n",
       "page              帮助        广告   添加到收藏列表      添加好友        点击        登出  \\\n",
       "userId                                                                   \n",
       "7352321     0.044444  0.066667  0.000000  0.000000  0.822222  0.022222   \n",
       "32678976    0.005351  0.008323  0.025565  0.014269  0.837693  0.006540   \n",
       "53589316    0.005344  0.010687  0.032061  0.019084  0.819084  0.010687   \n",
       "129878601   0.006757  0.000000  0.033784  0.027027  0.817568  0.010135   \n",
       "175542601   0.014706  0.014706  0.014706  0.073529  0.676471  0.044118   \n",
       "...              ...       ...       ...       ...       ...       ...   \n",
       "9687257104  0.004503  0.007620  0.027710  0.014894  0.831313  0.008660   \n",
       "9809732025  0.005102  0.071429  0.040816  0.025510  0.765306  0.020408   \n",
       "9815548900  0.003226  0.014516  0.017742  0.012903  0.795161  0.017742   \n",
       "9943009809  0.006051  0.012859  0.027988  0.010590  0.830560  0.012103   \n",
       "9985182929  0.028571  0.057143  0.028571  0.000000  0.771429  0.028571   \n",
       "\n",
       "page              确认        设置        错误    降级订阅套餐  \n",
       "userId                                              \n",
       "7352321     0.000000  0.000000  0.000000  0.000000  \n",
       "32678976    0.000595  0.005351  0.001189  0.004756  \n",
       "53589316    0.002290  0.003817  0.000000  0.009924  \n",
       "129878601   0.000000  0.006757  0.006757  0.003378  \n",
       "175542601   0.000000  0.000000  0.000000  0.000000  \n",
       "...              ...       ...       ...       ...  \n",
       "9687257104  0.001039  0.005888  0.000346  0.010738  \n",
       "9809732025  0.000000  0.005102  0.000000  0.000000  \n",
       "9815548900  0.001613  0.006452  0.001613  0.006452  \n",
       "9943009809  0.000756  0.006808  0.000000  0.009834  \n",
       "9985182929  0.000000  0.000000  0.000000  0.000000  \n",
       "\n",
       "[225 rows x 16 columns]"
      ]
     },
     "execution_count": 125,
     "metadata": {},
     "output_type": "execute_result"
    }
   ],
   "source": [
    "f_page_rate"
   ]
  },
  {
   "cell_type": "markdown",
   "id": "1c0671b9",
   "metadata": {},
   "source": [
    "### 5.1 合并所有特征"
   ]
  },
  {
   "cell_type": "code",
   "execution_count": 126,
   "id": "7eca99ea",
   "metadata": {},
   "outputs": [],
   "source": [
    "f_normal=df[['userId','gender','userBrowser','platform','province','connection_point','churn']].drop_duplicates()\n",
    "f_normal = f_normal.set_index('userId')"
   ]
  },
  {
   "cell_type": "code",
   "execution_count": 127,
   "id": "550b4da2",
   "metadata": {},
   "outputs": [],
   "source": [
    "%matplotlib inline"
   ]
  },
  {
   "cell_type": "code",
   "execution_count": 128,
   "id": "97c0fc5e",
   "metadata": {},
   "outputs": [
    {
     "data": {
      "text/plain": [
       "['author_rate',\n",
       " 'cate_plot',\n",
       " 'content_rate',\n",
       " 'continuous_days',\n",
       " 'df',\n",
       " 'df_area',\n",
       " 'df_churn',\n",
       " 'df_content',\n",
       " 'df_log',\n",
       " 'df_user',\n",
       " 'extract_browser',\n",
       " 'f_author_count',\n",
       " 'f_author_nunique',\n",
       " 'f_author_rate',\n",
       " 'f_content_count',\n",
       " 'f_content_nunique',\n",
       " 'f_content_rate',\n",
       " 'f_conti_days',\n",
       " 'f_hour_rate',\n",
       " 'f_lag_days',\n",
       " 'f_normal',\n",
       " 'f_page_rate',\n",
       " 'f_sday_count',\n",
       " 'f_wday_rate',\n",
       " 'get_base_info',\n",
       " 'i',\n",
       " 'np',\n",
       " 'pd',\n",
       " 'plt',\n",
       " 'sns',\n",
       " 'stand_platform',\n",
       " 'tmp_author',\n",
       " 'tmp_city',\n",
       " 'tmp_content',\n",
       " 'tmp_days',\n",
       " 'tmp_gender',\n",
       " 'tmp_hour',\n",
       " 'tmp_length',\n",
       " 'tmp_page',\n",
       " 'tmp_platform',\n",
       " 'tmp_province',\n",
       " 'tmp_single_day_count',\n",
       " 'tmp_userBrowser',\n",
       " 'user_location',\n",
       " 'user_ovo_plot',\n",
       " 'weekday_dict']"
      ]
     },
     "execution_count": 128,
     "metadata": {},
     "output_type": "execute_result"
    }
   ],
   "source": [
    "#返回notebook中所有定义的变量名称\n",
    "%who_ls"
   ]
  },
  {
   "cell_type": "code",
   "execution_count": 131,
   "id": "88b72c30",
   "metadata": {},
   "outputs": [],
   "source": [
    "data=pd.concat(([  f_author_count,\n",
    "                   f_author_nunique,\n",
    "                   f_author_rate,\n",
    "                   f_content_count,\n",
    "                   f_content_nunique,\n",
    "                   f_content_rate,\n",
    "                   f_conti_days,\n",
    "                   f_hour_rate,\n",
    "                   f_lag_days,\n",
    "                   f_page_rate,\n",
    "                   f_sday_count,\n",
    "                   f_wday_rate,\n",
    "                   f_normal\n",
    "                  ]),axis=1)"
   ]
  },
  {
   "cell_type": "code",
   "execution_count": 132,
   "id": "c9f19177",
   "metadata": {},
   "outputs": [
    {
     "data": {
      "text/html": [
       "<div>\n",
       "<style scoped>\n",
       "    .dataframe tbody tr th:only-of-type {\n",
       "        vertical-align: middle;\n",
       "    }\n",
       "\n",
       "    .dataframe tbody tr th {\n",
       "        vertical-align: top;\n",
       "    }\n",
       "\n",
       "    .dataframe thead th {\n",
       "        text-align: right;\n",
       "    }\n",
       "</style>\n",
       "<table border=\"1\" class=\"dataframe\">\n",
       "  <thead>\n",
       "    <tr style=\"text-align: right;\">\n",
       "      <th></th>\n",
       "      <th>author_count</th>\n",
       "      <th>author_nunique</th>\n",
       "      <th>author_rate_mean</th>\n",
       "      <th>author_rate_max</th>\n",
       "      <th>author_rate_std</th>\n",
       "      <th>content_count</th>\n",
       "      <th>content_nunique</th>\n",
       "      <th>content_rate_mean</th>\n",
       "      <th>content_rate_max</th>\n",
       "      <th>content_rate_std</th>\n",
       "      <th>conti_days_mean</th>\n",
       "      <th>...</th>\n",
       "      <th>Sat.</th>\n",
       "      <th>Sun.</th>\n",
       "      <th>Thur</th>\n",
       "      <th>Tues.</th>\n",
       "      <th>Wed.</th>\n",
       "      <th>gender</th>\n",
       "      <th>userBrowser</th>\n",
       "      <th>platform</th>\n",
       "      <th>province</th>\n",
       "      <th>connection_point</th>\n",
       "      <th>churn</th>\n",
       "    </tr>\n",
       "    <tr>\n",
       "      <th>userId</th>\n",
       "      <th></th>\n",
       "      <th></th>\n",
       "      <th></th>\n",
       "      <th></th>\n",
       "      <th></th>\n",
       "      <th></th>\n",
       "      <th></th>\n",
       "      <th></th>\n",
       "      <th></th>\n",
       "      <th></th>\n",
       "      <th></th>\n",
       "      <th></th>\n",
       "      <th></th>\n",
       "      <th></th>\n",
       "      <th></th>\n",
       "      <th></th>\n",
       "      <th></th>\n",
       "      <th></th>\n",
       "      <th></th>\n",
       "      <th></th>\n",
       "      <th></th>\n",
       "      <th></th>\n",
       "      <th></th>\n",
       "    </tr>\n",
       "  </thead>\n",
       "  <tbody>\n",
       "    <tr>\n",
       "      <th>7352321</th>\n",
       "      <td>37</td>\n",
       "      <td>37</td>\n",
       "      <td>0.027027</td>\n",
       "      <td>0.027027</td>\n",
       "      <td>0.000000</td>\n",
       "      <td>37</td>\n",
       "      <td>37</td>\n",
       "      <td>0.027027</td>\n",
       "      <td>0.027027</td>\n",
       "      <td>0.000000</td>\n",
       "      <td>11.750000</td>\n",
       "      <td>...</td>\n",
       "      <td>0.000000</td>\n",
       "      <td>0.488889</td>\n",
       "      <td>0.000000</td>\n",
       "      <td>0.022222</td>\n",
       "      <td>0.333333</td>\n",
       "      <td>M</td>\n",
       "      <td>Chrome</td>\n",
       "      <td>Macintosh</td>\n",
       "      <td>GuiZhou</td>\n",
       "      <td>ap-guangzhou</td>\n",
       "      <td>0</td>\n",
       "    </tr>\n",
       "    <tr>\n",
       "      <th>32678976</th>\n",
       "      <td>1409</td>\n",
       "      <td>1259</td>\n",
       "      <td>0.001026</td>\n",
       "      <td>0.007807</td>\n",
       "      <td>0.000859</td>\n",
       "      <td>1409</td>\n",
       "      <td>1259</td>\n",
       "      <td>0.000794</td>\n",
       "      <td>0.006388</td>\n",
       "      <td>0.000367</td>\n",
       "      <td>1.600000</td>\n",
       "      <td>...</td>\n",
       "      <td>0.162307</td>\n",
       "      <td>0.113555</td>\n",
       "      <td>0.109394</td>\n",
       "      <td>0.132580</td>\n",
       "      <td>0.094530</td>\n",
       "      <td>M</td>\n",
       "      <td>Safari</td>\n",
       "      <td>iPad</td>\n",
       "      <td>HeBei</td>\n",
       "      <td>ap-shanghai</td>\n",
       "      <td>0</td>\n",
       "    </tr>\n",
       "    <tr>\n",
       "      <th>53589316</th>\n",
       "      <td>1073</td>\n",
       "      <td>981</td>\n",
       "      <td>0.001214</td>\n",
       "      <td>0.013979</td>\n",
       "      <td>0.000893</td>\n",
       "      <td>1073</td>\n",
       "      <td>981</td>\n",
       "      <td>0.001019</td>\n",
       "      <td>0.005592</td>\n",
       "      <td>0.000399</td>\n",
       "      <td>3.100000</td>\n",
       "      <td>...</td>\n",
       "      <td>0.212977</td>\n",
       "      <td>0.106107</td>\n",
       "      <td>0.007634</td>\n",
       "      <td>0.096947</td>\n",
       "      <td>0.351908</td>\n",
       "      <td>F</td>\n",
       "      <td>Chrome</td>\n",
       "      <td>Macintosh</td>\n",
       "      <td>HeNan</td>\n",
       "      <td>ap-shanghai</td>\n",
       "      <td>1</td>\n",
       "    </tr>\n",
       "    <tr>\n",
       "      <th>129878601</th>\n",
       "      <td>242</td>\n",
       "      <td>238</td>\n",
       "      <td>0.004505</td>\n",
       "      <td>0.016529</td>\n",
       "      <td>0.001476</td>\n",
       "      <td>242</td>\n",
       "      <td>238</td>\n",
       "      <td>0.004202</td>\n",
       "      <td>0.008264</td>\n",
       "      <td>0.000532</td>\n",
       "      <td>18.000000</td>\n",
       "      <td>...</td>\n",
       "      <td>0.118243</td>\n",
       "      <td>0.000000</td>\n",
       "      <td>0.000000</td>\n",
       "      <td>0.783784</td>\n",
       "      <td>0.000000</td>\n",
       "      <td>F</td>\n",
       "      <td>Chrome</td>\n",
       "      <td>Macintosh</td>\n",
       "      <td>ShanXi</td>\n",
       "      <td>ap-guangzhou</td>\n",
       "      <td>0</td>\n",
       "    </tr>\n",
       "    <tr>\n",
       "      <th>175542601</th>\n",
       "      <td>46</td>\n",
       "      <td>46</td>\n",
       "      <td>0.021739</td>\n",
       "      <td>0.021739</td>\n",
       "      <td>0.000000</td>\n",
       "      <td>46</td>\n",
       "      <td>46</td>\n",
       "      <td>0.021739</td>\n",
       "      <td>0.021739</td>\n",
       "      <td>0.000000</td>\n",
       "      <td>11.500000</td>\n",
       "      <td>...</td>\n",
       "      <td>0.000000</td>\n",
       "      <td>0.044118</td>\n",
       "      <td>0.000000</td>\n",
       "      <td>0.602941</td>\n",
       "      <td>0.352941</td>\n",
       "      <td>M</td>\n",
       "      <td>Chrome</td>\n",
       "      <td>Macintosh</td>\n",
       "      <td>ZheJiang</td>\n",
       "      <td>ap-guangzhou</td>\n",
       "      <td>0</td>\n",
       "    </tr>\n",
       "    <tr>\n",
       "      <th>...</th>\n",
       "      <td>...</td>\n",
       "      <td>...</td>\n",
       "      <td>...</td>\n",
       "      <td>...</td>\n",
       "      <td>...</td>\n",
       "      <td>...</td>\n",
       "      <td>...</td>\n",
       "      <td>...</td>\n",
       "      <td>...</td>\n",
       "      <td>...</td>\n",
       "      <td>...</td>\n",
       "      <td>...</td>\n",
       "      <td>...</td>\n",
       "      <td>...</td>\n",
       "      <td>...</td>\n",
       "      <td>...</td>\n",
       "      <td>...</td>\n",
       "      <td>...</td>\n",
       "      <td>...</td>\n",
       "      <td>...</td>\n",
       "      <td>...</td>\n",
       "      <td>...</td>\n",
       "      <td>...</td>\n",
       "    </tr>\n",
       "    <tr>\n",
       "      <th>9687257104</th>\n",
       "      <td>2400</td>\n",
       "      <td>2071</td>\n",
       "      <td>0.000653</td>\n",
       "      <td>0.008333</td>\n",
       "      <td>0.000660</td>\n",
       "      <td>2400</td>\n",
       "      <td>2071</td>\n",
       "      <td>0.000483</td>\n",
       "      <td>0.005417</td>\n",
       "      <td>0.000277</td>\n",
       "      <td>2.565217</td>\n",
       "      <td>...</td>\n",
       "      <td>0.119155</td>\n",
       "      <td>0.032560</td>\n",
       "      <td>0.025286</td>\n",
       "      <td>0.264288</td>\n",
       "      <td>0.099065</td>\n",
       "      <td>F</td>\n",
       "      <td>Chrome</td>\n",
       "      <td>Macintosh</td>\n",
       "      <td>GuangDong</td>\n",
       "      <td>ap-guangzhou</td>\n",
       "      <td>0</td>\n",
       "    </tr>\n",
       "    <tr>\n",
       "      <th>9809732025</th>\n",
       "      <td>150</td>\n",
       "      <td>150</td>\n",
       "      <td>0.006849</td>\n",
       "      <td>0.020000</td>\n",
       "      <td>0.001344</td>\n",
       "      <td>150</td>\n",
       "      <td>150</td>\n",
       "      <td>0.006667</td>\n",
       "      <td>0.006667</td>\n",
       "      <td>0.000000</td>\n",
       "      <td>4.833333</td>\n",
       "      <td>...</td>\n",
       "      <td>0.071429</td>\n",
       "      <td>0.142857</td>\n",
       "      <td>0.000000</td>\n",
       "      <td>0.525510</td>\n",
       "      <td>0.224490</td>\n",
       "      <td>M</td>\n",
       "      <td>Safari</td>\n",
       "      <td>iPhone</td>\n",
       "      <td>FuJian</td>\n",
       "      <td>ap-beijing</td>\n",
       "      <td>0</td>\n",
       "    </tr>\n",
       "    <tr>\n",
       "      <th>9815548900</th>\n",
       "      <td>493</td>\n",
       "      <td>463</td>\n",
       "      <td>0.002433</td>\n",
       "      <td>0.012170</td>\n",
       "      <td>0.001289</td>\n",
       "      <td>493</td>\n",
       "      <td>463</td>\n",
       "      <td>0.002160</td>\n",
       "      <td>0.008114</td>\n",
       "      <td>0.000654</td>\n",
       "      <td>3.500000</td>\n",
       "      <td>...</td>\n",
       "      <td>0.183871</td>\n",
       "      <td>0.000000</td>\n",
       "      <td>0.000000</td>\n",
       "      <td>0.319355</td>\n",
       "      <td>0.000000</td>\n",
       "      <td>M</td>\n",
       "      <td>Safari</td>\n",
       "      <td>Macintosh</td>\n",
       "      <td>SiChuan</td>\n",
       "      <td>ap-guangzhou</td>\n",
       "      <td>1</td>\n",
       "    </tr>\n",
       "    <tr>\n",
       "      <th>9943009809</th>\n",
       "      <td>1098</td>\n",
       "      <td>1012</td>\n",
       "      <td>0.001230</td>\n",
       "      <td>0.008197</td>\n",
       "      <td>0.000862</td>\n",
       "      <td>1098</td>\n",
       "      <td>1012</td>\n",
       "      <td>0.000988</td>\n",
       "      <td>0.006375</td>\n",
       "      <td>0.000383</td>\n",
       "      <td>3.000000</td>\n",
       "      <td>...</td>\n",
       "      <td>0.068835</td>\n",
       "      <td>0.243570</td>\n",
       "      <td>0.009834</td>\n",
       "      <td>0.198185</td>\n",
       "      <td>0.350227</td>\n",
       "      <td>M</td>\n",
       "      <td>Safari</td>\n",
       "      <td>Macintosh</td>\n",
       "      <td>GuangDong</td>\n",
       "      <td>ap-guangzhou</td>\n",
       "      <td>0</td>\n",
       "    </tr>\n",
       "    <tr>\n",
       "      <th>9985182929</th>\n",
       "      <td>27</td>\n",
       "      <td>27</td>\n",
       "      <td>0.038462</td>\n",
       "      <td>0.074074</td>\n",
       "      <td>0.007264</td>\n",
       "      <td>27</td>\n",
       "      <td>27</td>\n",
       "      <td>0.037037</td>\n",
       "      <td>0.037037</td>\n",
       "      <td>0.000000</td>\n",
       "      <td>999.000000</td>\n",
       "      <td>...</td>\n",
       "      <td>0.000000</td>\n",
       "      <td>0.000000</td>\n",
       "      <td>0.000000</td>\n",
       "      <td>1.000000</td>\n",
       "      <td>0.000000</td>\n",
       "      <td>M</td>\n",
       "      <td>IE</td>\n",
       "      <td>Windows</td>\n",
       "      <td>SiChuan</td>\n",
       "      <td>ap-guangzhou</td>\n",
       "      <td>0</td>\n",
       "    </tr>\n",
       "  </tbody>\n",
       "</table>\n",
       "<p>225 rows × 53 columns</p>\n",
       "</div>"
      ],
      "text/plain": [
       "            author_count  author_nunique  author_rate_mean  author_rate_max  \\\n",
       "userId                                                                        \n",
       "7352321               37              37          0.027027         0.027027   \n",
       "32678976            1409            1259          0.001026         0.007807   \n",
       "53589316            1073             981          0.001214         0.013979   \n",
       "129878601            242             238          0.004505         0.016529   \n",
       "175542601             46              46          0.021739         0.021739   \n",
       "...                  ...             ...               ...              ...   \n",
       "9687257104          2400            2071          0.000653         0.008333   \n",
       "9809732025           150             150          0.006849         0.020000   \n",
       "9815548900           493             463          0.002433         0.012170   \n",
       "9943009809          1098            1012          0.001230         0.008197   \n",
       "9985182929            27              27          0.038462         0.074074   \n",
       "\n",
       "            author_rate_std  content_count  content_nunique  \\\n",
       "userId                                                        \n",
       "7352321            0.000000             37               37   \n",
       "32678976           0.000859           1409             1259   \n",
       "53589316           0.000893           1073              981   \n",
       "129878601          0.001476            242              238   \n",
       "175542601          0.000000             46               46   \n",
       "...                     ...            ...              ...   \n",
       "9687257104         0.000660           2400             2071   \n",
       "9809732025         0.001344            150              150   \n",
       "9815548900         0.001289            493              463   \n",
       "9943009809         0.000862           1098             1012   \n",
       "9985182929         0.007264             27               27   \n",
       "\n",
       "            content_rate_mean  content_rate_max  content_rate_std  \\\n",
       "userId                                                              \n",
       "7352321              0.027027          0.027027          0.000000   \n",
       "32678976             0.000794          0.006388          0.000367   \n",
       "53589316             0.001019          0.005592          0.000399   \n",
       "129878601            0.004202          0.008264          0.000532   \n",
       "175542601            0.021739          0.021739          0.000000   \n",
       "...                       ...               ...               ...   \n",
       "9687257104           0.000483          0.005417          0.000277   \n",
       "9809732025           0.006667          0.006667          0.000000   \n",
       "9815548900           0.002160          0.008114          0.000654   \n",
       "9943009809           0.000988          0.006375          0.000383   \n",
       "9985182929           0.037037          0.037037          0.000000   \n",
       "\n",
       "            conti_days_mean  ...      Sat.      Sun.      Thur     Tues.  \\\n",
       "userId                       ...                                           \n",
       "7352321           11.750000  ...  0.000000  0.488889  0.000000  0.022222   \n",
       "32678976           1.600000  ...  0.162307  0.113555  0.109394  0.132580   \n",
       "53589316           3.100000  ...  0.212977  0.106107  0.007634  0.096947   \n",
       "129878601         18.000000  ...  0.118243  0.000000  0.000000  0.783784   \n",
       "175542601         11.500000  ...  0.000000  0.044118  0.000000  0.602941   \n",
       "...                     ...  ...       ...       ...       ...       ...   \n",
       "9687257104         2.565217  ...  0.119155  0.032560  0.025286  0.264288   \n",
       "9809732025         4.833333  ...  0.071429  0.142857  0.000000  0.525510   \n",
       "9815548900         3.500000  ...  0.183871  0.000000  0.000000  0.319355   \n",
       "9943009809         3.000000  ...  0.068835  0.243570  0.009834  0.198185   \n",
       "9985182929       999.000000  ...  0.000000  0.000000  0.000000  1.000000   \n",
       "\n",
       "                Wed.  gender  userBrowser   platform   province  \\\n",
       "userId                                                            \n",
       "7352321     0.333333       M       Chrome  Macintosh    GuiZhou   \n",
       "32678976    0.094530       M       Safari       iPad      HeBei   \n",
       "53589316    0.351908       F       Chrome  Macintosh      HeNan   \n",
       "129878601   0.000000       F       Chrome  Macintosh     ShanXi   \n",
       "175542601   0.352941       M       Chrome  Macintosh   ZheJiang   \n",
       "...              ...     ...          ...        ...        ...   \n",
       "9687257104  0.099065       F       Chrome  Macintosh  GuangDong   \n",
       "9809732025  0.224490       M       Safari     iPhone     FuJian   \n",
       "9815548900  0.000000       M       Safari  Macintosh    SiChuan   \n",
       "9943009809  0.350227       M       Safari  Macintosh  GuangDong   \n",
       "9985182929  0.000000       M           IE    Windows    SiChuan   \n",
       "\n",
       "            connection_point  churn  \n",
       "userId                               \n",
       "7352321         ap-guangzhou      0  \n",
       "32678976         ap-shanghai      0  \n",
       "53589316         ap-shanghai      1  \n",
       "129878601       ap-guangzhou      0  \n",
       "175542601       ap-guangzhou      0  \n",
       "...                      ...    ...  \n",
       "9687257104      ap-guangzhou      0  \n",
       "9809732025        ap-beijing      0  \n",
       "9815548900      ap-guangzhou      1  \n",
       "9943009809      ap-guangzhou      0  \n",
       "9985182929      ap-guangzhou      0  \n",
       "\n",
       "[225 rows x 53 columns]"
      ]
     },
     "execution_count": 132,
     "metadata": {},
     "output_type": "execute_result"
    }
   ],
   "source": [
    "data"
   ]
  },
  {
   "cell_type": "markdown",
   "id": "7eda5b4c",
   "metadata": {},
   "source": [
    "### 5.2数据预处理"
   ]
  },
  {
   "cell_type": "code",
   "execution_count": 133,
   "id": "51ae0647",
   "metadata": {},
   "outputs": [],
   "source": [
    "#转变为哑变量\n",
    "cat_cols=[col for col in f_normal.columns if col !='churn']"
   ]
  },
  {
   "cell_type": "code",
   "execution_count": 135,
   "id": "da899732",
   "metadata": {},
   "outputs": [],
   "source": [
    "data_for_ml=pd.get_dummies(data,columns=cat_cols,drop_first=True)"
   ]
  },
  {
   "cell_type": "code",
   "execution_count": 136,
   "id": "9f4f5b8d",
   "metadata": {},
   "outputs": [
    {
     "data": {
      "text/html": [
       "<div>\n",
       "<style scoped>\n",
       "    .dataframe tbody tr th:only-of-type {\n",
       "        vertical-align: middle;\n",
       "    }\n",
       "\n",
       "    .dataframe tbody tr th {\n",
       "        vertical-align: top;\n",
       "    }\n",
       "\n",
       "    .dataframe thead th {\n",
       "        text-align: right;\n",
       "    }\n",
       "</style>\n",
       "<table border=\"1\" class=\"dataframe\">\n",
       "  <thead>\n",
       "    <tr style=\"text-align: right;\">\n",
       "      <th></th>\n",
       "      <th>author_count</th>\n",
       "      <th>author_nunique</th>\n",
       "      <th>author_rate_mean</th>\n",
       "      <th>author_rate_max</th>\n",
       "      <th>author_rate_std</th>\n",
       "      <th>content_count</th>\n",
       "      <th>content_nunique</th>\n",
       "      <th>content_rate_mean</th>\n",
       "      <th>content_rate_max</th>\n",
       "      <th>content_rate_std</th>\n",
       "      <th>conti_days_mean</th>\n",
       "      <th>...</th>\n",
       "      <th>province_ShanDong</th>\n",
       "      <th>province_ShanXi</th>\n",
       "      <th>province_ShangHai</th>\n",
       "      <th>province_SiChuan</th>\n",
       "      <th>province_YunNan</th>\n",
       "      <th>province_ZheJiang</th>\n",
       "      <th>province_ZhongQing</th>\n",
       "      <th>province_tokyo</th>\n",
       "      <th>connection_point_ap-guangzhou</th>\n",
       "      <th>connection_point_ap-shanghai</th>\n",
       "      <th>connection_point_ap-tokyo</th>\n",
       "    </tr>\n",
       "    <tr>\n",
       "      <th>userId</th>\n",
       "      <th></th>\n",
       "      <th></th>\n",
       "      <th></th>\n",
       "      <th></th>\n",
       "      <th></th>\n",
       "      <th></th>\n",
       "      <th></th>\n",
       "      <th></th>\n",
       "      <th></th>\n",
       "      <th></th>\n",
       "      <th></th>\n",
       "      <th></th>\n",
       "      <th></th>\n",
       "      <th></th>\n",
       "      <th></th>\n",
       "      <th></th>\n",
       "      <th></th>\n",
       "      <th></th>\n",
       "      <th></th>\n",
       "      <th></th>\n",
       "      <th></th>\n",
       "      <th></th>\n",
       "      <th></th>\n",
       "    </tr>\n",
       "  </thead>\n",
       "  <tbody>\n",
       "    <tr>\n",
       "      <th>7352321</th>\n",
       "      <td>37</td>\n",
       "      <td>37</td>\n",
       "      <td>0.027027</td>\n",
       "      <td>0.027027</td>\n",
       "      <td>0.000000</td>\n",
       "      <td>37</td>\n",
       "      <td>37</td>\n",
       "      <td>0.027027</td>\n",
       "      <td>0.027027</td>\n",
       "      <td>0.000000</td>\n",
       "      <td>11.750000</td>\n",
       "      <td>...</td>\n",
       "      <td>0</td>\n",
       "      <td>0</td>\n",
       "      <td>0</td>\n",
       "      <td>0</td>\n",
       "      <td>0</td>\n",
       "      <td>0</td>\n",
       "      <td>0</td>\n",
       "      <td>0</td>\n",
       "      <td>1</td>\n",
       "      <td>0</td>\n",
       "      <td>0</td>\n",
       "    </tr>\n",
       "    <tr>\n",
       "      <th>32678976</th>\n",
       "      <td>1409</td>\n",
       "      <td>1259</td>\n",
       "      <td>0.001026</td>\n",
       "      <td>0.007807</td>\n",
       "      <td>0.000859</td>\n",
       "      <td>1409</td>\n",
       "      <td>1259</td>\n",
       "      <td>0.000794</td>\n",
       "      <td>0.006388</td>\n",
       "      <td>0.000367</td>\n",
       "      <td>1.600000</td>\n",
       "      <td>...</td>\n",
       "      <td>0</td>\n",
       "      <td>0</td>\n",
       "      <td>0</td>\n",
       "      <td>0</td>\n",
       "      <td>0</td>\n",
       "      <td>0</td>\n",
       "      <td>0</td>\n",
       "      <td>0</td>\n",
       "      <td>0</td>\n",
       "      <td>1</td>\n",
       "      <td>0</td>\n",
       "    </tr>\n",
       "    <tr>\n",
       "      <th>53589316</th>\n",
       "      <td>1073</td>\n",
       "      <td>981</td>\n",
       "      <td>0.001214</td>\n",
       "      <td>0.013979</td>\n",
       "      <td>0.000893</td>\n",
       "      <td>1073</td>\n",
       "      <td>981</td>\n",
       "      <td>0.001019</td>\n",
       "      <td>0.005592</td>\n",
       "      <td>0.000399</td>\n",
       "      <td>3.100000</td>\n",
       "      <td>...</td>\n",
       "      <td>0</td>\n",
       "      <td>0</td>\n",
       "      <td>0</td>\n",
       "      <td>0</td>\n",
       "      <td>0</td>\n",
       "      <td>0</td>\n",
       "      <td>0</td>\n",
       "      <td>0</td>\n",
       "      <td>0</td>\n",
       "      <td>1</td>\n",
       "      <td>0</td>\n",
       "    </tr>\n",
       "    <tr>\n",
       "      <th>129878601</th>\n",
       "      <td>242</td>\n",
       "      <td>238</td>\n",
       "      <td>0.004505</td>\n",
       "      <td>0.016529</td>\n",
       "      <td>0.001476</td>\n",
       "      <td>242</td>\n",
       "      <td>238</td>\n",
       "      <td>0.004202</td>\n",
       "      <td>0.008264</td>\n",
       "      <td>0.000532</td>\n",
       "      <td>18.000000</td>\n",
       "      <td>...</td>\n",
       "      <td>0</td>\n",
       "      <td>1</td>\n",
       "      <td>0</td>\n",
       "      <td>0</td>\n",
       "      <td>0</td>\n",
       "      <td>0</td>\n",
       "      <td>0</td>\n",
       "      <td>0</td>\n",
       "      <td>1</td>\n",
       "      <td>0</td>\n",
       "      <td>0</td>\n",
       "    </tr>\n",
       "    <tr>\n",
       "      <th>175542601</th>\n",
       "      <td>46</td>\n",
       "      <td>46</td>\n",
       "      <td>0.021739</td>\n",
       "      <td>0.021739</td>\n",
       "      <td>0.000000</td>\n",
       "      <td>46</td>\n",
       "      <td>46</td>\n",
       "      <td>0.021739</td>\n",
       "      <td>0.021739</td>\n",
       "      <td>0.000000</td>\n",
       "      <td>11.500000</td>\n",
       "      <td>...</td>\n",
       "      <td>0</td>\n",
       "      <td>0</td>\n",
       "      <td>0</td>\n",
       "      <td>0</td>\n",
       "      <td>0</td>\n",
       "      <td>1</td>\n",
       "      <td>0</td>\n",
       "      <td>0</td>\n",
       "      <td>1</td>\n",
       "      <td>0</td>\n",
       "      <td>0</td>\n",
       "    </tr>\n",
       "    <tr>\n",
       "      <th>...</th>\n",
       "      <td>...</td>\n",
       "      <td>...</td>\n",
       "      <td>...</td>\n",
       "      <td>...</td>\n",
       "      <td>...</td>\n",
       "      <td>...</td>\n",
       "      <td>...</td>\n",
       "      <td>...</td>\n",
       "      <td>...</td>\n",
       "      <td>...</td>\n",
       "      <td>...</td>\n",
       "      <td>...</td>\n",
       "      <td>...</td>\n",
       "      <td>...</td>\n",
       "      <td>...</td>\n",
       "      <td>...</td>\n",
       "      <td>...</td>\n",
       "      <td>...</td>\n",
       "      <td>...</td>\n",
       "      <td>...</td>\n",
       "      <td>...</td>\n",
       "      <td>...</td>\n",
       "      <td>...</td>\n",
       "    </tr>\n",
       "    <tr>\n",
       "      <th>9687257104</th>\n",
       "      <td>2400</td>\n",
       "      <td>2071</td>\n",
       "      <td>0.000653</td>\n",
       "      <td>0.008333</td>\n",
       "      <td>0.000660</td>\n",
       "      <td>2400</td>\n",
       "      <td>2071</td>\n",
       "      <td>0.000483</td>\n",
       "      <td>0.005417</td>\n",
       "      <td>0.000277</td>\n",
       "      <td>2.565217</td>\n",
       "      <td>...</td>\n",
       "      <td>0</td>\n",
       "      <td>0</td>\n",
       "      <td>0</td>\n",
       "      <td>0</td>\n",
       "      <td>0</td>\n",
       "      <td>0</td>\n",
       "      <td>0</td>\n",
       "      <td>0</td>\n",
       "      <td>1</td>\n",
       "      <td>0</td>\n",
       "      <td>0</td>\n",
       "    </tr>\n",
       "    <tr>\n",
       "      <th>9809732025</th>\n",
       "      <td>150</td>\n",
       "      <td>150</td>\n",
       "      <td>0.006849</td>\n",
       "      <td>0.020000</td>\n",
       "      <td>0.001344</td>\n",
       "      <td>150</td>\n",
       "      <td>150</td>\n",
       "      <td>0.006667</td>\n",
       "      <td>0.006667</td>\n",
       "      <td>0.000000</td>\n",
       "      <td>4.833333</td>\n",
       "      <td>...</td>\n",
       "      <td>0</td>\n",
       "      <td>0</td>\n",
       "      <td>0</td>\n",
       "      <td>0</td>\n",
       "      <td>0</td>\n",
       "      <td>0</td>\n",
       "      <td>0</td>\n",
       "      <td>0</td>\n",
       "      <td>0</td>\n",
       "      <td>0</td>\n",
       "      <td>0</td>\n",
       "    </tr>\n",
       "    <tr>\n",
       "      <th>9815548900</th>\n",
       "      <td>493</td>\n",
       "      <td>463</td>\n",
       "      <td>0.002433</td>\n",
       "      <td>0.012170</td>\n",
       "      <td>0.001289</td>\n",
       "      <td>493</td>\n",
       "      <td>463</td>\n",
       "      <td>0.002160</td>\n",
       "      <td>0.008114</td>\n",
       "      <td>0.000654</td>\n",
       "      <td>3.500000</td>\n",
       "      <td>...</td>\n",
       "      <td>0</td>\n",
       "      <td>0</td>\n",
       "      <td>0</td>\n",
       "      <td>1</td>\n",
       "      <td>0</td>\n",
       "      <td>0</td>\n",
       "      <td>0</td>\n",
       "      <td>0</td>\n",
       "      <td>1</td>\n",
       "      <td>0</td>\n",
       "      <td>0</td>\n",
       "    </tr>\n",
       "    <tr>\n",
       "      <th>9943009809</th>\n",
       "      <td>1098</td>\n",
       "      <td>1012</td>\n",
       "      <td>0.001230</td>\n",
       "      <td>0.008197</td>\n",
       "      <td>0.000862</td>\n",
       "      <td>1098</td>\n",
       "      <td>1012</td>\n",
       "      <td>0.000988</td>\n",
       "      <td>0.006375</td>\n",
       "      <td>0.000383</td>\n",
       "      <td>3.000000</td>\n",
       "      <td>...</td>\n",
       "      <td>0</td>\n",
       "      <td>0</td>\n",
       "      <td>0</td>\n",
       "      <td>0</td>\n",
       "      <td>0</td>\n",
       "      <td>0</td>\n",
       "      <td>0</td>\n",
       "      <td>0</td>\n",
       "      <td>1</td>\n",
       "      <td>0</td>\n",
       "      <td>0</td>\n",
       "    </tr>\n",
       "    <tr>\n",
       "      <th>9985182929</th>\n",
       "      <td>27</td>\n",
       "      <td>27</td>\n",
       "      <td>0.038462</td>\n",
       "      <td>0.074074</td>\n",
       "      <td>0.007264</td>\n",
       "      <td>27</td>\n",
       "      <td>27</td>\n",
       "      <td>0.037037</td>\n",
       "      <td>0.037037</td>\n",
       "      <td>0.000000</td>\n",
       "      <td>999.000000</td>\n",
       "      <td>...</td>\n",
       "      <td>0</td>\n",
       "      <td>0</td>\n",
       "      <td>0</td>\n",
       "      <td>1</td>\n",
       "      <td>0</td>\n",
       "      <td>0</td>\n",
       "      <td>0</td>\n",
       "      <td>0</td>\n",
       "      <td>1</td>\n",
       "      <td>0</td>\n",
       "      <td>0</td>\n",
       "    </tr>\n",
       "  </tbody>\n",
       "</table>\n",
       "<p>225 rows × 85 columns</p>\n",
       "</div>"
      ],
      "text/plain": [
       "            author_count  author_nunique  author_rate_mean  author_rate_max  \\\n",
       "userId                                                                        \n",
       "7352321               37              37          0.027027         0.027027   \n",
       "32678976            1409            1259          0.001026         0.007807   \n",
       "53589316            1073             981          0.001214         0.013979   \n",
       "129878601            242             238          0.004505         0.016529   \n",
       "175542601             46              46          0.021739         0.021739   \n",
       "...                  ...             ...               ...              ...   \n",
       "9687257104          2400            2071          0.000653         0.008333   \n",
       "9809732025           150             150          0.006849         0.020000   \n",
       "9815548900           493             463          0.002433         0.012170   \n",
       "9943009809          1098            1012          0.001230         0.008197   \n",
       "9985182929            27              27          0.038462         0.074074   \n",
       "\n",
       "            author_rate_std  content_count  content_nunique  \\\n",
       "userId                                                        \n",
       "7352321            0.000000             37               37   \n",
       "32678976           0.000859           1409             1259   \n",
       "53589316           0.000893           1073              981   \n",
       "129878601          0.001476            242              238   \n",
       "175542601          0.000000             46               46   \n",
       "...                     ...            ...              ...   \n",
       "9687257104         0.000660           2400             2071   \n",
       "9809732025         0.001344            150              150   \n",
       "9815548900         0.001289            493              463   \n",
       "9943009809         0.000862           1098             1012   \n",
       "9985182929         0.007264             27               27   \n",
       "\n",
       "            content_rate_mean  content_rate_max  content_rate_std  \\\n",
       "userId                                                              \n",
       "7352321              0.027027          0.027027          0.000000   \n",
       "32678976             0.000794          0.006388          0.000367   \n",
       "53589316             0.001019          0.005592          0.000399   \n",
       "129878601            0.004202          0.008264          0.000532   \n",
       "175542601            0.021739          0.021739          0.000000   \n",
       "...                       ...               ...               ...   \n",
       "9687257104           0.000483          0.005417          0.000277   \n",
       "9809732025           0.006667          0.006667          0.000000   \n",
       "9815548900           0.002160          0.008114          0.000654   \n",
       "9943009809           0.000988          0.006375          0.000383   \n",
       "9985182929           0.037037          0.037037          0.000000   \n",
       "\n",
       "            conti_days_mean  ...  province_ShanDong  province_ShanXi  \\\n",
       "userId                       ...                                       \n",
       "7352321           11.750000  ...                  0                0   \n",
       "32678976           1.600000  ...                  0                0   \n",
       "53589316           3.100000  ...                  0                0   \n",
       "129878601         18.000000  ...                  0                1   \n",
       "175542601         11.500000  ...                  0                0   \n",
       "...                     ...  ...                ...              ...   \n",
       "9687257104         2.565217  ...                  0                0   \n",
       "9809732025         4.833333  ...                  0                0   \n",
       "9815548900         3.500000  ...                  0                0   \n",
       "9943009809         3.000000  ...                  0                0   \n",
       "9985182929       999.000000  ...                  0                0   \n",
       "\n",
       "            province_ShangHai  province_SiChuan  province_YunNan  \\\n",
       "userId                                                             \n",
       "7352321                     0                 0                0   \n",
       "32678976                    0                 0                0   \n",
       "53589316                    0                 0                0   \n",
       "129878601                   0                 0                0   \n",
       "175542601                   0                 0                0   \n",
       "...                       ...               ...              ...   \n",
       "9687257104                  0                 0                0   \n",
       "9809732025                  0                 0                0   \n",
       "9815548900                  0                 1                0   \n",
       "9943009809                  0                 0                0   \n",
       "9985182929                  0                 1                0   \n",
       "\n",
       "            province_ZheJiang  province_ZhongQing  province_tokyo  \\\n",
       "userId                                                              \n",
       "7352321                     0                   0               0   \n",
       "32678976                    0                   0               0   \n",
       "53589316                    0                   0               0   \n",
       "129878601                   0                   0               0   \n",
       "175542601                   1                   0               0   \n",
       "...                       ...                 ...             ...   \n",
       "9687257104                  0                   0               0   \n",
       "9809732025                  0                   0               0   \n",
       "9815548900                  0                   0               0   \n",
       "9943009809                  0                   0               0   \n",
       "9985182929                  0                   0               0   \n",
       "\n",
       "            connection_point_ap-guangzhou  connection_point_ap-shanghai  \\\n",
       "userId                                                                    \n",
       "7352321                                 1                             0   \n",
       "32678976                                0                             1   \n",
       "53589316                                0                             1   \n",
       "129878601                               1                             0   \n",
       "175542601                               1                             0   \n",
       "...                                   ...                           ...   \n",
       "9687257104                              1                             0   \n",
       "9809732025                              0                             0   \n",
       "9815548900                              1                             0   \n",
       "9943009809                              1                             0   \n",
       "9985182929                              1                             0   \n",
       "\n",
       "            connection_point_ap-tokyo  \n",
       "userId                                 \n",
       "7352321                             0  \n",
       "32678976                            0  \n",
       "53589316                            0  \n",
       "129878601                           0  \n",
       "175542601                           0  \n",
       "...                               ...  \n",
       "9687257104                          0  \n",
       "9809732025                          0  \n",
       "9815548900                          0  \n",
       "9943009809                          0  \n",
       "9985182929                          0  \n",
       "\n",
       "[225 rows x 85 columns]"
      ]
     },
     "execution_count": 136,
     "metadata": {},
     "output_type": "execute_result"
    }
   ],
   "source": [
    "data_for_ml"
   ]
  },
  {
   "cell_type": "markdown",
   "id": "a70fc65e",
   "metadata": {},
   "source": [
    "## 6.数学建模"
   ]
  },
  {
   "cell_type": "code",
   "execution_count": 137,
   "id": "755ad79c",
   "metadata": {},
   "outputs": [],
   "source": [
    "from sklearn.model_selection import train_test_split\n",
    "from sklearn.linear_model import LogisticRegression\n",
    "from sklearn.tree import DecisionTreeClassifier\n",
    "from sklearn.metrics import roc_auc_score"
   ]
  },
  {
   "cell_type": "code",
   "execution_count": 138,
   "id": "850efd7b",
   "metadata": {},
   "outputs": [],
   "source": [
    "x=data_for_ml.drop('churn',axis=1)\n",
    "y=data_for_ml['churn']"
   ]
  },
  {
   "cell_type": "code",
   "execution_count": 139,
   "id": "074b038e",
   "metadata": {},
   "outputs": [],
   "source": [
    "#拆分训练集和测试集\n",
    "x_train,x_test,y_train,y_test=train_test_split(x,y,random_state=2021)"
   ]
  },
  {
   "cell_type": "code",
   "execution_count": 143,
   "id": "b54886fe",
   "metadata": {},
   "outputs": [
    {
     "name": "stdout",
     "output_type": "stream",
     "text": [
      "AUC SCORE; 0.9\n"
     ]
    },
    {
     "name": "stderr",
     "output_type": "stream",
     "text": [
      "E:\\anaconda\\lib\\site-packages\\sklearn\\linear_model\\_logistic.py:763: ConvergenceWarning: lbfgs failed to converge (status=1):\n",
      "STOP: TOTAL NO. of ITERATIONS REACHED LIMIT.\n",
      "\n",
      "Increase the number of iterations (max_iter) or scale the data as shown in:\n",
      "    https://scikit-learn.org/stable/modules/preprocessing.html\n",
      "Please also refer to the documentation for alternative solver options:\n",
      "    https://scikit-learn.org/stable/modules/linear_model.html#logistic-regression\n",
      "  n_iter_i = _check_optimize_result(\n"
     ]
    }
   ],
   "source": [
    "lr=LogisticRegression(random_state=2021)\n",
    "lr.fit(x_train,y_train)\n",
    "lr_y_pred_prob=lr.predict_proba(x_test)[:,1]\n",
    "print('AUC SCORE;',roc_auc_score(y_test,lr_y_pred_prob))"
   ]
  },
  {
   "cell_type": "code",
   "execution_count": 145,
   "id": "c135b659",
   "metadata": {},
   "outputs": [
    {
     "name": "stdout",
     "output_type": "stream",
     "text": [
      "AUC SCORE; 0.7329787234042553\n"
     ]
    }
   ],
   "source": [
    "dt=DecisionTreeClassifier(random_state=2021)\n",
    "dt.fit(x_train,y_train)\n",
    "dt_y_pred_prob=dt.predict_proba(x_test)[:,1]\n",
    "print('AUC SCORE;',roc_auc_score(y_test,dt_y_pred_prob))"
   ]
  },
  {
   "cell_type": "code",
   "execution_count": null,
   "id": "8673588c",
   "metadata": {},
   "outputs": [],
   "source": []
  }
 ],
 "metadata": {
  "kernelspec": {
   "display_name": "Python 3 (ipykernel)",
   "language": "python",
   "name": "python3"
  },
  "language_info": {
   "codemirror_mode": {
    "name": "ipython",
    "version": 3
   },
   "file_extension": ".py",
   "mimetype": "text/x-python",
   "name": "python",
   "nbconvert_exporter": "python",
   "pygments_lexer": "ipython3",
   "version": "3.9.7"
  }
 },
 "nbformat": 4,
 "nbformat_minor": 5
}
